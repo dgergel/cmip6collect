{
 "cells": [
  {
   "cell_type": "markdown",
   "metadata": {},
   "source": [
    "# Update datasets in GC which have newer versions available\n",
    "- not sufficiently tested - BE CAREFUL"
   ]
  },
  {
   "cell_type": "code",
   "execution_count": 1,
   "metadata": {},
   "outputs": [],
   "source": [
    "import numpy as np\n",
    "import pandas as pd\n",
    "import os\n",
    "import gcsfs\n",
    "import xarray as xr\n",
    "from functools import partial\n",
    "from IPython.display import display\n",
    "from glob import glob\n",
    "import warnings\n",
    "import datetime"
   ]
  },
  {
   "cell_type": "markdown",
   "metadata": {},
   "source": [
    "### Local modules"
   ]
  },
  {
   "cell_type": "code",
   "execution_count": 2,
   "metadata": {},
   "outputs": [],
   "source": [
    "from request import requests, set_request_id\n",
    "from search import search_new, esgf_search_sites\n",
    "from netcdf import get_ncfiles, concatenate\n",
    "from identify import needed_newversion, get_version\n",
    "from response import response, dict_to_dfcat, get_details"
   ]
  },
  {
   "cell_type": "code",
   "execution_count": 3,
   "metadata": {},
   "outputs": [],
   "source": [
    "def getFolderSize(p):\n",
    "    prepend = partial(os.path.join, p)\n",
    "    return sum([(os.path.getsize(f) if os.path.isfile(f) else getFolderSize(f)) for f in map(prepend, os.listdir(p))])"
   ]
  },
  {
   "cell_type": "markdown",
   "metadata": {},
   "source": [
    "### Initialization"
   ]
  },
  {
   "cell_type": "code",
   "execution_count": 4,
   "metadata": {},
   "outputs": [],
   "source": [
    "# Where to write NEW zarr stores:\n",
    "zarr_local = '/h68/naomi/zarr-minimal'\n",
    "\n",
    "#zarr_local = '/d1/naomi/cmip6-zarrs'  # usually matches location in nb1-DataRequests\n",
    "\n",
    "#local_storage = True\n",
    "local_storage = False\n",
    "\n",
    "fs = gcsfs.GCSFileSystem(token='anon', access='read_only')"
   ]
  },
  {
   "cell_type": "markdown",
   "metadata": {},
   "source": [
    "### Choose basic configuration parameters"
   ]
  },
  {
   "cell_type": "code",
   "execution_count": 5,
   "metadata": {},
   "outputs": [
    {
     "name": "stdout",
     "output_type": "stream",
     "text": [
      "possible ESGF API search nodes:  ['llnl', 'ipsl', 'nci', 'ceda', 'jpl', 'gfdl', 'dkrz']\n"
     ]
    }
   ],
   "source": [
    "dtype = esgf_search_sites()\n",
    "\n",
    "local_node=False\n",
    "\n",
    "print('possible ESGF API search nodes: ',list(dtype.keys()))\n",
    "\n",
    "ESGF_site = dtype['llnl']#;local_node = True\n",
    "\n",
    "#ESGF_site = dtype['gfdl']\n",
    "#ESGF_site = dtype['ipsl']\n",
    "#ESGF_site = dtype['ceda']\n",
    "\n",
    "# List sites to skip for aquiring new netcdf files: broken or slow sites\n",
    "skip_sites = []#'esg.lasg.ac.cn','esgf-data2.diasjp.net','esgf-cnr.hpc.cineca.it'] #['dist.nmlab.snu.ac.kr']"
   ]
  },
  {
   "cell_type": "markdown",
   "metadata": {},
   "source": [
    "### Get prior Google Sheet requests"
   ]
  },
  {
   "cell_type": "code",
   "execution_count": 6,
   "metadata": {},
   "outputs": [
    {
     "data": {
      "text/plain": [
       "Index(['Timestamp', 'E-mail', 'response status', 'members', 'experiments', 'models', 'variables', 'table', 'requester', 'science', 'comments'], dtype='object')"
      ]
     },
     "execution_count": 6,
     "metadata": {},
     "output_type": "execute_result"
    }
   ],
   "source": [
    "df_prior = pd.read_csv('csv/requests.csv')\n",
    "#df_prior\n",
    "df_prior.keys()"
   ]
  },
  {
   "cell_type": "markdown",
   "metadata": {},
   "source": [
    "### Get new Google Sheet requests\n",
    "- by default, only the new rows from the sheet are considered\n",
    "- specifying a list of rows or emails will add older entries "
   ]
  },
  {
   "cell_type": "code",
   "execution_count": 7,
   "metadata": {},
   "outputs": [
    {
     "data": {
      "text/html": [
       "<div>\n",
       "<style scoped>\n",
       "    .dataframe tbody tr th:only-of-type {\n",
       "        vertical-align: middle;\n",
       "    }\n",
       "\n",
       "    .dataframe tbody tr th {\n",
       "        vertical-align: top;\n",
       "    }\n",
       "\n",
       "    .dataframe thead th {\n",
       "        text-align: right;\n",
       "    }\n",
       "</style>\n",
       "<table border=\"1\" class=\"dataframe\">\n",
       "  <thead>\n",
       "    <tr style=\"text-align: right;\">\n",
       "      <th></th>\n",
       "      <th>Timestamp</th>\n",
       "      <th>E-mail</th>\n",
       "      <th>response status</th>\n",
       "      <th>members</th>\n",
       "      <th>experiments</th>\n",
       "      <th>models</th>\n",
       "      <th>variables</th>\n",
       "      <th>table</th>\n",
       "      <th>requester</th>\n",
       "      <th>science</th>\n",
       "      <th>comments</th>\n",
       "    </tr>\n",
       "  </thead>\n",
       "  <tbody>\n",
       "    <tr>\n",
       "      <th>0</th>\n",
       "      <td>9/9/2019 14:13:56</td>\n",
       "      <td>rpa@ldeo.columbia.edu</td>\n",
       "      <td>frequent</td>\n",
       "      <td>[All]</td>\n",
       "      <td>[ssp126, ssp245, ssp370, ssp585, ssp119, ssp43...</td>\n",
       "      <td>[All]</td>\n",
       "      <td>[ts, psl, hfls, ps, sfcWind, uas, vas, tas]</td>\n",
       "      <td>Amon</td>\n",
       "      <td>Ryan</td>\n",
       "      <td>Basics</td>\n",
       "      <td>NaN</td>\n",
       "    </tr>\n",
       "    <tr>\n",
       "      <th>183</th>\n",
       "      <td>2020-06-13</td>\n",
       "      <td>naomi@ldeo.columbia.edu</td>\n",
       "      <td>frequent</td>\n",
       "      <td>[All]</td>\n",
       "      <td>[historical]</td>\n",
       "      <td>[All]</td>\n",
       "      <td>[pr, prc, ts, ps, tas]</td>\n",
       "      <td>Amon</td>\n",
       "      <td>naomi</td>\n",
       "      <td>Basics</td>\n",
       "      <td>NaN</td>\n",
       "    </tr>\n",
       "  </tbody>\n",
       "</table>\n",
       "</div>"
      ],
      "text/plain": [
       "             Timestamp                   E-mail response status members                                        experiments models                                    variables table requester science comments\n",
       "0    9/9/2019 14:13:56    rpa@ldeo.columbia.edu        frequent   [All]  [ssp126, ssp245, ssp370, ssp585, ssp119, ssp43...  [All]  [ts, psl, hfls, ps, sfcWind, uas, vas, tas]  Amon      Ryan  Basics      NaN\n",
       "183         2020-06-13  naomi@ldeo.columbia.edu        frequent   [All]                                       [historical]  [All]                       [pr, prc, ts, ps, tas]  Amon     naomi  Basics      NaN"
      ]
     },
     "execution_count": 7,
     "metadata": {},
     "output_type": "execute_result"
    }
   ],
   "source": [
    "rows = []   \n",
    "emails = []\n",
    "\n",
    "# modify here:\n",
    "\n",
    "rows = [0]\n",
    "\n",
    "#emails = ['neil.swart@canada.ca']\n",
    "df_request_new, dtrouble = requests(df_prior,rows=rows,emails=emails)\n",
    "\n",
    "request_id = set_request_id()\n",
    "\n",
    "# Check for mal-formed requests (non-existent variables, etc)\n",
    "if len(dtrouble)>=1:\n",
    "    print(dtrouble)\n",
    "\n",
    "df_request_new"
   ]
  },
  {
   "cell_type": "code",
   "execution_count": 8,
   "metadata": {},
   "outputs": [
    {
     "name": "stdout",
     "output_type": "stream",
     "text": [
      "['9/9/2019 14:13:56' '2020-06-13']\n"
     ]
    },
    {
     "data": {
      "text/html": [
       "<div>\n",
       "<style scoped>\n",
       "    .dataframe tbody tr th:only-of-type {\n",
       "        vertical-align: middle;\n",
       "    }\n",
       "\n",
       "    .dataframe tbody tr th {\n",
       "        vertical-align: top;\n",
       "    }\n",
       "\n",
       "    .dataframe thead th {\n",
       "        text-align: right;\n",
       "    }\n",
       "</style>\n",
       "<table border=\"1\" class=\"dataframe\">\n",
       "  <thead>\n",
       "    <tr style=\"text-align: right;\">\n",
       "      <th></th>\n",
       "      <th>Timestamp</th>\n",
       "      <th>E-mail</th>\n",
       "      <th>response status</th>\n",
       "      <th>members</th>\n",
       "      <th>experiments</th>\n",
       "      <th>models</th>\n",
       "      <th>variables</th>\n",
       "      <th>table</th>\n",
       "      <th>requester</th>\n",
       "      <th>science</th>\n",
       "      <th>comments</th>\n",
       "    </tr>\n",
       "  </thead>\n",
       "  <tbody>\n",
       "    <tr>\n",
       "      <th>183</th>\n",
       "      <td>2020-06-13</td>\n",
       "      <td>naomi@ldeo.columbia.edu</td>\n",
       "      <td>frequent</td>\n",
       "      <td>[All]</td>\n",
       "      <td>[historical]</td>\n",
       "      <td>[All]</td>\n",
       "      <td>[pr, prc, ts, ps, tas]</td>\n",
       "      <td>Amon</td>\n",
       "      <td>naomi</td>\n",
       "      <td>Basics</td>\n",
       "      <td>NaN</td>\n",
       "    </tr>\n",
       "  </tbody>\n",
       "</table>\n",
       "</div>"
      ],
      "text/plain": [
       "      Timestamp                   E-mail response status members   experiments models               variables table requester science comments\n",
       "183  2020-06-13  naomi@ldeo.columbia.edu        frequent   [All]  [historical]  [All]  [pr, prc, ts, ps, tas]  Amon     naomi  Basics      NaN"
      ]
     },
     "execution_count": 8,
     "metadata": {},
     "output_type": "execute_result"
    }
   ],
   "source": [
    "# choose a new request to process:\n",
    "timestamps = df_request_new.Timestamp.unique()\n",
    "print(timestamps)\n",
    "#df_request_new = df_request_new[df_request_new.Timestamp == timestamps[-1]]\n",
    "df_request_new = df_request_new[df_request_new.requester == 'naomi']\n",
    "\n",
    "df_request_new"
   ]
  },
  {
   "cell_type": "markdown",
   "metadata": {},
   "source": [
    "### Search ESGF for the availability of requested data"
   ]
  },
  {
   "cell_type": "code",
   "execution_count": 9,
   "metadata": {},
   "outputs": [
    {
     "name": "stdout",
     "output_type": "stream",
     "text": [
      "https://esgf-node.llnl.gov/esg-search/search\n",
      "\n",
      "naomi@ldeo.columbia.edu\n",
      "Amon pr ['All'] historical\n",
      "Amon prc ['All'] historical\n",
      "Amon ts ['All'] historical\n",
      "Amon ps ['All'] historical\n",
      "Amon tas ['All'] historical\n"
     ]
    }
   ],
   "source": [
    "print(ESGF_site)\n",
    "df_ESGF = search_new(ESGF_site,df_request_new,local_node=local_node)"
   ]
  },
  {
   "cell_type": "markdown",
   "metadata": {},
   "source": [
    "### Get the master list of existing zarr stores\n",
    "- df_master includes all curated stores\n",
    "- df_avail includes all stores, even those with known ES-DOC issues "
   ]
  },
  {
   "cell_type": "code",
   "execution_count": 10,
   "metadata": {},
   "outputs": [
    {
     "name": "stderr",
     "output_type": "stream",
     "text": [
      "/usr/local/python/anaconda3/envs/pangeo-Oct2019/lib/python3.7/site-packages/IPython/core/interactiveshell.py:3063: DtypeWarning: Columns (13) have mixed types. Specify dtype option on import or set low_memory=False.\n",
      "  interactivity=interactivity, compiler=compiler, result=result)\n"
     ]
    },
    {
     "data": {
      "text/plain": [
       "(274251, 40210)"
      ]
     },
     "execution_count": 10,
     "metadata": {},
     "output_type": "execute_result"
    }
   ],
   "source": [
    "import qgrid\n",
    "df_avail = pd.read_csv('https://cmip6.storage.googleapis.com/cmip6-zarr-consolidated-stores-noQC.csv')\n",
    "len(df_avail),len(df_ESGF)\n",
    "#qgrid.show_grid(df_ESGF)"
   ]
  },
  {
   "cell_type": "markdown",
   "metadata": {},
   "source": [
    "### Check the new requests:\n",
    "- already exists in df_avail (what we have) - is version the same? if so, then not needed.\n",
    "- exists in df_ESGF (what is available) - if not available, then not needed|"
   ]
  },
  {
   "cell_type": "code",
   "execution_count": 11,
   "metadata": {},
   "outputs": [
    {
     "name": "stdout",
     "output_type": "stream",
     "text": [
      "['v20190306' 'v20190429']\n",
      "new version available gs://cmip6/CMIP/E3SM-Project/E3SM-1-0/historical/r1i1p1f1/Amon/pr/gr/ new:  20190913 old:  ambiguous\n",
      "new version available gs://cmip6/CMIP/E3SM-Project/E3SM-1-0/historical/r4i1p1f1/Amon/pr/gr/ new:  20190916 old:  ambiguous\n",
      "new version available gs://cmip6/CMIP/EC-Earth-Consortium/EC-Earth3-Veg/historical/r1i1p1f1/Amon/pr/gr/ new:  20200225 old:  20190605\n",
      "new version available gs://cmip6/CMIP/EC-Earth-Consortium/EC-Earth3-Veg/historical/r2i1p1f1/Amon/pr/gr/ new:  20200226 old:  20190911\n",
      "new version available gs://cmip6/CMIP/EC-Earth-Consortium/EC-Earth3-Veg/historical/r3i1p1f1/Amon/pr/gr/ new:  20200226 old:  20190911\n",
      "new version available gs://cmip6/CMIP/EC-Earth-Consortium/EC-Earth3-Veg/historical/r4i1p1f1/Amon/pr/gr/ new:  20200425 old:  20190728\n",
      "new version available gs://cmip6/CMIP/EC-Earth-Consortium/EC-Earth3/historical/r1i1p1f1/Amon/pr/gr/ new:  20200310 old:  20190926\n",
      "new version available gs://cmip6/CMIP/EC-Earth-Consortium/EC-Earth3/historical/r22i1p1f1/Amon/pr/gr/ new:  20200214 old:  20190625\n",
      "['v20190725' 'v20200403']\n",
      "new version available gs://cmip6/CMIP/EC-Earth-Consortium/EC-Earth3/historical/r4i1p1f1/Amon/pr/gr/ new:  20200425 old:  20190721\n",
      "new version available gs://cmip6/CMIP/EC-Earth-Consortium/EC-Earth3/historical/r7i1p1f1/Amon/pr/gr/ new:  20200314 old:  20190725\n",
      "new version available gs://cmip6/CMIP/FIO-QLNM/FIO-ESM-2-0/historical/r2i1p1f1/Amon/pr/gn/ new:  20200116 old:  20191209\n",
      "new version available gs://cmip6/CMIP/FIO-QLNM/FIO-ESM-2-0/historical/r3i1p1f1/Amon/pr/gn/ new:  20200116 old:  20191209\n",
      "new version available gs://cmip6/CMIP/NCAR/CESM2/historical/r9i1p1f1/Amon/pr/gn/ new:  20200124 old:  ambiguous\n",
      "new version available gs://cmip6/CMIP/THU/CIESM/historical/r1i1p1f1/Amon/pr/gr/ new:  20200417 old:  ambiguous\n",
      "new version available gs://cmip6/CMIP/THU/CIESM/historical/r2i1p1f1/Amon/pr/gr/ new:  20200417 old:  ambiguous\n",
      "new version available gs://cmip6/CMIP/UA/MCM-UA-1-0/historical/r1i1p1f1/Amon/pr/gn/ new:  20191017 old:  20190731\n",
      "new version available gs://cmip6/CMIP/E3SM-Project/E3SM-1-0/historical/r1i1p1f1/Amon/prc/gr/ new:  20190913 old:  ambiguous\n",
      "new version available gs://cmip6/CMIP/E3SM-Project/E3SM-1-0/historical/r4i1p1f1/Amon/prc/gr/ new:  20190916 old:  ambiguous\n",
      "new version available gs://cmip6/CMIP/EC-Earth-Consortium/EC-Earth3-Veg/historical/r4i1p1f1/Amon/prc/gr/ new:  20200425 old:  20190728\n",
      "['v20190725' 'v20200403']\n",
      "new version available gs://cmip6/CMIP/EC-Earth-Consortium/EC-Earth3/historical/r4i1p1f1/Amon/prc/gr/ new:  20200425 old:  20190721\n",
      "new version available gs://cmip6/CMIP/THU/CIESM/historical/r1i1p1f1/Amon/prc/gr/ new:  20200417 old:  ambiguous\n",
      "new version available gs://cmip6/CMIP/THU/CIESM/historical/r2i1p1f1/Amon/prc/gr/ new:  20200417 old:  ambiguous\n",
      "new version available gs://cmip6/CMIP/CAMS/CAMS-CSM1-0/historical/r1i1p1f1/Amon/ts/gn/ new:  20190708 old:  1\n",
      "new version available gs://cmip6/CMIP/E3SM-Project/E3SM-1-0/historical/r1i1p1f1/Amon/ts/gr/ new:  20190913 old:  ambiguous\n",
      "new version available gs://cmip6/CMIP/E3SM-Project/E3SM-1-0/historical/r4i1p1f1/Amon/ts/gr/ new:  20190916 old:  ambiguous\n",
      "new version available gs://cmip6/CMIP/EC-Earth-Consortium/EC-Earth3-Veg/historical/r1i1p1f1/Amon/ts/gr/ new:  20200225 old:  20190605\n",
      "new version available gs://cmip6/CMIP/EC-Earth-Consortium/EC-Earth3-Veg/historical/r2i1p1f1/Amon/ts/gr/ new:  20200226 old:  20190911\n",
      "new version available gs://cmip6/CMIP/EC-Earth-Consortium/EC-Earth3-Veg/historical/r3i1p1f1/Amon/ts/gr/ new:  20200226 old:  20190911\n",
      "new version available gs://cmip6/CMIP/EC-Earth-Consortium/EC-Earth3/historical/r1i1p1f1/Amon/ts/gr/ new:  20200310 old:  20190926\n",
      "new version available gs://cmip6/CMIP/EC-Earth-Consortium/EC-Earth3/historical/r22i1p1f1/Amon/ts/gr/ new:  20200214 old:  20190625\n",
      "['v20190725' 'v20200403']\n",
      "new version available gs://cmip6/CMIP/EC-Earth-Consortium/EC-Earth3/historical/r4i1p1f1/Amon/ts/gr/ new:  20200425 old:  20190721\n",
      "new version available gs://cmip6/CMIP/EC-Earth-Consortium/EC-Earth3/historical/r7i1p1f1/Amon/ts/gr/ new:  20200314 old:  20190725\n",
      "new version available gs://cmip6/CMIP/THU/CIESM/historical/r1i1p1f1/Amon/ts/gr/ new:  20200417 old:  ambiguous\n",
      "new version available gs://cmip6/CMIP/THU/CIESM/historical/r2i1p1f1/Amon/ts/gr/ new:  20200417 old:  ambiguous\n",
      "['v20191015' 'v20200511']\n",
      "['v20191015' 'v20200511']\n",
      "['v20191015' 'v20200511']\n",
      "['v20191015' 'v20200511']\n",
      "['v20191015' 'v20200511']\n",
      "new version available gs://cmip6/CMIP/CAMS/CAMS-CSM1-0/historical/r1i1p1f1/Amon/ps/gn/ new:  20190708 old:  1\n",
      "['v20190306' 'v20190429']\n",
      "new version available gs://cmip6/CMIP/E3SM-Project/E3SM-1-0/historical/r1i1p1f1/Amon/ps/gr/ new:  20190913 old:  ambiguous\n",
      "new version available gs://cmip6/CMIP/E3SM-Project/E3SM-1-0/historical/r4i1p1f1/Amon/ps/gr/ new:  20190916 old:  ambiguous\n",
      "new version available gs://cmip6/CMIP/EC-Earth-Consortium/EC-Earth3-Veg/historical/r1i1p1f1/Amon/ps/gr/ new:  20200225 old:  20190605\n",
      "['v20191015' 'v20200511']\n",
      "['v20191015' 'v20200511']\n",
      "['v20191015' 'v20200511']\n",
      "['v20191015' 'v20200511']\n",
      "['v20191015' 'v20200511']\n",
      "['v20190306' 'v20190429']\n",
      "new version available gs://cmip6/CMIP/E3SM-Project/E3SM-1-0/historical/r1i1p1f1/Amon/tas/gr/ new:  20190913 old:  ambiguous\n",
      "new version available gs://cmip6/CMIP/E3SM-Project/E3SM-1-0/historical/r4i1p1f1/Amon/tas/gr/ new:  20190916 old:  ambiguous\n",
      "new version available gs://cmip6/CMIP/EC-Earth-Consortium/EC-Earth3-Veg/historical/r1i1p1f1/Amon/tas/gr/ new:  20200225 old:  20190605\n",
      "new version available gs://cmip6/CMIP/EC-Earth-Consortium/EC-Earth3-Veg/historical/r2i1p1f1/Amon/tas/gr/ new:  20200226 old:  20190911\n",
      "new version available gs://cmip6/CMIP/EC-Earth-Consortium/EC-Earth3-Veg/historical/r3i1p1f1/Amon/tas/gr/ new:  20200226 old:  20190911\n",
      "new version available gs://cmip6/CMIP/EC-Earth-Consortium/EC-Earth3-Veg/historical/r4i1p1f1/Amon/tas/gr/ new:  20200425 old:  20190728\n",
      "new version available gs://cmip6/CMIP/EC-Earth-Consortium/EC-Earth3/historical/r1i1p1f1/Amon/tas/gr/ new:  20200310 old:  20190926\n",
      "new version available gs://cmip6/CMIP/EC-Earth-Consortium/EC-Earth3/historical/r22i1p1f1/Amon/tas/gr/ new:  20200214 old:  20190625\n",
      "['v20190725' 'v20200403']\n",
      "new version available gs://cmip6/CMIP/EC-Earth-Consortium/EC-Earth3/historical/r7i1p1f1/Amon/tas/gr/ new:  20200314 old:  20190725\n",
      "new version available gs://cmip6/CMIP/FIO-QLNM/FIO-ESM-2-0/historical/r2i1p1f1/Amon/tas/gn/ new:  20200116 old:  20191115\n",
      "new version available gs://cmip6/CMIP/FIO-QLNM/FIO-ESM-2-0/historical/r3i1p1f1/Amon/tas/gn/ new:  20200116 old:  20191115\n",
      "new version available gs://cmip6/CMIP/NIMS-KMA/KACE-1-0-G/historical/r3i1p1f1/Amon/tas/gr/ new:  20191113 old:  20190919\n",
      "new version available gs://cmip6/CMIP/THU/CIESM/historical/r1i1p1f1/Amon/tas/gr/ new:  20200417 old:  ambiguous\n",
      "new version available gs://cmip6/CMIP/THU/CIESM/historical/r2i1p1f1/Amon/tas/gr/ new:  20200417 old:  ambiguous\n",
      "needed: nfiles=4220, nstores=52\n"
     ]
    }
   ],
   "source": [
    "df_needed = needed_newversion(df_avail, df_request_new, df_ESGF)\n",
    "\n",
    "if len(df_needed) > 0:\n",
    "    num_stores = df_needed.zstore.nunique() \n",
    "    print(f'needed: nfiles={len(df_needed)}, nstores={num_stores}')\n",
    "    #print(df_needed.zstore.unique())\n",
    "else:\n",
    "    print('no new data available')\n",
    "    exit"
   ]
  },
  {
   "cell_type": "code",
   "execution_count": 12,
   "metadata": {},
   "outputs": [
    {
     "ename": "AssertionError",
     "evalue": "",
     "output_type": "error",
     "traceback": [
      "\u001b[0;31m---------------------------------------------------------------------------\u001b[0m",
      "\u001b[0;31mAssertionError\u001b[0m                            Traceback (most recent call last)",
      "\u001b[0;32m<ipython-input-12-2b97708df030>\u001b[0m in \u001b[0;36m<module>\u001b[0;34m\u001b[0m\n\u001b[0;32m----> 1\u001b[0;31m \u001b[0;32massert\u001b[0m \u001b[0;32mFalse\u001b[0m\u001b[0;34m\u001b[0m\u001b[0;34m\u001b[0m\u001b[0m\n\u001b[0m",
      "\u001b[0;31mAssertionError\u001b[0m: "
     ]
    }
   ],
   "source": [
    "assert False "
   ]
  },
  {
   "cell_type": "markdown",
   "metadata": {},
   "source": [
    "### Start logging the progress and exceptions"
   ]
  },
  {
   "cell_type": "code",
   "execution_count": null,
   "metadata": {},
   "outputs": [],
   "source": [
    "cat_file = 'csv/cmip6_'+request_id+'.csv'\n",
    "log_file = 'txt/request_'+request_id+'.log'\n",
    "print(log_file)"
   ]
  },
  {
   "cell_type": "code",
   "execution_count": null,
   "metadata": {},
   "outputs": [],
   "source": [
    "# open and close for each write in case of kernel interrupt\n",
    "def write_log(file,str,verbose=True):\n",
    "    f = open(file,'a')\n",
    "    if verbose:\n",
    "        print(str)\n",
    "    f.write(str+'\\n')\n",
    "    f.close()\n",
    "    return"
   ]
  },
  {
   "cell_type": "code",
   "execution_count": null,
   "metadata": {},
   "outputs": [],
   "source": [
    "df_needed['member'] = [int(s.split('r')[-1].split('i')[0]) for s in df_needed['member_id']]\n",
    "df_needed = df_needed.sort_values(by=['source_id'])\n",
    "df_needed = df_needed.sort_values(by=['member'])\n",
    "#df_needed"
   ]
  },
  {
   "cell_type": "markdown",
   "metadata": {
    "jupyter": {
     "outputs_hidden": true
    }
   },
   "source": [
    "### The real work is done in this next loop \n",
    "- could be done in parallel except for the writing to the log file"
   ]
  },
  {
   "cell_type": "code",
   "execution_count": null,
   "metadata": {},
   "outputs": [],
   "source": [
    "# reload the catalog\n",
    "df_GCS = pd.read_csv('https://cmip6.storage.googleapis.com/cmip6-zarr-consolidated-stores-noQC.csv', dtype='unicode')\n",
    "\n",
    "date = str(datetime.datetime.now().strftime(\"%Y%m%d\"))\n",
    "os.system('cp /home/naomi/cmip6-zarr/csv/pangeo-cmip6-noQC.csv /home/naomi/cmip6-zarr/csv/pangeo-cmip6-'+date+'-noQC.csv')\n",
    "\n",
    "if local_storage:\n",
    "    df_loc = pd.read_csv('shelf-new/local.csv', dtype='unicode')\n",
    "\n",
    "# refresh the gcsfs\n",
    "fs = gcsfs.GCSFileSystem(token='anon', access='read_only',cache_timeout=-1)\n",
    "\n",
    "new_zarrs = df_needed.zstore.unique()\n",
    "\n",
    "verbose = True\n",
    "\n",
    "zbdirs = []\n",
    "for i in range(1,84):\n",
    "    zbdirs += ['/h'+str(i)]\n",
    "\n",
    "for item,zarr in enumerate(new_zarrs):\n",
    "    #if item >0:\n",
    "    #    continue\n",
    "    \n",
    "    zbdir  = zarr_local  + zarr\n",
    "    zbtemp = 'zbtemp' + zarr\n",
    "    \n",
    "    write_log(log_file,f\"\\n>>{item+1}/{num_stores}:<< local file: {zbdir}\",verbose=verbose)\n",
    "    \n",
    "    # is zarr already in cloud?  Unreliable\n",
    "    gsurl = 'gs://cmip6' + zarr\n",
    "    \n",
    "    try:\n",
    "        dataset_id, version_id = get_version(gsurl)\n",
    "    except:\n",
    "        version_id = 'unknown'\n",
    "    \n",
    "    cstore = df_GCS[df_GCS.zstore == gsurl]\n",
    "    if len(cstore) > 0:\n",
    "       print(cstore.zstore.values,cstore.version.values)\n",
    "       print('store in cloud catalog')  # or on a shelf drive which is already in cloud\n",
    "       #continue\n",
    "        \n",
    "    new_version = df_needed[df_needed.zstore==zarr].version.unique()\n",
    "    \n",
    "    if new_version[0][1:] == version_id:\n",
    "        print('new version already uploaded',version_id)\n",
    "        continue\n",
    "        \n",
    "    # CHECK IN shelf-new/local.csv\n",
    "    if local_storage:\n",
    "        df1 = df_loc[df_loc['zstore'].str.contains(zarr[:-1])]\n",
    "\n",
    "    gfiles,troubles,codes,okay = get_ncfiles(zarr,df_needed,skip_sites)\n",
    "    \n",
    "    write_log(log_file,troubles,verbose=verbose)\n",
    "    \n",
    "    if okay == False:\n",
    "        continue\n",
    "\n",
    "    if len(gfiles) == 0: \n",
    "        write_log(log_file,'no files available',verbose=verbose)\n",
    "        continue\n",
    "    \n",
    "    variable_id = zarr.split('/')[-3]\n",
    "    for gfile in gfiles:   # changes file sizes!!\n",
    "        command = '/usr/bin/ncatted -h -O -a missing_value\\,'+variable_id+',d,, '+gfile\n",
    "        os.system(command)\n",
    "\n",
    "    # concatenate in time with mfdataset\n",
    "    #print(gfiles)\n",
    "    gfiles = sorted(gfiles)\n",
    "    status, ds, dstr = concatenate(zarr,gfiles,codes)  \n",
    "\n",
    "    if status == 'failure':\n",
    "        write_log(log_file,status+dstr,verbose=verbose)\n",
    "        continue\n",
    "    else:\n",
    "        write_log(log_file,dstr)\n",
    "\n",
    "    # 0. save new zstore\n",
    "    try:\n",
    "        del ds[variable_id].encoding['missing_value']\n",
    "        ds.to_zarr(zbtemp, consolidated=True, mode='w')\n",
    "    except:\n",
    "        ds.to_zarr(zbtemp, consolidated=True, mode='w')\n",
    "        \n",
    "    if not os.path.isfile(zbtemp+'/.zmetadata'):\n",
    "        write_log(log_file,'to_zarr failure: ',verbose=verbose)\n",
    "        continue\n",
    "     \n",
    "    # 1. delete old version in GC\n",
    "    command = '/usr/bin/gsutil -m rm -r '+ gsurl[:-1]\n",
    "    print(command)\n",
    "    os.system(command) \n",
    "    \n",
    "    # 2. delete entry in ncsv/GC_files_{activity_id}-{institution_id}.csv\n",
    "    activity_id = cstore.activity_id.values[0]\n",
    "    institution_id = cstore.institution_id.values[0]\n",
    "    \n",
    "    file = f'/home/naomi/cmip6-zarr/ncsv/GC_files_{activity_id}-{institution_id}.csv'\n",
    "    #print('modifying ',file)\n",
    "    with open(file, \"r\") as f:\n",
    "        lines = f.readlines()\n",
    "    with open(file, \"w\") as f:\n",
    "        for line in lines:\n",
    "            if line.strip(\"\\n\") != gsurl + \".zmetadata\":\n",
    "                f.write(line)\n",
    "        \n",
    "    if local_storage:\n",
    "        # 3. delete old local copy(ies)\n",
    "        for zloc in df1.zstore.values:\n",
    "            if os.path.exists(zloc):\n",
    "                command = '/bin/rm -rf '+ zloc\n",
    "                print(command)\n",
    "                os.system(command)\n",
    "            else:\n",
    "                print('not active: ',zloc)\n",
    "    \n",
    "        # 4. delete entry(ies) in shelf-new/h*.csv\n",
    "        for zloc in df1.zstore.values:\n",
    "            file = 'shelf-new/' + zloc.split('/')[1] + '.csv'\n",
    "            print(file)\n",
    "            writeable = os.access(file, os.W_OK)\n",
    "            if not writeable:\n",
    "                command = \"chmod u+w \" + file\n",
    "                #print(command)\n",
    "                os.system(command)\n",
    "\n",
    "            dfff = pd.read_csv(file)\n",
    "            dff = dfff[dfff.zstore != zloc]\n",
    "            dff.to_csv(file, mode='w+', index=False)\n",
    "\n",
    "            if not writeable:\n",
    "                command = \"chmod u-w \" + file\n",
    "                #print(command)\n",
    "                os.system(command)\n",
    "\n",
    "        # 5. copy zbtemp to zbdir\n",
    "        grid_label = zbdir[:-1].split('/')[-1]\n",
    "        command = 'mkdir -p ' + zbdir.split(grid_label)[0]\n",
    "        os.system(command) \n",
    "        command = '/bin/cp -r '+ zbtemp[:-1] + ' ' + zbdir[:-1]\n",
    "        write_log(log_file,command,verbose=verbose)\n",
    "        os.system(command) \n",
    "    \n",
    "    # 6. upload to cloud\n",
    "    command = '/usr/bin/gsutil -m cp -r '+ zbtemp[:-1] + ' ' + gsurl[:-1]\n",
    "    write_log(log_file,command,verbose=verbose)\n",
    "    os.system(command) \n",
    "        \n",
    "    size_remote = fs.du(gsurl)\n",
    "    size_local = getFolderSize(zbdir)\n",
    "    assert (size_remote - size_local) < 100\n",
    "\n",
    "    try:\n",
    "        ds = xr.open_zarr(fs.get_mapper(gsurl), consolidated=True)\n",
    "        write_log(log_file,f'successfully saved as {gsurl}')\n",
    "        for gfile in gfiles:\n",
    "            os.system('rm -f '+ gfile)\n",
    "    except:\n",
    "        write_log(log_file,'store did not get saved to GCS properly')\n"
   ]
  },
  {
   "cell_type": "code",
   "execution_count": null,
   "metadata": {},
   "outputs": [],
   "source": []
  }
 ],
 "metadata": {
  "kernelspec": {
   "display_name": "pangeo-Oct2019",
   "language": "python",
   "name": "pangeo-oct2019"
  },
  "language_info": {
   "codemirror_mode": {
    "name": "ipython",
    "version": 3
   },
   "file_extension": ".py",
   "mimetype": "text/x-python",
   "name": "python",
   "nbconvert_exporter": "python",
   "pygments_lexer": "ipython3",
   "version": "3.7.3"
  }
 },
 "nbformat": 4,
 "nbformat_minor": 4
}
