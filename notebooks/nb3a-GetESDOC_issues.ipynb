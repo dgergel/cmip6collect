{
 "cells": [
  {
   "cell_type": "code",
   "execution_count": null,
   "metadata": {},
   "outputs": [],
   "source": [
    "import os\n",
    "import pandas as pd\n",
    "from glob import glob\n",
    "import json\n",
    "import fnmatch\n",
    "#import qgrid\n",
    "import urllib.request, json\n",
    "import datetime"
   ]
  },
  {
   "cell_type": "markdown",
   "metadata": {},
   "source": [
    "## Check the ES-DOC errata pages for updates\n",
    "- make 'csv/errata-files.csv' for using to make the updated catalog (nb2-NewCloudCat.ipynb)\n",
    "- many questions remain:\n",
    "  - does status=resolved mean these files have been REPLACED? same version?\n",
    "  - what do the various severity levels really mean? seems to be different for different models\n",
    "  - could make a list of changed/new issues\n",
    "  - could go through all 200+ issues and evaluate - feasible? make new boolean column 'include'\n",
    "  - how to more efficiently deal with issues with >1,000 files, etc"
   ]
  },
  {
   "cell_type": "code",
   "execution_count": null,
   "metadata": {},
   "outputs": [],
   "source": [
    "date = str(datetime.datetime.now().strftime(\"%Y%m%d\"))\n",
    "save_file = 'catalogs/retrieve-'+date+'.json'\n",
    "os.system('cp catalogs/retrieve.json '+save_file)\n",
    "\n",
    "os.system('wget --output-document=catalogs/retrieve.json https://errata.es-doc.org/1/issue/retrieve-all')"
   ]
  },
  {
   "cell_type": "code",
   "execution_count": null,
   "metadata": {},
   "outputs": [],
   "source": [
    "with open(save_file) as json_file:\n",
    "    esdoc_data_old = json.load(json_file)\n",
    "with open('catalogs/retrieve.json') as json_file:\n",
    "    esdoc_data = json.load(json_file)\n",
    "print(esdoc_data_old['count'],esdoc_data['count'])"
   ]
  },
  {
   "cell_type": "code",
   "execution_count": null,
   "metadata": {},
   "outputs": [],
   "source": [
    "issues=[]\n",
    "for issue in range(0,esdoc_data['count']):\n",
    "    uid = dict(esdoc_data['issues'][issue])['uid']\n",
    "    issues += [uid]\n",
    "    command = '/usr/bin/esgissue retrieve -i $PWD/issues -d $PWD/dsets --id ' + uid\n",
    "    print(issue,command)\n",
    "    os.system(command)"
   ]
  },
  {
   "cell_type": "code",
   "execution_count": null,
   "metadata": {},
   "outputs": [],
   "source": [
    "df = pd.DataFrame(columns=['uid', 'title', 'description', 'project', 'severity', 'status','urls'])\n",
    "df_list = []\n",
    "for item,issue in enumerate(issues):\n",
    "    file_dsets = 'dsets/dset_'+issue+'.txt'\n",
    "    if not os.path.isfile(file_dsets):\n",
    "        file_dsets = 'dsets/dset_none.txt'\n",
    "\n",
    "    file_issue = 'issues/issue_'+issue+'.json'\n",
    "    \n",
    "    with open(file_issue) as json_file:\n",
    "        dict_issue = json.load(json_file)\n",
    "   \n",
    "    try:\n",
    "        dlist = dict_issue['urls']\n",
    "    except:\n",
    "        dict_issue['urls'] = []\n",
    "    \n",
    "    df = df.append(dict_issue,ignore_index=True)\n",
    "    df_dsets = pd.read_csv(file_dsets,delim_whitespace=True,header=None)\n",
    "    df_dsets = df_dsets.rename(columns={0: \"file_id\"}).set_index([df_dsets.index])\n",
    "    df_list += [list(df_dsets.file_id.values)]\n",
    "\n",
    "df['file_ids'] = df_list\n",
    "df = df.rename(columns={\"uid\": \"issue_uid\"})"
   ]
  },
  {
   "cell_type": "code",
   "execution_count": null,
   "metadata": {},
   "outputs": [],
   "source": [
    "df.to_csv('csv/ES-DOC_issues.csv', index=False)\n",
    "df.tail()"
   ]
  },
  {
   "cell_type": "code",
   "execution_count": null,
   "metadata": {},
   "outputs": [],
   "source": [
    "keywords = ['issue_uid','source_id', 'experiment_id', 'member_id', 'table_id', 'variable_id', 'grid_label', 'version', 'file_id','status','severity','issue_url']\n",
    "df_all = []\n",
    "for index, row in df.iterrows():\n",
    "    file_id = row['file_ids']\n",
    "    issue = row['issue_uid']\n",
    "    status = row['status']\n",
    "    severity = row['severity']\n",
    "    issue_url = \"https://errata.es-doc.org/static/view.html?uid=\"+issue\n",
    "    dfs = pd.DataFrame(columns=keywords)\n",
    "    print(index, ': issue uid:', issue, ', number of affected files:',len(file_id))\n",
    "    for file in file_id:\n",
    "        try:\n",
    "            [fill,activity_id,institution_id,source_id,experiment_id,member_id,table_id,variable_id,grid_version] = file.split('.')\n",
    "            [grid_label,version] = grid_version.split('#')\n",
    "            klist = [issue,source_id,experiment_id,member_id,table_id,variable_id,grid_label,version,file,status,severity,issue_url]\n",
    "            kdict = dict(zip(keywords, klist))\n",
    "            dfs = dfs.append(kdict,ignore_index=True)\n",
    "            df_all += [dfs]\n",
    "        except:   # one issue has a list of datasets with two lines that need to be split apart\n",
    "            [s1,s2,s3]=file.split('CMIP6')\n",
    "            files = ['CMIP6'+s2,'CMIP6'+s3]\n",
    "            for f in files:\n",
    "                [fill,activity_id,institution_id,source_id,experiment_id,member_id,table_id,variable_id,grid_version] = f.split('.')\n",
    "                [grid_label,version] = grid_version.split('#')\n",
    "                klist = [issue,source_id,experiment_id,member_id,table_id,variable_id,grid_label,version,f,status,severity,issue_url]\n",
    "                kdict = dict(zip(keywords, klist))\n",
    "                dfs = dfs.append(kdict,ignore_index=True)\n",
    "                df_all += [dfs]\n",
    "df_expand = pd.concat(df_all,sort=False).drop_duplicates(subset =[\"file_id\"])"
   ]
  },
  {
   "cell_type": "code",
   "execution_count": null,
   "metadata": {},
   "outputs": [],
   "source": [
    "df_expand[['source_id','file_id']].groupby(['source_id']).count()\n",
    "#df_expand"
   ]
  },
  {
   "cell_type": "code",
   "execution_count": null,
   "metadata": {},
   "outputs": [],
   "source": [
    "import datetime\n",
    "date = str(datetime.datetime.now().strftime(\"%Y%m%d\"))\n",
    "os.system('cp csv/errata-files.csv csv/errata-files-'+date+'.csv')\n",
    "df_expand.to_csv('csv/errata-files.csv', mode='w+', index=False)"
   ]
  },
  {
   "cell_type": "code",
   "execution_count": null,
   "metadata": {},
   "outputs": [],
   "source": [
    "assert False\n",
    "# rest of notebook is just for testing"
   ]
  },
  {
   "cell_type": "code",
   "execution_count": null,
   "metadata": {},
   "outputs": [],
   "source": [
    "# Make a dataframe to pass to nb1-ReplaceFixed.ipynb - will check 'resolved' tracking_ids and replace if needed\n",
    "\n",
    "df_fixed = df_expand[df_expand.status=='resolved']\n",
    "df_fixed['zstore'] = ['gs://cmip6/' + s.split('CMIP6.')[-1][:-9].replace('.','/') + '/' for s in df_fixed.file_id]\n",
    "\n",
    "zstores= df_fixed.zstore.unique()\n",
    "len(zstores)"
   ]
  },
  {
   "cell_type": "markdown",
   "metadata": {
    "jupyter": {
     "outputs_hidden": true
    }
   },
   "source": [
    "pd.set_option('display.max_rows', 500)\n",
    "pd.set_option('display.max_columns', 500)\n",
    "pd.set_option('display.width', 1000)\n",
    "import qgrid\n",
    "df_fixed.groupby(['source_id','table_id']).count()"
   ]
  },
  {
   "cell_type": "code",
   "execution_count": null,
   "metadata": {},
   "outputs": [],
   "source": [
    "# get dictionary of our existing zstores which may need to be updated\n",
    "import pickle\n",
    "\n",
    "with open(f'data/dict.pickle', 'rb') as handle:\n",
    "    ldict = pickle.load(handle)\n",
    "len(ldict)"
   ]
  },
  {
   "cell_type": "code",
   "execution_count": null,
   "metadata": {},
   "outputs": [],
   "source": [
    "lfix = {}\n",
    "for zstore in zstores:\n",
    "    try:\n",
    "        lstore = ldict[zstore]\n",
    "        lfix[zstore]=lstore\n",
    "    except:\n",
    "        continue"
   ]
  },
  {
   "cell_type": "code",
   "execution_count": null,
   "metadata": {},
   "outputs": [],
   "source": [
    "keywords = ['activity_id','institution_id','source_id', 'experiment_id', 'member_id', 'table_id', \n",
    "            'variable_id', 'grid_label', 'zstore', 'issue_uid']\n",
    "dfs = pd.DataFrame(columns=keywords)\n",
    "for zstore, lstore in lfix.items():\n",
    "    #print(zstore)\n",
    "    issue = df_fixed.query(f'zstore==\"{zstore}\"').issue_uid.values[0]\n",
    "    zarr = zstore.split('gs://cmip6/')[-1][:-1]\n",
    "    [activity_id,institution_id,source_id,experiment_id,member_id,table_id,variable_id,grid_label] = zarr.split('/')\n",
    "    klist = [activity_id,institution_id,source_id,experiment_id,member_id,table_id,variable_id,grid_label,zstore,issue]\n",
    "    kdict = dict(zip(keywords, klist))\n",
    "    dfs = dfs.append(kdict,ignore_index=True)"
   ]
  },
  {
   "cell_type": "code",
   "execution_count": null,
   "metadata": {},
   "outputs": [],
   "source": [
    "date = str(datetime.datetime.now().strftime(\"%Y%m%d\"))\n",
    "os.system('cp csv/to_fix.csv csv/to_fix-'+date+'.csv')\n",
    "dfs.to_csv('csv/to_fix.csv',index=False)"
   ]
  },
  {
   "cell_type": "code",
   "execution_count": null,
   "metadata": {},
   "outputs": [],
   "source": [
    "dfs\n"
   ]
  },
  {
   "cell_type": "code",
   "execution_count": null,
   "metadata": {},
   "outputs": [],
   "source": []
  }
 ],
 "metadata": {
  "kernelspec": {
   "display_name": "pangeo-Oct2019",
   "language": "python",
   "name": "pangeo-oct2019"
  },
  "language_info": {
   "codemirror_mode": {
    "name": "ipython",
    "version": 3
   },
   "file_extension": ".py",
   "mimetype": "text/x-python",
   "name": "python",
   "nbconvert_exporter": "python",
   "pygments_lexer": "ipython3",
   "version": "3.7.3"
  },
  "widgets": {
   "application/vnd.jupyter.widget-state+json": {
    "state": {},
    "version_major": 2,
    "version_minor": 0
   }
  }
 },
 "nbformat": 4,
 "nbformat_minor": 4
}
