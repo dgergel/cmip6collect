{
 "cells": [
  {
   "cell_type": "markdown",
   "metadata": {},
   "source": [
    "### CMIP6 Data Issues \n",
    "1. The ES-DOC errata pages are used for modelling centers to report issues with their published data here:\n",
    "      [ES-DOC ERRATA]( https://errata.es-doc.org )\n",
    "2. A separate list of exceptions is kept as we process the data (concatenating netcdf and saving as zarr)\n",
    "      [ESGF to GCS Issues]( https://docs.google.com/spreadsheets/d/e/2PACX-1vRxKgz1xCH7zhUoDnl_llgEvbj2ssxoJiTUdbkHkkfWiCKU8EfZtPerar3ELjoIzAda5giR06QvbWGE/pubhtml?gid=128595157&single=true )\n",
    "3. Issues with the existing Google Cloud collection are crowd sourced here:\n",
    "      [GCS Issues]( https://tinyurl.com/y5cw76at )"
   ]
  },
  {
   "cell_type": "markdown",
   "metadata": {},
   "source": [
    "### This notebook updates the list of processing exceptions in Issue 2."
   ]
  },
  {
   "cell_type": "code",
   "execution_count": 1,
   "metadata": {},
   "outputs": [
    {
     "data": {
      "text/plain": [
       "'3.1.0'"
      ]
     },
     "execution_count": 1,
     "metadata": {},
     "output_type": "execute_result"
    }
   ],
   "source": [
    "import gspread\n",
    "from oauth2client.service_account import ServiceAccountCredentials\n",
    "import pandas as pd\n",
    "from datetime import datetime\n",
    "from ast import literal_eval\n",
    "import os\n",
    "import numpy as np\n",
    "import os\n",
    "gspread.__version__"
   ]
  },
  {
   "cell_type": "code",
   "execution_count": 2,
   "metadata": {},
   "outputs": [],
   "source": [
    "json_keyfile = '/home/naomi/cmip6-zarr/json/Pangeo Hackathon-e48a41b13c91.json'\n",
    "scope = ['https://spreadsheets.google.com/feeds','https://www.googleapis.com/auth/drive']\n",
    "credentials = ServiceAccountCredentials.from_json_keyfile_name(json_keyfile, scope)\n",
    "gc = gspread.authorize(credentials)"
   ]
  },
  {
   "cell_type": "code",
   "execution_count": 3,
   "metadata": {},
   "outputs": [
    {
     "name": "stdout",
     "output_type": "stream",
     "text": [
      "[<Worksheet 'Form Responses 1' id:252604281>, <Worksheet 'NH_additions' id:128595157>]\n"
     ]
    }
   ],
   "source": [
    "sheet_name = \"CMIP6_DataExceptions (Responses)\"\n",
    "sh = gc.open(sheet_name)\n",
    "print(sh.worksheets())"
   ]
  },
  {
   "cell_type": "code",
   "execution_count": 4,
   "metadata": {},
   "outputs": [],
   "source": [
    "wks = sh.worksheet(\"NH_additions\")"
   ]
  },
  {
   "cell_type": "code",
   "execution_count": 5,
   "metadata": {},
   "outputs": [],
   "source": [
    "data = wks.get_all_values()\n",
    "headers = data.pop(0)\n",
    "\n",
    "df_cloud = pd.DataFrame(data, columns=headers)\n",
    "\n",
    "df_local = pd.read_csv('csv/exceptions.csv')\n",
    "df_local['name'] = ['/'.join(s[:-2]) for s in df_local.values]"
   ]
  },
  {
   "cell_type": "code",
   "execution_count": 6,
   "metadata": {},
   "outputs": [],
   "source": [
    "# add new from df_local\n",
    "for item,row in enumerate(df_local.values):\n",
    "    name = row[-1]\n",
    "    #print(item,name)\n",
    "    df_match = df_cloud[df_cloud.name==name]\n",
    "    if len(df_match)==0:\n",
    "        print(item,name,' is not in df_cloud')\n",
    "        wks.append_row(list(row))\n",
    "        \n",
    "# delete old from df\n",
    "for item,row in enumerate(df_cloud.values):\n",
    "    name = row[-1]\n",
    "    #print(item,name)\n",
    "    df_match = df_local[df_local.name==name]\n",
    "    if len(df_match)==0:\n",
    "        print(item,name,' is not in df_local')\n",
    "        wks.delete_row(item+2)\n"
   ]
  },
  {
   "cell_type": "code",
   "execution_count": null,
   "metadata": {},
   "outputs": [],
   "source": [
    "assert False  # just scratch space below"
   ]
  },
  {
   "cell_type": "code",
   "execution_count": null,
   "metadata": {},
   "outputs": [],
   "source": [
    "#wks.update_acell('B1', 'Bingo!')\n",
    "#wks.append_row(['junk','more_junk'])\n",
    "#wks.add_rows(2)\n",
    "#for row in df_local.values[:100]:\n",
    "#    wks.append_row(list(row))"
   ]
  },
  {
   "cell_type": "code",
   "execution_count": 7,
   "metadata": {},
   "outputs": [
    {
     "data": {
      "text/plain": [
       "(274, 274)"
      ]
     },
     "execution_count": 7,
     "metadata": {},
     "output_type": "execute_result"
    }
   ],
   "source": [
    "common_cols = df_cloud.columns.tolist()                              #generate list of column names\n",
    "df12 = pd.merge(df_cloud, df_local, on=common_cols, how='inner')     #extract common rows with merge\n",
    "df2 = df_local[~df_local['name'].isin(df12['name'])]\n",
    "df1 = df_cloud[~df_cloud['name'].isin(df12['name'])]\n",
    "len(df_cloud),len(df_local)"
   ]
  },
  {
   "cell_type": "code",
   "execution_count": null,
   "metadata": {},
   "outputs": [],
   "source": [
    "#dfdup = df[df.duplicated(keep=False)]"
   ]
  },
  {
   "cell_type": "code",
   "execution_count": null,
   "metadata": {},
   "outputs": [],
   "source": [
    "wks.delete_row(7)"
   ]
  },
  {
   "cell_type": "code",
   "execution_count": null,
   "metadata": {},
   "outputs": [],
   "source": [
    "wks.row_values(8)"
   ]
  },
  {
   "cell_type": "code",
   "execution_count": null,
   "metadata": {},
   "outputs": [],
   "source": []
  }
 ],
 "metadata": {
  "kernelspec": {
   "display_name": "pangeo-Oct2019",
   "language": "python",
   "name": "pangeo-oct2019"
  },
  "language_info": {
   "codemirror_mode": {
    "name": "ipython",
    "version": 3
   },
   "file_extension": ".py",
   "mimetype": "text/x-python",
   "name": "python",
   "nbconvert_exporter": "python",
   "pygments_lexer": "ipython3",
   "version": "3.7.3"
  }
 },
 "nbformat": 4,
 "nbformat_minor": 4
}
