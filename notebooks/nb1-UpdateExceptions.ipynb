{
 "cells": [
  {
   "cell_type": "markdown",
   "metadata": {},
   "source": [
    "### CMIP6 Data Issues \n",
    "1. The ES-DOC errata pages are used for modelling centers to report issues with their published data here:\n",
    "      [ES-DOC ERRATA]( https://errata.es-doc.org )\n",
    "2. A separate list of exceptions is kept as we process the data (concatenating netcdf and saving as zarr)\n",
    "      [ESGF to GCS Issues]( https://docs.google.com/spreadsheets/d/e/2PACX-1vRxKgz1xCH7zhUoDnl_llgEvbj2ssxoJiTUdbkHkkfWiCKU8EfZtPerar3ELjoIzAda5giR06QvbWGE/pubhtml?gid=128595157&single=true )\n",
    "3. Issues with the existing Google Cloud collection are crowd sourced here:\n",
    "      [GCS Issues]( https://tinyurl.com/y5cw76at )"
   ]
  },
  {
   "cell_type": "markdown",
   "metadata": {},
   "source": [
    "### This notebook updates the list of processing exceptions in Issue 2."
   ]
  },
  {
   "cell_type": "code",
   "execution_count": 1,
   "metadata": {},
   "outputs": [
    {
     "data": {
      "text/plain": [
       "'3.1.0'"
      ]
     },
     "execution_count": 1,
     "metadata": {},
     "output_type": "execute_result"
    }
   ],
   "source": [
    "import gspread\n",
    "from oauth2client.service_account import ServiceAccountCredentials\n",
    "import pandas as pd\n",
    "from datetime import datetime\n",
    "from ast import literal_eval\n",
    "import os\n",
    "import numpy as np\n",
    "import os\n",
    "gspread.__version__"
   ]
  },
  {
   "cell_type": "code",
   "execution_count": 2,
   "metadata": {},
   "outputs": [],
   "source": [
    "json_keyfile = '/home/naomi/cmip6-zarr/json/Pangeo Hackathon-e48a41b13c91.json'\n",
    "scope = ['https://spreadsheets.google.com/feeds','https://www.googleapis.com/auth/drive']\n",
    "credentials = ServiceAccountCredentials.from_json_keyfile_name(json_keyfile, scope)\n",
    "gc = gspread.authorize(credentials)"
   ]
  },
  {
   "cell_type": "code",
   "execution_count": 3,
   "metadata": {},
   "outputs": [
    {
     "name": "stdout",
     "output_type": "stream",
     "text": [
      "[<Worksheet 'Form Responses 1' id:252604281>, <Worksheet 'NH_additions' id:128595157>]\n"
     ]
    }
   ],
   "source": [
    "sheet_name = \"CMIP6_DataExceptions (Responses)\"\n",
    "sh = gc.open(sheet_name)\n",
    "print(sh.worksheets())"
   ]
  },
  {
   "cell_type": "code",
   "execution_count": 4,
   "metadata": {},
   "outputs": [
    {
     "name": "stdout",
     "output_type": "stream",
     "text": [
      "64 CNRM-CM6-1/historical/r21i1p1f2/Omon/obvfsq/gn/noUse  is not in df_cloud\n",
      "218 GISS-E2-1-G/historical/r7i1p3f1/Lmon/mrro/gn/noUse  is not in df_cloud\n",
      "219 GISS-E2-1-G/historical/r7i1p3f1/Lmon/mrso/gn/noUse  is not in df_cloud\n",
      "220 GISS-E2-1-G/historical/r7i1p3f1/Lmon/mrsos/gn/noUse  is not in df_cloud\n",
      "221 GISS-E2-1-G/historical/r7i1p3f1/LImon/all/gn/noUse  is not in df_cloud\n",
      "294 ACCESS-ESM1-5/piControl/r1i1p1f1/Omon/umo/gn/noUse  is not in df_cloud\n"
     ]
    }
   ],
   "source": [
    "wks = sh.worksheet(\"NH_additions\")\n",
    "\n",
    "data = wks.get_all_values()\n",
    "headers = data.pop(0)\n",
    "\n",
    "df_cloud = pd.DataFrame(data, columns=headers)\n",
    "#df_cloud['name'] = ['/'.join(s[:-3]) for s in df_cloud.values]\n",
    "df_local = pd.read_csv('csv/exceptions.csv', na_filter= False)\n",
    "#df_local['name'] = ['/'.join(s[:-3]) for s in df_local.values]\n",
    "\n",
    "# add new from df_local\n",
    "for item,row in enumerate(df_local.values):\n",
    "    name = row[-1]\n",
    "    #print(item,name)\n",
    "    df_match = df_cloud[df_cloud.name==name]\n",
    "    if len(df_match)==0:\n",
    "        print(item,name,' is not in df_cloud')\n",
    "        wks.append_row(list(row))"
   ]
  },
  {
   "cell_type": "code",
   "execution_count": 5,
   "metadata": {},
   "outputs": [],
   "source": [
    "wks = sh.worksheet(\"NH_additions\")\n",
    "\n",
    "data = wks.get_all_values()\n",
    "headers = data.pop(0)\n",
    "\n",
    "df_cloud = pd.DataFrame(data, columns=headers)\n",
    "#df_cloud['name'] = ['/'.join(s[:-3]) for s in df_cloud.values]\n",
    "df_local = pd.read_csv('csv/exceptions.csv', na_filter= False)\n",
    "#df_local['name'] = ['/'.join(s[:-3]) for s in df_local.values]\n",
    "\n",
    "# delete old from df\n",
    "for item,row in enumerate(df_cloud.values):\n",
    "    name = row[-1]\n",
    "    #print(item,name)\n",
    "    df_match = df_local[df_local.name==name]\n",
    "    if len(df_match)==0:\n",
    "        print(item,name,' is not in df_local')\n",
    "        wks.delete_row(item+2)"
   ]
  },
  {
   "cell_type": "code",
   "execution_count": 6,
   "metadata": {},
   "outputs": [
    {
     "ename": "AssertionError",
     "evalue": "",
     "output_type": "error",
     "traceback": [
      "\u001b[0;31m---------------------------------------------------------------------------\u001b[0m",
      "\u001b[0;31mAssertionError\u001b[0m                            Traceback (most recent call last)",
      "\u001b[0;32m<ipython-input-6-bca962d1de48>\u001b[0m in \u001b[0;36m<module>\u001b[0;34m\u001b[0m\n\u001b[0;32m----> 1\u001b[0;31m \u001b[0;32massert\u001b[0m \u001b[0;32mFalse\u001b[0m  \u001b[0;31m# just scratch space below\u001b[0m\u001b[0;34m\u001b[0m\u001b[0;34m\u001b[0m\u001b[0m\n\u001b[0m",
      "\u001b[0;31mAssertionError\u001b[0m: "
     ]
    }
   ],
   "source": [
    "assert False "
   ]
  },
  {
   "cell_type": "code",
   "execution_count": 20,
   "metadata": {},
   "outputs": [
    {
     "name": "stdout",
     "output_type": "stream",
     "text": [
      "['CESM2-WACCM', 'piControl', 'r1i1p1f1', 'Oyr', 'bddtalk', 'gn', 'noUse', 'trouble with grid - missing_value', '2020-03-01', 'CESM2-WACCM/piControl/r1i1p1f1/Oyr/bddtalk/gn/noUse']\n"
     ]
    }
   ],
   "source": [
    "# add a new local entry\n",
    "import datetime\n",
    "date = str(datetime.datetime.now().strftime(\"%Y-%m-%d\"))\n",
    "\n",
    "store = 'CESM2-WACCM/piControl/r1i1p1f1/Oyr/bddtalk/gn/'\n",
    "code = 'noUse'\n",
    "reason = 'trouble with grid - missing_value'\n",
    "\n",
    "row = store.split('/')[:-1] + [code,reason,date,store+code]\n",
    "print(row)"
   ]
  },
  {
   "cell_type": "code",
   "execution_count": 21,
   "metadata": {},
   "outputs": [
    {
     "data": {
      "text/html": [
       "<div>\n",
       "<style scoped>\n",
       "    .dataframe tbody tr th:only-of-type {\n",
       "        vertical-align: middle;\n",
       "    }\n",
       "\n",
       "    .dataframe tbody tr th {\n",
       "        vertical-align: top;\n",
       "    }\n",
       "\n",
       "    .dataframe thead th {\n",
       "        text-align: right;\n",
       "    }\n",
       "</style>\n",
       "<table border=\"1\" class=\"dataframe\">\n",
       "  <thead>\n",
       "    <tr style=\"text-align: right;\">\n",
       "      <th></th>\n",
       "      <th>source_id</th>\n",
       "      <th>experiment_id</th>\n",
       "      <th>member_id</th>\n",
       "      <th>table_id</th>\n",
       "      <th>variable_id</th>\n",
       "      <th>grid_label</th>\n",
       "      <th>reason_code</th>\n",
       "      <th>reason_txt</th>\n",
       "      <th>status</th>\n",
       "      <th>name</th>\n",
       "    </tr>\n",
       "  </thead>\n",
       "  <tbody>\n",
       "    <tr>\n",
       "      <th>291</th>\n",
       "      <td>CESM2</td>\n",
       "      <td>ssp126</td>\n",
       "      <td>r2i1p1f1</td>\n",
       "      <td>day</td>\n",
       "      <td>tasmin</td>\n",
       "      <td>gn</td>\n",
       "      <td>noUse</td>\n",
       "      <td>some data missing</td>\n",
       "      <td>2020-02-10</td>\n",
       "      <td>CESM2/ssp126/r2i1p1f1/day/tasmin/gn/noUse</td>\n",
       "    </tr>\n",
       "    <tr>\n",
       "      <th>292</th>\n",
       "      <td>CESM2</td>\n",
       "      <td>ssp370</td>\n",
       "      <td>r2i1p1f1</td>\n",
       "      <td>day</td>\n",
       "      <td>tasmax</td>\n",
       "      <td>gn</td>\n",
       "      <td>noUse</td>\n",
       "      <td>multiple time gaps</td>\n",
       "      <td>2020-02-10</td>\n",
       "      <td>CESM2/ssp370/r2i1p1f1/day/tasmax/gn/noUse</td>\n",
       "    </tr>\n",
       "    <tr>\n",
       "      <th>293</th>\n",
       "      <td>MRI-ESM2-0</td>\n",
       "      <td>ssp585</td>\n",
       "      <td>r1i1p1f1</td>\n",
       "      <td>CFmon</td>\n",
       "      <td>albisccp</td>\n",
       "      <td>gn</td>\n",
       "      <td>noUse</td>\n",
       "      <td>multiple time gaps</td>\n",
       "      <td>2020-02-10</td>\n",
       "      <td>MRI-ESM2-0/ssp585/r1i1p1f1/CFmon/albisccp/gn/n...</td>\n",
       "    </tr>\n",
       "    <tr>\n",
       "      <th>294</th>\n",
       "      <td>ACCESS-ESM1-5</td>\n",
       "      <td>piControl</td>\n",
       "      <td>r1i1p1f1</td>\n",
       "      <td>Omon</td>\n",
       "      <td>umo</td>\n",
       "      <td>gn</td>\n",
       "      <td>noUse</td>\n",
       "      <td>HDF error</td>\n",
       "      <td>2020-02-16</td>\n",
       "      <td>ACCESS-ESM1-5/piControl/r1i1p1f1/Omon/umo/gn/n...</td>\n",
       "    </tr>\n",
       "    <tr>\n",
       "      <th>295</th>\n",
       "      <td>CESM2-WACCM</td>\n",
       "      <td>piControl</td>\n",
       "      <td>r1i1p1f1</td>\n",
       "      <td>Oyr</td>\n",
       "      <td>bddtalk</td>\n",
       "      <td>gn</td>\n",
       "      <td>noUse</td>\n",
       "      <td>trouble with grid - missing_value</td>\n",
       "      <td>2020-03-01</td>\n",
       "      <td>CESM2-WACCM/piControl/r1i1p1f1/Oyr/bddtalk/gn/...</td>\n",
       "    </tr>\n",
       "  </tbody>\n",
       "</table>\n",
       "</div>"
      ],
      "text/plain": [
       "         source_id experiment_id member_id table_id variable_id grid_label  \\\n",
       "291          CESM2        ssp126  r2i1p1f1      day      tasmin         gn   \n",
       "292          CESM2        ssp370  r2i1p1f1      day      tasmax         gn   \n",
       "293     MRI-ESM2-0        ssp585  r1i1p1f1    CFmon    albisccp         gn   \n",
       "294  ACCESS-ESM1-5     piControl  r1i1p1f1     Omon         umo         gn   \n",
       "295    CESM2-WACCM     piControl  r1i1p1f1      Oyr     bddtalk         gn   \n",
       "\n",
       "    reason_code                         reason_txt      status  \\\n",
       "291       noUse                  some data missing  2020-02-10   \n",
       "292       noUse                 multiple time gaps  2020-02-10   \n",
       "293       noUse                 multiple time gaps  2020-02-10   \n",
       "294       noUse                          HDF error  2020-02-16   \n",
       "295       noUse  trouble with grid - missing_value  2020-03-01   \n",
       "\n",
       "                                                  name  \n",
       "291          CESM2/ssp126/r2i1p1f1/day/tasmin/gn/noUse  \n",
       "292          CESM2/ssp370/r2i1p1f1/day/tasmax/gn/noUse  \n",
       "293  MRI-ESM2-0/ssp585/r1i1p1f1/CFmon/albisccp/gn/n...  \n",
       "294  ACCESS-ESM1-5/piControl/r1i1p1f1/Omon/umo/gn/n...  \n",
       "295  CESM2-WACCM/piControl/r1i1p1f1/Oyr/bddtalk/gn/...  "
      ]
     },
     "execution_count": 21,
     "metadata": {},
     "output_type": "execute_result"
    }
   ],
   "source": [
    "# if it looks good, now check\n",
    "dfl = df_local.append(pd.Series(row, index=df_local.columns ),ignore_index=True)\n",
    "dfl.tail()"
   ]
  },
  {
   "cell_type": "code",
   "execution_count": 22,
   "metadata": {},
   "outputs": [],
   "source": [
    "dfl.to_csv('csv/exceptions.csv', index=False)"
   ]
  },
  {
   "cell_type": "code",
   "execution_count": 23,
   "metadata": {},
   "outputs": [
    {
     "ename": "AssertionError",
     "evalue": "",
     "output_type": "error",
     "traceback": [
      "\u001b[0;31m---------------------------------------------------------------------------\u001b[0m",
      "\u001b[0;31mAssertionError\u001b[0m                            Traceback (most recent call last)",
      "\u001b[0;32m<ipython-input-23-a871fdc9ebee>\u001b[0m in \u001b[0;36m<module>\u001b[0;34m\u001b[0m\n\u001b[0;32m----> 1\u001b[0;31m \u001b[0;32massert\u001b[0m \u001b[0;32mFalse\u001b[0m\u001b[0;34m\u001b[0m\u001b[0;34m\u001b[0m\u001b[0m\n\u001b[0m",
      "\u001b[0;31mAssertionError\u001b[0m: "
     ]
    }
   ],
   "source": [
    "assert False"
   ]
  },
  {
   "cell_type": "code",
   "execution_count": null,
   "metadata": {},
   "outputs": [],
   "source": [
    "#wks.update_acell('B1', 'Bingo!')\n",
    "#wks.append_row(['junk','more_junk'])\n",
    "#wks.add_rows(2)\n",
    "#for row in df_local.values[:100]:\n",
    "#    wks.append_row(list(row))\n",
    "#wks.delete_row(7)\n",
    "#wks.row_values(8)"
   ]
  },
  {
   "cell_type": "code",
   "execution_count": 18,
   "metadata": {},
   "outputs": [
    {
     "data": {
      "text/plain": [
       "(282, 282)"
      ]
     },
     "execution_count": 18,
     "metadata": {},
     "output_type": "execute_result"
    }
   ],
   "source": [
    "common_cols = df_cloud.columns.tolist()                              #generate list of column names\n",
    "df12 = pd.merge(df_cloud, df_local, on=common_cols, how='inner')     #extract common rows with merge\n",
    "df2 = df_local[~df_local['name'].isin(df12['name'])]\n",
    "df1 = df_cloud[~df_cloud['name'].isin(df12['name'])]\n",
    "len(df_cloud),len(df_local)"
   ]
  }
 ],
 "metadata": {
  "kernelspec": {
   "display_name": "pangeo-Oct2019",
   "language": "python",
   "name": "pangeo-oct2019"
  },
  "language_info": {
   "codemirror_mode": {
    "name": "ipython",
    "version": 3
   },
   "file_extension": ".py",
   "mimetype": "text/x-python",
   "name": "python",
   "nbconvert_exporter": "python",
   "pygments_lexer": "ipython3",
   "version": "3.7.3"
  }
 },
 "nbformat": 4,
 "nbformat_minor": 4
}
