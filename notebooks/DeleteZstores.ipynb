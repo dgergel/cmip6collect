{
 "cells": [
  {
   "cell_type": "markdown",
   "metadata": {},
   "source": [
    "# Completely delete bad zarr stores from GC and local storage\n",
    "\n",
    "### for each zstore:\n",
    "\n",
    "    GC storage:\n",
    "    # 1. delete old version in GC\n",
    "    # 2. delete entry in ncsv/GC_files_{activity_id}-{institution_id}.csv\n",
    "\n",
    "    local storage:\n",
    "    # 3. find and delete old local copy(ies)\n",
    "    # 4. find and delete entry(ies) in shelf-new/h*.csv\n",
    "    # 5. remove from concatenated shelf catalog, shelf-new/local.csv\n",
    "\n",
    "    update noQC catalog:\n",
    "    # 6. delete store from local noQC catalog\n",
    "\n",
    "### After all zstores have been processed:\n",
    "\n",
    "    - copy local noQC catalog to cloud"
   ]
  },
  {
   "cell_type": "code",
   "execution_count": 1,
   "metadata": {},
   "outputs": [],
   "source": [
    "import pandas as pd\n",
    "import os\n",
    "import qgrid\n",
    "\n",
    "# local\n",
    "from utilities import remove_from_GC, remove_from_local, remove_from_catalogs, search_df"
   ]
  },
  {
   "cell_type": "code",
   "execution_count": 7,
   "metadata": {},
   "outputs": [
    {
     "name": "stdout",
     "output_type": "stream",
     "text": [
      "277543\n"
     ]
    },
    {
     "data": {
      "text/plain": [
       "26"
      ]
     },
     "execution_count": 7,
     "metadata": {},
     "output_type": "execute_result"
    }
   ],
   "source": [
    "tables = 'Amon'\n",
    "exps = ['historical']\n",
    "variables = ['clt', 'evspsbl', 'hfls', 'hfss', 'hus', 'huss', 'prsn', 'prw',\n",
    "       'psl', 'rlds', 'rlus', 'rlut', 'rlutcs', 'rsds', 'rsdt', 'rsus',\n",
    "       'rsut', 'rsutcs', 'ta', 'tas', 'tasmax', 'tasmin', 'tauu', 'tauv',\n",
    "       'tos', 'ts', 'ua', 'va', 'zg']\n",
    "sources = 'EC-Earth3'\n",
    "mems = 'r24i1p1f1'\n",
    "\n",
    "d2 = pd.read_csv('https://cmip6.storage.googleapis.com/cmip6-zarr-consolidated-stores-noQC.csv')\n",
    "print(len(d2))\n",
    "dGC = search_df(d2,variable_id=variables,experiment_id=exps,table_id=tables,source_id=sources,member_id=mems)\n",
    "len(dGC.zstore.values)"
   ]
  },
  {
   "cell_type": "code",
   "execution_count": 10,
   "metadata": {},
   "outputs": [
    {
     "name": "stdout",
     "output_type": "stream",
     "text": [
      "# 3. zstore is not on any mounted drives\n",
      "   /h28/naomi/zarr-minimal/CMIP/EC-Earth-Consortium/EC-Earth3/historical/r24i1p1f1/Amon/huss/gr\n",
      "# 3. zstore is not on any mounted drives\n",
      "   /h28/naomi/zarr-minimal/CMIP/EC-Earth-Consortium/EC-Earth3/historical/r24i1p1f1/Amon/prsn/gr\n",
      "# 3. zstore is not on any mounted drives\n",
      "   /h28/naomi/zarr-minimal/CMIP/EC-Earth-Consortium/EC-Earth3/historical/r24i1p1f1/Amon/prw/gr\n",
      "# 3. zstore is not on any mounted drives\n",
      "   /h28/naomi/zarr-minimal/CMIP/EC-Earth-Consortium/EC-Earth3/historical/r24i1p1f1/Amon/psl/gr\n",
      "# 3. zstore is not on any mounted drives\n",
      "   /h28/naomi/zarr-minimal/CMIP/EC-Earth-Consortium/EC-Earth3/historical/r24i1p1f1/Amon/rlds/gr\n",
      "# 3. zstore is not on any mounted drives\n",
      "   /h28/naomi/zarr-minimal/CMIP/EC-Earth-Consortium/EC-Earth3/historical/r24i1p1f1/Amon/rlus/gr\n",
      "# 3. zstore is not on any mounted drives\n",
      "   /h28/naomi/zarr-minimal/CMIP/EC-Earth-Consortium/EC-Earth3/historical/r24i1p1f1/Amon/rlut/gr\n",
      "# 3. zstore is not on any mounted drives\n",
      "   /h28/naomi/zarr-minimal/CMIP/EC-Earth-Consortium/EC-Earth3/historical/r24i1p1f1/Amon/rlutcs/gr\n",
      "# 3. zstore is not on any mounted drives\n",
      "   /h28/naomi/zarr-minimal/CMIP/EC-Earth-Consortium/EC-Earth3/historical/r24i1p1f1/Amon/rsds/gr\n",
      "# 3. zstore is not on any mounted drives\n",
      "   /h28/naomi/zarr-minimal/CMIP/EC-Earth-Consortium/EC-Earth3/historical/r24i1p1f1/Amon/rsdt/gr\n",
      "# 3. zstore is not on any mounted drives\n",
      "   /h28/naomi/zarr-minimal/CMIP/EC-Earth-Consortium/EC-Earth3/historical/r24i1p1f1/Amon/rsus/gr\n",
      "# 3. zstore is not on any mounted drives\n",
      "   /h28/naomi/zarr-minimal/CMIP/EC-Earth-Consortium/EC-Earth3/historical/r24i1p1f1/Amon/rsut/gr\n",
      "# 3. zstore is not on any mounted drives\n",
      "   /h28/naomi/zarr-minimal/CMIP/EC-Earth-Consortium/EC-Earth3/historical/r24i1p1f1/Amon/rsutcs/gr\n",
      "# 3. zstore is not on any mounted drives\n",
      "   /h28/naomi/zarr-minimal/CMIP/EC-Earth-Consortium/EC-Earth3/historical/r24i1p1f1/Amon/ta/gr\n",
      "# 3. zstore is not on any mounted drives\n",
      "   /h28/naomi/zarr-minimal/CMIP/EC-Earth-Consortium/EC-Earth3/historical/r24i1p1f1/Amon/tas/gr\n",
      "# 3. zstore is not on any mounted drives\n",
      "   /h28/naomi/zarr-minimal/CMIP/EC-Earth-Consortium/EC-Earth3/historical/r24i1p1f1/Amon/tasmax/gr\n",
      "# 3. zstore is not on any mounted drives\n",
      "   /h28/naomi/zarr-minimal/CMIP/EC-Earth-Consortium/EC-Earth3/historical/r24i1p1f1/Amon/tasmin/gr\n",
      "# 3. zstore is not on any mounted drives\n",
      "   /h28/naomi/zarr-minimal/CMIP/EC-Earth-Consortium/EC-Earth3/historical/r24i1p1f1/Amon/tauu/gr\n",
      "# 3. zstore is not on any mounted drives\n",
      "   /h28/naomi/zarr-minimal/CMIP/EC-Earth-Consortium/EC-Earth3/historical/r24i1p1f1/Amon/tauv/gr\n",
      "   /h19/naomi/zarr-minimal/CMIP/EC-Earth-Consortium/EC-Earth3/historical/r24i1p1f1/Amon/tos/gr\n",
      "# 3. zstore is not on any mounted drives\n",
      "   /h28/naomi/zarr-minimal/CMIP/EC-Earth-Consortium/EC-Earth3/historical/r24i1p1f1/Amon/ts/gr\n",
      "# 3. zstore is not on any mounted drives\n",
      "   /h28/naomi/zarr-minimal/CMIP/EC-Earth-Consortium/EC-Earth3/historical/r24i1p1f1/Amon/ua/gr\n",
      "# 3. zstore is not on any mounted drives\n",
      "   /h28/naomi/zarr-minimal/CMIP/EC-Earth-Consortium/EC-Earth3/historical/r24i1p1f1/Amon/va/gr\n",
      "# 3. zstore is not on any mounted drives\n",
      "   /h28/naomi/zarr-minimal/CMIP/EC-Earth-Consortium/EC-Earth3/historical/r24i1p1f1/Amon/zg/gr\n"
     ]
    }
   ],
   "source": [
    "# specify zarr stores and remove them one by one \n",
    "#execute = False\n",
    "execute = True\n",
    "\n",
    "zstores = dGC.zstore.values\n",
    "\n",
    "for zstore in zstores[2:]:\n",
    "    # first test with execute=False, then do with execute=True\n",
    "    remove_from_GC(zstore,execute=execute)\n",
    "    remove_from_local(zstore,execute=execute)\n",
    "    remove_from_catalogs(zstore,execute=execute)\n",
    "    "
   ]
  },
  {
   "cell_type": "code",
   "execution_count": 12,
   "metadata": {},
   "outputs": [
    {
     "data": {
      "text/plain": [
       "277518"
      ]
     },
     "execution_count": 12,
     "metadata": {},
     "output_type": "execute_result"
    }
   ],
   "source": [
    "da = pd.read_csv('csv/pangeo-cmip6-noQC.csv')\n",
    "len(da.zstore.values)"
   ]
  },
  {
   "cell_type": "code",
   "execution_count": 13,
   "metadata": {},
   "outputs": [],
   "source": [
    "# When done, update the GCS noQC catalog with the modified local one\n",
    "\n",
    "gsutil = '/usr/bin/gsutil -m'\n",
    "ret = os.system(f'{gsutil} cp csv/pangeo-cmip6-noQC.csv gs://cmip6/cmip6-zarr-consolidated-stores-noQC.csv')\n",
    "if ret != 0:\n",
    "    print('noQC upload not working')\n",
    "    "
   ]
  },
  {
   "cell_type": "code",
   "execution_count": null,
   "metadata": {},
   "outputs": [],
   "source": []
  }
 ],
 "metadata": {
  "kernelspec": {
   "display_name": "pangeo-Oct2019",
   "language": "python",
   "name": "pangeo-oct2019"
  },
  "language_info": {
   "codemirror_mode": {
    "name": "ipython",
    "version": 3
   },
   "file_extension": ".py",
   "mimetype": "text/x-python",
   "name": "python",
   "nbconvert_exporter": "python",
   "pygments_lexer": "ipython3",
   "version": "3.7.3"
  }
 },
 "nbformat": 4,
 "nbformat_minor": 4
}
