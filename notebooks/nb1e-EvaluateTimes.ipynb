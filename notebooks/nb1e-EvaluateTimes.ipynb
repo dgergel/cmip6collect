{
 "cells": [
  {
   "cell_type": "markdown",
   "metadata": {},
   "source": [
    "## Find Start/Stop times of GC data \n",
    "- For stores matching specific requests in order to check correctness of new data"
   ]
  },
  {
   "cell_type": "code",
   "execution_count": null,
   "metadata": {},
   "outputs": [],
   "source": [
    "import xarray as xr\n",
    "import pandas as pd\n",
    "import qgrid\n",
    "\n",
    "#local\n",
    "from utilities import search_df, add_time_info"
   ]
  },
  {
   "cell_type": "code",
   "execution_count": null,
   "metadata": {},
   "outputs": [],
   "source": [
    "#dESGF = pd.read_csv('dESGF-CEDA.csv')  # from EvaluateResponse.ipynb, list of available datasets matching the request\n",
    "#exps = dESGF.experiment_id.unique()\n",
    "#variables = dESGF.variable_id.unique()  #[0]\n",
    "#tables = dESGF.table_id.unique()\n",
    "\n",
    "tables = 'Amon'\n",
    "exps = ['historical']\n",
    "variables = ['pr']\n",
    "sources = 'EC-Earth3'\n",
    "\n",
    "#d2 = pd.read_csv('https://cmip6.storage.googleapis.com/cmip6-zarr-consolidated-stores.csv')\n",
    "#dGC = search_df(d2,variable_id=variables,experiment_id=exps,table_id=tables,source_id=sources)"
   ]
  },
  {
   "cell_type": "code",
   "execution_count": null,
   "metadata": {},
   "outputs": [],
   "source": [
    "dfcat = pd.read_csv('https://cmip6.storage.googleapis.com/cmip6-zarr-consolidated-stores-noQC.csv')\n",
    "widget=qgrid.show_grid(dfcat)#.drop(['institution_id','dcpp_init_year'],1))\n",
    "print('GCS Catalog')\n",
    "widget "
   ]
  },
  {
   "cell_type": "code",
   "execution_count": null,
   "metadata": {},
   "outputs": [],
   "source": [
    "# save results\n",
    "dGC = widget.get_changed_df()     # use this to save filtered dataframe\n",
    "dGC.variable_id.values"
   ]
  },
  {
   "cell_type": "code",
   "execution_count": null,
   "metadata": {},
   "outputs": [],
   "source": [
    "dGCp = add_time_info(dGC,verbose=True)"
   ]
  },
  {
   "cell_type": "code",
   "execution_count": null,
   "metadata": {},
   "outputs": [],
   "source": [
    "widget=qgrid.show_grid(dGCp)\n",
    "widget"
   ]
  },
  {
   "cell_type": "code",
   "execution_count": null,
   "metadata": {},
   "outputs": [],
   "source": [
    "dbad = widget.get_changed_df()     # use this to save filtered dataframe\n",
    "dbad.values[0]"
   ]
  },
  {
   "cell_type": "code",
   "execution_count": null,
   "metadata": {},
   "outputs": [],
   "source": [
    "import numpy as np\n",
    "pd.set_option('display.max_rows', 500)\n",
    "pd.set_option('display.max_columns', 500)\n",
    "pd.set_option('display.width', 1000)\n",
    "\n",
    "exps = dGCp.experiment_id.unique()\n",
    "for exp in exps:\n",
    "    dGCpe = dGCp[dGCp.experiment_id==exp]\n",
    "# use this to get number of models (one per model)\n",
    "    dm = dGCpe[['experiment_id','source_id','member_id','variable_id','start','stop','nt']].groupby([\n",
    "                'experiment_id','member_id','source_id','variable_id','start','stop','nt']).nunique()[['member_id']]\n",
    "\n",
    "    table = pd.DataFrame.pivot_table(dm,\n",
    "                                     values='member_id',\n",
    "                                     index=['source_id','variable_id','start','stop','nt'],\n",
    "                                     columns=[],\n",
    "                                     aggfunc=np.sum,\n",
    "                                     fill_value=0)\n",
    "    print(exp,'\\n',table)"
   ]
  },
  {
   "cell_type": "code",
   "execution_count": null,
   "metadata": {},
   "outputs": [],
   "source": [
    "ds = xr.open_zarr(fsspec.get_mapper('gs://cmip6/ScenarioMIP/NCC/NorESM2-LM/ssp126/r1i1p1f1/day/tasmax/gn/'),consolidated=True)"
   ]
  },
  {
   "cell_type": "code",
   "execution_count": null,
   "metadata": {},
   "outputs": [],
   "source": [
    "http://noresg.nird.sigma2.no/thredds/fileServer/esg_dataroot/cmor/CMIP6/ScenarioMIP/NCC/NorESM2-LM/ssp126/r1i1p1f1/day/pr/gn/v20191108/pr_day_NorESM2-LM_ssp126_r1i1p1f1_gn_20310101-20401230.nc\n",
    "http://noresg.nird.sigma2.no/thredds/fileServer/esg_dataroot/cmor/CMIP6/ScenarioMIP/NCC/NorESM2-LM/ssp126/r1i1p1f1/day/pr/gn/v20191108/pr_day_NorESM2-LM_ssp126_r1i1p1f1_gn_20310101-20401231.nc"
   ]
  },
  {
   "cell_type": "code",
   "execution_count": null,
   "metadata": {},
   "outputs": [],
   "source": [
    "ds2 = xr.open_zarr(fsspec.get_mapper('gs://cmip6/ScenarioMIP/NCC/NorESM2-LM/ssp245/r1i1p1f1/day/tasmax/gn/'),consolidated=True)"
   ]
  },
  {
   "cell_type": "code",
   "execution_count": null,
   "metadata": {},
   "outputs": [],
   "source": []
  }
 ],
 "metadata": {
  "kernelspec": {
   "display_name": "pangeo-Oct2019",
   "language": "python",
   "name": "pangeo-oct2019"
  },
  "language_info": {
   "codemirror_mode": {
    "name": "ipython",
    "version": 3
   },
   "file_extension": ".py",
   "mimetype": "text/x-python",
   "name": "python",
   "nbconvert_exporter": "python",
   "pygments_lexer": "ipython3",
   "version": "3.7.3"
  }
 },
 "nbformat": 4,
 "nbformat_minor": 4
}
