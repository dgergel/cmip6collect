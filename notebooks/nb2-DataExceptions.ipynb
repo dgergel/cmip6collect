{
 "cells": [
  {
   "cell_type": "markdown",
   "metadata": {},
   "source": [
    "### To be used after netcdf files are downloaded locally \n",
    "- netcdf files should be in the default subdirectory 'nctemp'\n",
    "- zarr files can go into 'ztemp'\n",
    "- once the problem has been identified, an exception should be added to `csv/exceptions.csv` and the \n",
    "original request can be re-run"
   ]
  },
  {
   "cell_type": "code",
   "execution_count": 8,
   "metadata": {},
   "outputs": [],
   "source": [
    "from glob import glob\n",
    "import os\n",
    "import xarray as xr\n",
    "import cftime\n",
    "import numpy as np\n",
    "import time \n",
    "import datetime"
   ]
  },
  {
   "cell_type": "code",
   "execution_count": 9,
   "metadata": {},
   "outputs": [],
   "source": [
    "def set_bnds_as_coords(ds):\n",
    "    new_coords_vars = [var for var in ds.data_vars if 'bnds' in var or 'bounds' in var]\n",
    "    ds = ds.set_coords(new_coords_vars)\n",
    "    return ds"
   ]
  },
  {
   "cell_type": "code",
   "execution_count": null,
   "metadata": {},
   "outputs": [],
   "source": []
  },
  {
   "cell_type": "code",
   "execution_count": 10,
   "metadata": {},
   "outputs": [],
   "source": [
    "sdrive = 'nctemp/'\n",
    "zdrive = 'ztemp/'"
   ]
  },
  {
   "cell_type": "code",
   "execution_count": 10,
   "metadata": {},
   "outputs": [],
   "source": [
    "string = '_Omon_IPSL-CM6A-LR_abrupt-4xCO2_r1i1p1f1_gn'\n",
    "tpath = 'CMIP/IPSL/IPSL-CM6A-LR/abrupt-4xCO2/r1i1p1f1/Omon/'\n",
    "tgrid = '/gn'"
   ]
  },
  {
   "cell_type": "code",
   "execution_count": null,
   "metadata": {},
   "outputs": [],
   "source": [
    "table_id = 'Omon'\n",
    "variable_ids = ['chl']\n",
    "for variable_id in variable_ids: \n",
    "    \n",
    "    print(sdrive + variable_id + string + '_*.nc')\n",
    "    \n",
    "    gfiles = sorted(glob(sdrive + variable_id + string + '_*.nc'))\n",
    "    \n",
    "    print(gfiles)\n",
    "#    for gfile in gfiles:\n",
    "#        print('checking ',gfile)\n",
    "#        ds = xr.open_dataset(gfile,decode_times=True)\n",
    "#        print(ds.coords)\n",
    "        \n",
    "    zbdir = tdrive + tpath + variable_id + tgrid\n",
    "\n",
    "    nc_size = os.path.getsize(gfiles[0])\n",
    "    ds = xr.open_dataset(gfiles[0])\n",
    "    svar = ds.variable_id\n",
    "    nt = ds[svar].shape[0]\n",
    "\n",
    "    chunksize_optimal = 2e8\n",
    "    chunksize = max(int(nt*chunksize_optimal/nc_size),1)\n",
    "\n",
    "    print('nt:',nt,'netcdf size:', nc_size/1e6, 'Mb')\n",
    "    print('suggested chunksize:', chunksize)\n",
    "\n",
    "    if 'time' in ds.coords:   # please use cftime - piControl cannot use datetime64\n",
    "        df7 = xr.open_mfdataset(gfiles, preprocess=set_bnds_as_coords, data_vars='minimal', chunks={'time': chunksize}, \n",
    "                                use_cftime=True, combine='nested', concat_dim='time') # combine='nested'\n",
    "        print(df7.time.values[0],df7.time.values[-1])\n",
    "    else: # fixed in time, no time grid\n",
    "        df7 = xr.open_mfdataset(gfiles, preprocess=set_bnds_as_coords, combine='by_coords', data_vars='minimal')\n",
    "\n",
    "    if 'time' in ds.coords:\n",
    "        year = sorted(list(set(df7.time.dt.year.values)))    \n",
    "        print(np.diff(year).sum(), len(year))\n",
    "        if '3hr' in table_id:\n",
    "            assert (np.diff(year).sum() == len(year)-1) | (np.diff(year).sum() == len(year)-2)\n",
    "        elif 'dec' in table_id:\n",
    "            assert (np.diff(year).sum()/10 == len(year)) | (np.diff(year).sum()/10 == len(year)-1)\n",
    "        else:\n",
    "            assert np.diff(year).sum() == len(year)-1\n",
    "\n",
    "    dsl = xr.open_dataset(gfiles[0])\n",
    "    tracking_id = dsl.tracking_id\n",
    "    if len(gfiles) > 1:\n",
    "        for file in gfiles[1:]:\n",
    "            dsl = xr.open_dataset(file)\n",
    "            tracking_id = tracking_id+'\\n'+dsl.tracking_id\n",
    "    df7.attrs['tracking_id'] = tracking_id\n",
    "\n",
    "    date = str(datetime.datetime.now().strftime(\"%Y-%m-%d\"))\n",
    "    nstatus = date + ';created; by gcs.cmip6.ldeo@gmail.com'\n",
    "    df7.attrs['status'] = nstatus\n",
    "\n",
    "    df7 = df7.chunk(chunks={'time' : chunksize})   # yes, do it again\n",
    "    #del df7[svar].encoding['missing_value']\n",
    "    print(zbdir)\n",
    "    df7.to_zarr(zbdir, consolidated=True, mode='w') \n",
    "    df7.attrs['tracking_id']"
   ]
  },
  {
   "cell_type": "code",
   "execution_count": 5,
   "metadata": {},
   "outputs": [
    {
     "ename": "AssertionError",
     "evalue": "",
     "output_type": "error",
     "traceback": [
      "\u001b[0;31m---------------------------------------------------------------------------\u001b[0m",
      "\u001b[0;31mAssertionError\u001b[0m                            Traceback (most recent call last)",
      "\u001b[0;32m<ipython-input-5-a871fdc9ebee>\u001b[0m in \u001b[0;36m<module>\u001b[0;34m\u001b[0m\n\u001b[0;32m----> 1\u001b[0;31m \u001b[0;32massert\u001b[0m \u001b[0;32mFalse\u001b[0m\u001b[0;34m\u001b[0m\u001b[0;34m\u001b[0m\u001b[0m\n\u001b[0m",
      "\u001b[0;31mAssertionError\u001b[0m: "
     ]
    }
   ],
   "source": [
    "assert False  # further checks can be done below"
   ]
  },
  {
   "cell_type": "code",
   "execution_count": null,
   "metadata": {},
   "outputs": [],
   "source": []
  }
 ],
 "metadata": {
  "kernelspec": {
   "display_name": "pangeo-Oct2019",
   "language": "python",
   "name": "pangeo-oct2019"
  },
  "language_info": {
   "codemirror_mode": {
    "name": "ipython",
    "version": 3
   },
   "file_extension": ".py",
   "mimetype": "text/x-python",
   "name": "python",
   "nbconvert_exporter": "python",
   "pygments_lexer": "ipython3",
   "version": "3.7.3"
  },
  "widgets": {
   "application/vnd.jupyter.widget-state+json": {
    "state": {},
    "version_major": 2,
    "version_minor": 0
   }
  }
 },
 "nbformat": 4,
 "nbformat_minor": 4
}
