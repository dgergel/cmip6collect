{
 "cells": [
  {
   "cell_type": "markdown",
   "metadata": {},
   "source": [
    "# To Handle New Data Requests Automatically\n",
    "- beginning of notebook is assumed to be interactive until the requests have been checked\n",
    "- all progress and exception logging is done only for main loop"
   ]
  },
  {
   "cell_type": "code",
   "execution_count": 24,
   "metadata": {},
   "outputs": [],
   "source": [
    "import numpy as np\n",
    "import pandas as pd\n",
    "import os\n",
    "import gcsfs\n",
    "import xarray as xr"
   ]
  },
  {
   "cell_type": "markdown",
   "metadata": {},
   "source": [
    "### Local modules"
   ]
  },
  {
   "cell_type": "code",
   "execution_count": 25,
   "metadata": {},
   "outputs": [],
   "source": [
    "from request import requests, set_request_id\n",
    "from search import search, esgf_search_sites\n",
    "from netcdf import get_ncfiles, concatenate\n",
    "from identify import needed\n",
    "from response import response, dict_to_dfcat, get_details"
   ]
  },
  {
   "cell_type": "markdown",
   "metadata": {},
   "source": [
    "### Initialization"
   ]
  },
  {
   "cell_type": "code",
   "execution_count": 26,
   "metadata": {},
   "outputs": [],
   "source": [
    "fs = gcsfs.GCSFileSystem(token='anon', access='read_only')\n",
    "\n",
    "# ONLY WHEN NECESSARY: Re-initialize cmip6-master.csv with enhanced csv file\n",
    "#url_cloud = 'https://storage.googleapis.com/cmip6/cmip6.csv'  \n",
    "#df = pd.read_csv(url_cloud)\n",
    "#df.to_csv('csv/cmip6-master.csv',index=False)"
   ]
  },
  {
   "cell_type": "markdown",
   "metadata": {},
   "source": [
    "### Choose basic configuration parameters"
   ]
  },
  {
   "cell_type": "code",
   "execution_count": 41,
   "metadata": {},
   "outputs": [
    {
     "name": "stdout",
     "output_type": "stream",
     "text": [
      "possible ESGF API search nodes:  ['llnl', 'ipsl', 'nci', 'ceda', 'jpl', 'gfdl', 'dkrz']\n"
     ]
    }
   ],
   "source": [
    "dtype = esgf_search_sites()\n",
    "print('possible ESGF API search nodes: ',list(dtype.keys()))\n",
    "ESGF_site = dtype['llnl']\n",
    "\n",
    "# Skip the following sites for getting netcdf files: broken or slow sites\n",
    "skip_sites = ['dist.nmlab.snu.ac.kr','esg.lasg.ac.cn','esgf-data2.diasjp.net']"
   ]
  },
  {
   "cell_type": "markdown",
   "metadata": {},
   "source": [
    "### Get new Google Sheet requests"
   ]
  },
  {
   "cell_type": "code",
   "execution_count": 30,
   "metadata": {},
   "outputs": [],
   "source": [
    "df_prior = pd.read_csv('csv/requests.csv')\n",
    "#df_prior"
   ]
  },
  {
   "cell_type": "markdown",
   "metadata": {},
   "source": [
    "### Get new Google Sheet requests\n",
    "- by default, only the new rows from the sheet are considered\n",
    "- specifying a list of rows or emails will add older entries "
   ]
  },
  {
   "cell_type": "code",
   "execution_count": 29,
   "metadata": {},
   "outputs": [
    {
     "data": {
      "text/html": [
       "<div>\n",
       "<style scoped>\n",
       "    .dataframe tbody tr th:only-of-type {\n",
       "        vertical-align: middle;\n",
       "    }\n",
       "\n",
       "    .dataframe tbody tr th {\n",
       "        vertical-align: top;\n",
       "    }\n",
       "\n",
       "    .dataframe thead th {\n",
       "        text-align: right;\n",
       "    }\n",
       "</style>\n",
       "<table border=\"1\" class=\"dataframe\">\n",
       "  <thead>\n",
       "    <tr style=\"text-align: right;\">\n",
       "      <th></th>\n",
       "      <th>Timestamp</th>\n",
       "      <th>E-mail</th>\n",
       "      <th>response status</th>\n",
       "      <th>members</th>\n",
       "      <th>experiments</th>\n",
       "      <th>models</th>\n",
       "      <th>variables</th>\n",
       "      <th>table</th>\n",
       "      <th>requester</th>\n",
       "    </tr>\n",
       "  </thead>\n",
       "  <tbody>\n",
       "    <tr>\n",
       "      <th>74</th>\n",
       "      <td>12/11/2019 3:51:36</td>\n",
       "      <td>bbronselaer@email.arizona.edu</td>\n",
       "      <td>NaN</td>\n",
       "      <td>[All]</td>\n",
       "      <td>[1pctCO2]</td>\n",
       "      <td>[All]</td>\n",
       "      <td>[tos]</td>\n",
       "      <td>Omon</td>\n",
       "      <td>Ben Bronselaer</td>\n",
       "    </tr>\n",
       "  </tbody>\n",
       "</table>\n",
       "</div>"
      ],
      "text/plain": [
       "             Timestamp                         E-mail response status members experiments models variables table       requester\n",
       "74  12/11/2019 3:51:36  bbronselaer@email.arizona.edu             NaN   [All]   [1pctCO2]  [All]     [tos]  Omon  Ben Bronselaer"
      ]
     },
     "execution_count": 29,
     "metadata": {},
     "output_type": "execute_result"
    }
   ],
   "source": [
    "# new, but also some older rows:\n",
    "#df_request_new, dtrouble = requests(df_prior,rows = [70])\n",
    "\n",
    "# new, but also some older emails:\n",
    "#df_request_new, dtrouble = requests(df_prior,emails=['henrifdrake@gmail.com'])\n",
    "\n",
    "# only new:\n",
    "df_request_new, dtrouble = requests(df_prior)\n",
    "\n",
    "request_id = set_request_id()\n",
    "if len(dtrouble)>=1:\n",
    "    print(dtrouble)\n",
    "\n",
    "df_request_new"
   ]
  },
  {
   "cell_type": "markdown",
   "metadata": {},
   "source": [
    "### Search ESGF for the availability of requested data"
   ]
  },
  {
   "cell_type": "code",
   "execution_count": 31,
   "metadata": {},
   "outputs": [
    {
     "name": "stdout",
     "output_type": "stream",
     "text": [
      "\n",
      "bbronselaer@email.arizona.edu\n",
      "Omon tos ['All'] 1pctCO2\n"
     ]
    },
    {
     "data": {
      "text/plain": [
       "319"
      ]
     },
     "execution_count": 31,
     "metadata": {},
     "output_type": "execute_result"
    }
   ],
   "source": [
    "df_ESGF = search(ESGF_site,df_request_new)\n",
    "len(df_ESGF)"
   ]
  },
  {
   "cell_type": "markdown",
   "metadata": {},
   "source": [
    "### Get the master list of existing zarr stores"
   ]
  },
  {
   "cell_type": "code",
   "execution_count": 32,
   "metadata": {},
   "outputs": [],
   "source": [
    "df_master = pd.read_csv('gs://cmip6/cmip6-zarr-consolidated-stores-noQC.csv')"
   ]
  },
  {
   "cell_type": "markdown",
   "metadata": {},
   "source": [
    "### Check the new requests:\n",
    "- already exists in df_master (what we have) - not needed\n",
    "- exists in df_ESGF (what is available) - if not available, then not needed"
   ]
  },
  {
   "cell_type": "code",
   "execution_count": 45,
   "metadata": {},
   "outputs": [
    {
     "name": "stdout",
     "output_type": "stream",
     "text": [
      "needed: nfiles=22, nstores=15\n",
      "['/CMIP/CAMS/CAMS-CSM1-0/1pctCO2/r2i1p1f1/Omon/tos/gn'\n",
      " '/CMIP/CAS/FGOALS-f3-L/1pctCO2/r1i1p1f1/Omon/tos/gn'\n",
      " '/CMIP/CAS/FGOALS-f3-L/1pctCO2/r2i1p1f1/Omon/tos/gn'\n",
      " '/CMIP/CAS/FGOALS-f3-L/1pctCO2/r3i1p1f1/Omon/tos/gn'\n",
      " '/CMIP/CCCma/CanESM5/1pctCO2/r1i1p2f1/Omon/tos/gn'\n",
      " '/CMIP/CCCma/CanESM5/1pctCO2/r2i1p1f1/Omon/tos/gn'\n",
      " '/CMIP/CCCma/CanESM5/1pctCO2/r2i1p2f1/Omon/tos/gn'\n",
      " '/CMIP/CCCma/CanESM5/1pctCO2/r3i1p1f1/Omon/tos/gn'\n",
      " '/CMIP/CCCma/CanESM5/1pctCO2/r3i1p2f1/Omon/tos/gn'\n",
      " '/CMIP/CNRM-CERFACS/CNRM-CM6-1-HR/1pctCO2/r1i1p1f2/Omon/tos/gn'\n",
      " '/CMIP/MOHC/HadGEM3-GC31-LL/1pctCO2/r2i1p1f3/Omon/tos/gn'\n",
      " '/CMIP/MOHC/HadGEM3-GC31-LL/1pctCO2/r3i1p1f3/Omon/tos/gn'\n",
      " '/CMIP/MOHC/HadGEM3-GC31-LL/1pctCO2/r4i1p1f3/Omon/tos/gn'\n",
      " '/CMIP/MOHC/UKESM1-0-LL/1pctCO2/r2i1p1f2/Omon/tos/gn'\n",
      " '/CMIP/NASA-GISS/GISS-E2-1-G/1pctCO2/r1i1p3f1/Omon/tos/gn']\n"
     ]
    }
   ],
   "source": [
    "df_needed = needed(df_master, df_request_new, df_ESGF)\n",
    "\n",
    "if len(df_needed) > 0:\n",
    "    num_stores = df_needed.zstore.nunique() \n",
    "    print(f'needed: nfiles={len(df_needed)}, nstores={num_stores}')\n",
    "else:\n",
    "    print('no new data available')\n",
    "    exit\n",
    "    \n",
    "print(df_needed.zstore.unique())"
   ]
  },
  {
   "cell_type": "markdown",
   "metadata": {},
   "source": [
    "### Start logging the progress and exceptions"
   ]
  },
  {
   "cell_type": "code",
   "execution_count": 34,
   "metadata": {},
   "outputs": [],
   "source": [
    "cat_file = 'csv/cmip6_'+request_id+'.csv'\n",
    "log_file = 'txt/request_'+request_id+'.log'"
   ]
  },
  {
   "cell_type": "code",
   "execution_count": 35,
   "metadata": {},
   "outputs": [],
   "source": [
    "# open and close for each write in case of kernel interrupt\n",
    "def write_log(file,str):\n",
    "    f = open(file,'a')\n",
    "    print(str)\n",
    "    f.write(str+'\\n')\n",
    "    f.close()\n",
    "    return"
   ]
  },
  {
   "cell_type": "markdown",
   "metadata": {
    "jupyter": {
     "outputs_hidden": true
    }
   },
   "source": [
    "### The real work is done in this next loop - can be done in parallel"
   ]
  },
  {
   "cell_type": "code",
   "execution_count": 42,
   "metadata": {},
   "outputs": [
    {
     "name": "stdout",
     "output_type": "stream",
     "text": [
      "\n",
      "1/15: local file: /h36/naomi/zarr-minimal/CMIP/CAMS/CAMS-CSM1-0/1pctCO2/r2i1p1f1/Omon/tos/gn\n",
      "already exists: /h36/naomi/zarr-minimal/CMIP/CAMS/CAMS-CSM1-0/1pctCO2/r2i1p1f1/Omon/tos/gn\n",
      "\n",
      "2/15: local file: /h36/naomi/zarr-minimal/CMIP/CAS/FGOALS-f3-L/1pctCO2/r1i1p1f1/Omon/tos/gn\n",
      "no files available\n",
      "\n",
      "3/15: local file: /h36/naomi/zarr-minimal/CMIP/CAS/FGOALS-f3-L/1pctCO2/r2i1p1f1/Omon/tos/gn\n",
      "no files available\n",
      "\n",
      "4/15: local file: /h36/naomi/zarr-minimal/CMIP/CAS/FGOALS-f3-L/1pctCO2/r3i1p1f1/Omon/tos/gn\n",
      "no files available\n",
      "\n",
      "5/15: local file: /h36/naomi/zarr-minimal/CMIP/CCCma/CanESM5/1pctCO2/r1i1p2f1/Omon/tos/gn\n",
      "already exists: /h36/naomi/zarr-minimal/CMIP/CCCma/CanESM5/1pctCO2/r1i1p2f1/Omon/tos/gn\n",
      "\n",
      "6/15: local file: /h36/naomi/zarr-minimal/CMIP/CCCma/CanESM5/1pctCO2/r2i1p1f1/Omon/tos/gn\n",
      "already exists: /h36/naomi/zarr-minimal/CMIP/CCCma/CanESM5/1pctCO2/r2i1p1f1/Omon/tos/gn\n",
      "\n",
      "7/15: local file: /h36/naomi/zarr-minimal/CMIP/CCCma/CanESM5/1pctCO2/r2i1p2f1/Omon/tos/gn\n",
      "already exists: /h36/naomi/zarr-minimal/CMIP/CCCma/CanESM5/1pctCO2/r2i1p2f1/Omon/tos/gn\n",
      "\n",
      "8/15: local file: /h36/naomi/zarr-minimal/CMIP/CCCma/CanESM5/1pctCO2/r3i1p1f1/Omon/tos/gn\n",
      "already exists: /h36/naomi/zarr-minimal/CMIP/CCCma/CanESM5/1pctCO2/r3i1p1f1/Omon/tos/gn\n",
      "\n",
      "9/15: local file: /h36/naomi/zarr-minimal/CMIP/CCCma/CanESM5/1pctCO2/r3i1p2f1/Omon/tos/gn\n",
      "already exists: /h36/naomi/zarr-minimal/CMIP/CCCma/CanESM5/1pctCO2/r3i1p2f1/Omon/tos/gn\n",
      "\n",
      "10/15: local file: /h36/naomi/zarr-minimal/CMIP/CNRM-CERFACS/CNRM-CM6-1-HR/1pctCO2/r1i1p1f2/Omon/tos/gn\n",
      "already exists: /h36/naomi/zarr-minimal/CMIP/CNRM-CERFACS/CNRM-CM6-1-HR/1pctCO2/r1i1p1f2/Omon/tos/gn\n",
      "\n",
      "11/15: local file: /h36/naomi/zarr-minimal/CMIP/MOHC/HadGEM3-GC31-LL/1pctCO2/r2i1p1f3/Omon/tos/gn\n",
      "already exists: /h36/naomi/zarr-minimal/CMIP/MOHC/HadGEM3-GC31-LL/1pctCO2/r2i1p1f3/Omon/tos/gn\n",
      "\n",
      "12/15: local file: /h36/naomi/zarr-minimal/CMIP/MOHC/HadGEM3-GC31-LL/1pctCO2/r3i1p1f3/Omon/tos/gn\n",
      "already exists: /h36/naomi/zarr-minimal/CMIP/MOHC/HadGEM3-GC31-LL/1pctCO2/r3i1p1f3/Omon/tos/gn\n",
      "\n",
      "13/15: local file: /h36/naomi/zarr-minimal/CMIP/MOHC/HadGEM3-GC31-LL/1pctCO2/r4i1p1f3/Omon/tos/gn\n",
      "already exists: /h36/naomi/zarr-minimal/CMIP/MOHC/HadGEM3-GC31-LL/1pctCO2/r4i1p1f3/Omon/tos/gn\n",
      "\n",
      "14/15: local file: /h36/naomi/zarr-minimal/CMIP/MOHC/UKESM1-0-LL/1pctCO2/r2i1p1f2/Omon/tos/gn\n",
      "already exists: /h36/naomi/zarr-minimal/CMIP/MOHC/UKESM1-0-LL/1pctCO2/r2i1p1f2/Omon/tos/gn\n",
      "\n",
      "15/15: local file: /h36/naomi/zarr-minimal/CMIP/NASA-GISS/GISS-E2-1-G/1pctCO2/r1i1p3f1/Omon/tos/gn\n",
      "already exists: /h36/naomi/zarr-minimal/CMIP/NASA-GISS/GISS-E2-1-G/1pctCO2/r1i1p3f1/Omon/tos/gn\n"
     ]
    }
   ],
   "source": [
    "new_zarrs = df_needed.zstore.unique()\n",
    "\n",
    "zdict = {}  # construct dictionary for new rows to add to master catalog\n",
    "for item,zarr in enumerate(new_zarrs):\n",
    "    #if item > 20:\n",
    "    #    continue\n",
    "    #zbdir  = 'ztemp'  + zarr\n",
    "    zbdir  = '/h36/naomi/zarr-minimal'  + zarr\n",
    "    \n",
    "    write_log(log_file,f\"\\n{item+1}/{num_stores}: local file: {zbdir}\")\n",
    "    \n",
    "    gsurl = 'gs://cmip6' + zarr\n",
    "    contents = fs.ls(gsurl+'/.zmetadata')\n",
    "    if any(\"zmetadata\" in s for s in contents):\n",
    "        write_log(log_file,'store already in cloud')\n",
    "        continue\n",
    "\n",
    "    # does it exist locally? \n",
    "    if os.path.isfile(zbdir+'/.zmetadata'):\n",
    "        write_log(log_file,f'already exists: {zbdir}')\n",
    "        continue\n",
    "\n",
    "    gfiles,troubles = get_ncfiles(zarr,df_needed,skip_sites)\n",
    "    if len(gfiles) == 0: \n",
    "        write_log(log_file,'no files available')\n",
    "        continue\n",
    "    \n",
    "    variable_id = zarr.split('/')[-2]\n",
    "    for gfile in gfiles:   # changes file sizes!!\n",
    "        command = '/usr/bin/ncatted -h -O -a missing_value\\,'+variable_id+',d,, '+gfile\n",
    "        os.system(command)\n",
    "    \n",
    "    # concatenate in time with mfdataset\n",
    "    print(gfiles)\n",
    "    status, ds, dstr = concatenate(zarr,gfiles)  \n",
    "\n",
    "    if status == 'failure':\n",
    "        print(status,dstr)\n",
    "        write_log(log_file,dstr)\n",
    "        continue\n",
    "    else:\n",
    "        write_log(log_file,dstr)\n",
    "\n",
    "    ds.to_zarr(zbdir, consolidated=True, mode='w')  \n",
    "\n",
    "    if not os.path.isfile(zbdir+'/.zmetadata'):\n",
    "        write_log(log_file,'to_zarr failure')\n",
    "        continue\n",
    "   \n",
    "    vlist = get_details(ds,zbdir,zarr)\n",
    "    \n",
    "    # upload to cloud\n",
    "    command = '/usr/bin/gsutil -m cp -r '+ zbdir + ' ' + gsurl\n",
    "    write_log(log_file,command)\n",
    "    os.system(command) \n",
    "        \n",
    "    try:\n",
    "        ds = xr.open_zarr(fs.get_mapper(gsurl), consolidated=True)\n",
    "        zdict[item] = vlist\n",
    "        write_log(log_file,f'successfully saved as {zbdir}') \n",
    "        for gfile in gfiles:\n",
    "            os.system('rm -f '+ gfile)\n",
    "    except:\n",
    "        write_log(log_file,'store did not get saved to GCS properly')\n",
    "    "
   ]
  },
  {
   "cell_type": "code",
   "execution_count": null,
   "metadata": {},
   "outputs": [],
   "source": [
    "assert False"
   ]
  },
  {
   "cell_type": "markdown",
   "metadata": {},
   "source": [
    "### Make a table of aquired data to send in email to requestor"
   ]
  },
  {
   "cell_type": "code",
   "execution_count": 43,
   "metadata": {},
   "outputs": [
    {
     "name": "stdout",
     "output_type": "stream",
     "text": [
      "nothing else to do\n"
     ]
    }
   ],
   "source": [
    "if len(zdict) == 0 :\n",
    "    print('nothing else to do')\n",
    "    exit\n",
    "else:\n",
    "    dz = dict_to_dfcat(zdict)"
   ]
  },
  {
   "cell_type": "code",
   "execution_count": 44,
   "metadata": {},
   "outputs": [
    {
     "data": {
      "text/plain": [
       "array(['gs://cmip6/ScenarioMIP/EC-Earth-Consortium/EC-Earth3-Veg/ssp245/r1i1p1f1/Amon/pr/gr',\n",
       "       'gs://cmip6/ScenarioMIP/EC-Earth-Consortium/EC-Earth3-Veg/ssp245/r2i1p1f1/Amon/pr/gr'],\n",
       "      dtype=object)"
      ]
     },
     "execution_count": 44,
     "metadata": {},
     "output_type": "execute_result"
    }
   ],
   "source": [
    "# New data added\n",
    "dz.zstore.values"
   ]
  },
  {
   "cell_type": "code",
   "execution_count": 46,
   "metadata": {},
   "outputs": [
    {
     "name": "stderr",
     "output_type": "stream",
     "text": [
      "/usr/local/python/anaconda3/envs/pangeo-Oct2019/lib/python3.7/site-packages/ipykernel_launcher.py:1: FutureWarning: Sorting because non-concatenation axis is not aligned. A future version\n",
      "of pandas will change to not sort by default.\n",
      "\n",
      "To accept the future behavior, pass 'sort=False'.\n",
      "\n",
      "To retain the current behavior and silence the warning, pass 'sort=True'.\n",
      "\n",
      "  \"\"\"Entry point for launching an IPython kernel.\n"
     ]
    }
   ],
   "source": [
    "df_master_new = pd.concat([df_master, dz])"
   ]
  },
  {
   "cell_type": "code",
   "execution_count": 47,
   "metadata": {},
   "outputs": [
    {
     "name": "stdout",
     "output_type": "stream",
     "text": [
      "GCS request for: bbronselaer@email.arizona.edu ; table_id= Omon\n",
      "(number of member_ids)*(number of grid_labels)\n",
      "--------------------------\n",
      "variable_id                    tos\n",
      "experiment_id source_id           \n",
      "1pctCO2       AWI-CM-1-1-MR      1\n",
      "              BCC-CSM2-MR        1\n",
      "              BCC-ESM1           1\n",
      "              CAMS-CSM1-0        1\n",
      "              CESM2              1\n",
      "              CESM2-WACCM        1\n",
      "              CNRM-CM6-1         1\n",
      "              CNRM-ESM2-1        4\n",
      "              CanESM5            1\n",
      "              E3SM-1-0           1\n",
      "              EC-Earth3-Veg      1\n",
      "              GFDL-CM4           1\n",
      "              GFDL-ESM4          1\n",
      "              GISS-E2-1-G        2\n",
      "              GISS-E2-1-H        1\n",
      "              HadGEM3-GC31-LL    1\n",
      "              IPSL-CM6A-LR       1\n",
      "              MCM-UA-1-0         1\n",
      "              MIROC-ES2L         1\n",
      "              MIROC6             1\n",
      "              MRI-ESM2-0         1\n",
      "              NESM3              1\n",
      "              SAM0-UNICON        1\n",
      "              UKESM1-0-LL        3\n",
      "\n"
     ]
    }
   ],
   "source": [
    "response(df_request_new,df_master_new)"
   ]
  },
  {
   "cell_type": "code",
   "execution_count": 48,
   "metadata": {},
   "outputs": [],
   "source": [
    "! mv csv/request_new.csv csv/requests.csv"
   ]
  },
  {
   "cell_type": "code",
   "execution_count": null,
   "metadata": {},
   "outputs": [],
   "source": []
  }
 ],
 "metadata": {
  "kernelspec": {
   "display_name": "pangeo-Oct2019",
   "language": "python",
   "name": "pangeo-oct2019"
  },
  "language_info": {
   "codemirror_mode": {
    "name": "ipython",
    "version": 3
   },
   "file_extension": ".py",
   "mimetype": "text/x-python",
   "name": "python",
   "nbconvert_exporter": "python",
   "pygments_lexer": "ipython3",
   "version": "3.7.3"
  }
 },
 "nbformat": 4,
 "nbformat_minor": 4
}
