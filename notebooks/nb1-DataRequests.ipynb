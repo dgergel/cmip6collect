{
 "cells": [
  {
   "cell_type": "markdown",
   "metadata": {},
   "source": [
    "# To Handle New Data Requests Automatically\n",
    "- beginning of notebook is assumed to be interactive until the requests have been checked\n",
    "- all progress and exception logging is done only for main loop\n",
    "- copy and paste the e-mail response and send from gcs.cmip6.ldeo@gmail.com account"
   ]
  },
  {
   "cell_type": "code",
   "execution_count": 1,
   "metadata": {},
   "outputs": [],
   "source": [
    "import numpy as np\n",
    "import pandas as pd\n",
    "import os\n",
    "import gcsfs\n",
    "import xarray as xr"
   ]
  },
  {
   "cell_type": "markdown",
   "metadata": {},
   "source": [
    "### Local modules"
   ]
  },
  {
   "cell_type": "code",
   "execution_count": 2,
   "metadata": {},
   "outputs": [],
   "source": [
    "from request import requests, set_request_id\n",
    "from search import search, esgf_search_sites\n",
    "from netcdf import get_ncfiles, concatenate\n",
    "from identify import needed\n",
    "from response import response, dict_to_dfcat, get_details"
   ]
  },
  {
   "cell_type": "markdown",
   "metadata": {},
   "source": [
    "### Initialization"
   ]
  },
  {
   "cell_type": "code",
   "execution_count": 3,
   "metadata": {},
   "outputs": [],
   "source": [
    "fs = gcsfs.GCSFileSystem(token='anon', access='read_only')\n",
    "\n",
    "# ONLY WHEN NECESSARY: Re-initialize cmip6-master.csv with enhanced csv file\n",
    "#url_cloud = 'https://storage.googleapis.com/cmip6/cmip6.csv'  \n",
    "#df = pd.read_csv(url_cloud)\n",
    "#df.to_csv('csv/cmip6-master.csv',index=False)\n",
    "\n",
    "zarr_local = '/h36/naomi/zarr-minimal'"
   ]
  },
  {
   "cell_type": "markdown",
   "metadata": {},
   "source": [
    "### Choose basic configuration parameters"
   ]
  },
  {
   "cell_type": "code",
   "execution_count": 4,
   "metadata": {},
   "outputs": [
    {
     "name": "stdout",
     "output_type": "stream",
     "text": [
      "possible ESGF API search nodes:  ['llnl', 'ipsl', 'nci', 'ceda', 'jpl', 'gfdl', 'dkrz']\n"
     ]
    }
   ],
   "source": [
    "dtype = esgf_search_sites()\n",
    "print('possible ESGF API search nodes: ',list(dtype.keys()))\n",
    "ESGF_site = dtype['llnl']\n",
    "\n",
    "# Skip the following sites for getting netcdf files: broken or slow sites\n",
    "skip_sites = ['dist.nmlab.snu.ac.kr','esg.lasg.ac.cn','esgf-data2.diasjp.net']"
   ]
  },
  {
   "cell_type": "markdown",
   "metadata": {},
   "source": [
    "### Get new Google Sheet requests"
   ]
  },
  {
   "cell_type": "code",
   "execution_count": 5,
   "metadata": {},
   "outputs": [],
   "source": [
    "df_prior = pd.read_csv('csv/requests.csv')\n",
    "#df_prior"
   ]
  },
  {
   "cell_type": "markdown",
   "metadata": {},
   "source": [
    "### Get new Google Sheet requests\n",
    "- by default, only the new rows from the sheet are considered\n",
    "- specifying a list of rows or emails will add older entries "
   ]
  },
  {
   "cell_type": "code",
   "execution_count": 6,
   "metadata": {},
   "outputs": [
    {
     "data": {
      "text/html": [
       "<div>\n",
       "<style scoped>\n",
       "    .dataframe tbody tr th:only-of-type {\n",
       "        vertical-align: middle;\n",
       "    }\n",
       "\n",
       "    .dataframe tbody tr th {\n",
       "        vertical-align: top;\n",
       "    }\n",
       "\n",
       "    .dataframe thead th {\n",
       "        text-align: right;\n",
       "    }\n",
       "</style>\n",
       "<table border=\"1\" class=\"dataframe\">\n",
       "  <thead>\n",
       "    <tr style=\"text-align: right;\">\n",
       "      <th></th>\n",
       "      <th>Timestamp</th>\n",
       "      <th>E-mail</th>\n",
       "      <th>response status</th>\n",
       "      <th>members</th>\n",
       "      <th>experiments</th>\n",
       "      <th>models</th>\n",
       "      <th>variables</th>\n",
       "      <th>table</th>\n",
       "      <th>requester</th>\n",
       "    </tr>\n",
       "  </thead>\n",
       "  <tbody>\n",
       "    <tr>\n",
       "      <th>67</th>\n",
       "      <td>11/10/2019 11:05:14</td>\n",
       "      <td>naomi@ldeo.columbia.edu</td>\n",
       "      <td>NaN</td>\n",
       "      <td>[All]</td>\n",
       "      <td>[All]</td>\n",
       "      <td>[All]</td>\n",
       "      <td>[hfgeoubed, lithk, topg]</td>\n",
       "      <td>IfxGre</td>\n",
       "      <td>Naomi Henderson</td>\n",
       "    </tr>\n",
       "  </tbody>\n",
       "</table>\n",
       "</div>"
      ],
      "text/plain": [
       "              Timestamp                   E-mail response status members experiments models                 variables   table        requester\n",
       "67  11/10/2019 11:05:14  naomi@ldeo.columbia.edu             NaN   [All]       [All]  [All]  [hfgeoubed, lithk, topg]  IfxGre  Naomi Henderson"
      ]
     },
     "execution_count": 6,
     "metadata": {},
     "output_type": "execute_result"
    }
   ],
   "source": [
    "Debug = False\n",
    "# new, but also some older rows:\n",
    "df_request_new, dtrouble = requests(df_prior,rows = [67])\n",
    "\n",
    "# new, but also some older emails:\n",
    "#df_request_new, dtrouble = requests(df_prior,emails=['henrifdrake@gmail.com'])\n",
    "\n",
    "# only new:\n",
    "#df_request_new, dtrouble = requests(df_prior)\n",
    "\n",
    "request_id = set_request_id()\n",
    "if len(dtrouble)>=1:\n",
    "    print(dtrouble)\n",
    "\n",
    "df_request_new"
   ]
  },
  {
   "cell_type": "markdown",
   "metadata": {},
   "source": [
    "### Search ESGF for the availability of requested data"
   ]
  },
  {
   "cell_type": "code",
   "execution_count": 7,
   "metadata": {},
   "outputs": [
    {
     "name": "stdout",
     "output_type": "stream",
     "text": [
      "\n",
      "naomi@ldeo.columbia.edu\n",
      "IfxGre hfgeoubed ['All'] ['All']\n",
      "IfxGre lithk ['All'] ['All']\n",
      "IfxGre topg ['All'] ['All']\n"
     ]
    }
   ],
   "source": [
    "df_ESGF = search(ESGF_site,df_request_new)"
   ]
  },
  {
   "cell_type": "code",
   "execution_count": 8,
   "metadata": {},
   "outputs": [],
   "source": [
    "if Debug:\n",
    "    source_ids = df_ESGF.source_id.unique()\n",
    "    df_ESGF = df_ESGF[df_ESGF.source_id==source_ids[1]]\n",
    "    df_ESGF"
   ]
  },
  {
   "cell_type": "markdown",
   "metadata": {},
   "source": [
    "### Get the master list of existing zarr stores"
   ]
  },
  {
   "cell_type": "code",
   "execution_count": 9,
   "metadata": {},
   "outputs": [],
   "source": [
    "df_master = pd.read_csv('gs://cmip6/cmip6-zarr-consolidated-stores-noQC.csv')"
   ]
  },
  {
   "cell_type": "markdown",
   "metadata": {},
   "source": [
    "### Check the new requests:\n",
    "- already exists in df_master (what we have) - not needed\n",
    "- exists in df_ESGF (what is available) - if not available, then not needed"
   ]
  },
  {
   "cell_type": "code",
   "execution_count": 10,
   "metadata": {},
   "outputs": [
    {
     "name": "stdout",
     "output_type": "stream",
     "text": [
      "needed: nfiles=6, nstores=6\n",
      "['/CMIP/NCAR/CESM2-WACCM-FV2/historical/r1i1p1f1/IfxGre/hfgeoubed/gn'\n",
      " '/CMIP/NCAR/CESM2-WACCM-FV2/piControl/r1i1p1f1/IfxGre/hfgeoubed/gn'\n",
      " '/CMIP/NCAR/CESM2-WACCM-FV2/historical/r1i1p1f1/IfxGre/lithk/gn'\n",
      " '/CMIP/NCAR/CESM2-WACCM-FV2/piControl/r1i1p1f1/IfxGre/lithk/gn'\n",
      " '/CMIP/NCAR/CESM2-WACCM-FV2/historical/r1i1p1f1/IfxGre/topg/gn'\n",
      " '/CMIP/NCAR/CESM2-WACCM-FV2/piControl/r1i1p1f1/IfxGre/topg/gn']\n"
     ]
    }
   ],
   "source": [
    "df_needed = needed(df_master, df_request_new, df_ESGF)\n",
    "\n",
    "if len(df_needed) > 0:\n",
    "    num_stores = df_needed.zstore.nunique() \n",
    "    print(f'needed: nfiles={len(df_needed)}, nstores={num_stores}')\n",
    "else:\n",
    "    print('no new data available')\n",
    "    exit\n",
    "    \n",
    "print(df_needed.zstore.unique())"
   ]
  },
  {
   "cell_type": "markdown",
   "metadata": {},
   "source": [
    "### Start logging the progress and exceptions"
   ]
  },
  {
   "cell_type": "code",
   "execution_count": 11,
   "metadata": {},
   "outputs": [],
   "source": [
    "cat_file = 'csv/cmip6_'+request_id+'.csv'\n",
    "log_file = 'txt/request_'+request_id+'.log'"
   ]
  },
  {
   "cell_type": "code",
   "execution_count": 12,
   "metadata": {},
   "outputs": [],
   "source": [
    "# open and close for each write in case of kernel interrupt\n",
    "def write_log(file,str):\n",
    "    f = open(file,'a')\n",
    "    print(str)\n",
    "    f.write(str+'\\n')\n",
    "    f.close()\n",
    "    return"
   ]
  },
  {
   "cell_type": "markdown",
   "metadata": {
    "jupyter": {
     "outputs_hidden": true
    }
   },
   "source": [
    "### The real work is done in this next loop - can be done in parallel"
   ]
  },
  {
   "cell_type": "code",
   "execution_count": 13,
   "metadata": {},
   "outputs": [
    {
     "name": "stdout",
     "output_type": "stream",
     "text": [
      "\n",
      "1/6: local file: /h36/naomi/zarr-minimal/CMIP/NCAR/CESM2-WACCM-FV2/historical/r1i1p1f1/IfxGre/hfgeoubed/gn\n",
      "curl http://esgf-data.ucar.edu/thredds/fileServer/esg_dataroot/CMIP6/CMIP/NCAR/CESM2-WACCM-FV2/historical/r1i1p1f1/IfxGre/hfgeoubed/gn/v20191120/hfgeoubed_IfxGre_CESM2-WACCM-FV2_historical_r1i1p1f1_gn.nc -o nctemp/hfgeoubed_IfxGre_CESM2-WACCM-FV2_historical_r1i1p1f1_gn.nc\n",
      "['nctemp/hfgeoubed_IfxGre_CESM2-WACCM-FV2_historical_r1i1p1f1_gn.nc']\n",
      "\n",
      "/usr/bin/gsutil -m cp -r /h36/naomi/zarr-minimal/CMIP/NCAR/CESM2-WACCM-FV2/historical/r1i1p1f1/IfxGre/hfgeoubed/gn gs://cmip6/CMIP/NCAR/CESM2-WACCM-FV2/historical/r1i1p1f1/IfxGre/hfgeoubed/gn\n",
      "successfully saved as /h36/naomi/zarr-minimal/CMIP/NCAR/CESM2-WACCM-FV2/historical/r1i1p1f1/IfxGre/hfgeoubed/gn\n",
      "\n",
      "2/6: local file: /h36/naomi/zarr-minimal/CMIP/NCAR/CESM2-WACCM-FV2/piControl/r1i1p1f1/IfxGre/hfgeoubed/gn\n",
      "curl http://esgf-data.ucar.edu/thredds/fileServer/esg_dataroot/CMIP6/CMIP/NCAR/CESM2-WACCM-FV2/piControl/r1i1p1f1/IfxGre/hfgeoubed/gn/v20191120/hfgeoubed_IfxGre_CESM2-WACCM-FV2_piControl_r1i1p1f1_gn.nc -o nctemp/hfgeoubed_IfxGre_CESM2-WACCM-FV2_piControl_r1i1p1f1_gn.nc\n",
      "['nctemp/hfgeoubed_IfxGre_CESM2-WACCM-FV2_piControl_r1i1p1f1_gn.nc']\n",
      "\n",
      "/usr/bin/gsutil -m cp -r /h36/naomi/zarr-minimal/CMIP/NCAR/CESM2-WACCM-FV2/piControl/r1i1p1f1/IfxGre/hfgeoubed/gn gs://cmip6/CMIP/NCAR/CESM2-WACCM-FV2/piControl/r1i1p1f1/IfxGre/hfgeoubed/gn\n",
      "successfully saved as /h36/naomi/zarr-minimal/CMIP/NCAR/CESM2-WACCM-FV2/piControl/r1i1p1f1/IfxGre/hfgeoubed/gn\n",
      "\n",
      "3/6: local file: /h36/naomi/zarr-minimal/CMIP/NCAR/CESM2-WACCM-FV2/historical/r1i1p1f1/IfxGre/lithk/gn\n",
      "curl http://esgf-data.ucar.edu/thredds/fileServer/esg_dataroot/CMIP6/CMIP/NCAR/CESM2-WACCM-FV2/historical/r1i1p1f1/IfxGre/lithk/gn/v20191120/lithk_IfxGre_CESM2-WACCM-FV2_historical_r1i1p1f1_gn.nc -o nctemp/lithk_IfxGre_CESM2-WACCM-FV2_historical_r1i1p1f1_gn.nc\n",
      "['nctemp/lithk_IfxGre_CESM2-WACCM-FV2_historical_r1i1p1f1_gn.nc']\n",
      "\n",
      "/usr/bin/gsutil -m cp -r /h36/naomi/zarr-minimal/CMIP/NCAR/CESM2-WACCM-FV2/historical/r1i1p1f1/IfxGre/lithk/gn gs://cmip6/CMIP/NCAR/CESM2-WACCM-FV2/historical/r1i1p1f1/IfxGre/lithk/gn\n",
      "successfully saved as /h36/naomi/zarr-minimal/CMIP/NCAR/CESM2-WACCM-FV2/historical/r1i1p1f1/IfxGre/lithk/gn\n",
      "\n",
      "4/6: local file: /h36/naomi/zarr-minimal/CMIP/NCAR/CESM2-WACCM-FV2/piControl/r1i1p1f1/IfxGre/lithk/gn\n",
      "curl http://esgf-data.ucar.edu/thredds/fileServer/esg_dataroot/CMIP6/CMIP/NCAR/CESM2-WACCM-FV2/piControl/r1i1p1f1/IfxGre/lithk/gn/v20191120/lithk_IfxGre_CESM2-WACCM-FV2_piControl_r1i1p1f1_gn.nc -o nctemp/lithk_IfxGre_CESM2-WACCM-FV2_piControl_r1i1p1f1_gn.nc\n",
      "['nctemp/lithk_IfxGre_CESM2-WACCM-FV2_piControl_r1i1p1f1_gn.nc']\n",
      "\n",
      "/usr/bin/gsutil -m cp -r /h36/naomi/zarr-minimal/CMIP/NCAR/CESM2-WACCM-FV2/piControl/r1i1p1f1/IfxGre/lithk/gn gs://cmip6/CMIP/NCAR/CESM2-WACCM-FV2/piControl/r1i1p1f1/IfxGre/lithk/gn\n",
      "successfully saved as /h36/naomi/zarr-minimal/CMIP/NCAR/CESM2-WACCM-FV2/piControl/r1i1p1f1/IfxGre/lithk/gn\n",
      "\n",
      "5/6: local file: /h36/naomi/zarr-minimal/CMIP/NCAR/CESM2-WACCM-FV2/historical/r1i1p1f1/IfxGre/topg/gn\n",
      "curl http://esgf-data.ucar.edu/thredds/fileServer/esg_dataroot/CMIP6/CMIP/NCAR/CESM2-WACCM-FV2/historical/r1i1p1f1/IfxGre/topg/gn/v20191120/topg_IfxGre_CESM2-WACCM-FV2_historical_r1i1p1f1_gn.nc -o nctemp/topg_IfxGre_CESM2-WACCM-FV2_historical_r1i1p1f1_gn.nc\n",
      "['nctemp/topg_IfxGre_CESM2-WACCM-FV2_historical_r1i1p1f1_gn.nc']\n",
      "\n",
      "/usr/bin/gsutil -m cp -r /h36/naomi/zarr-minimal/CMIP/NCAR/CESM2-WACCM-FV2/historical/r1i1p1f1/IfxGre/topg/gn gs://cmip6/CMIP/NCAR/CESM2-WACCM-FV2/historical/r1i1p1f1/IfxGre/topg/gn\n",
      "successfully saved as /h36/naomi/zarr-minimal/CMIP/NCAR/CESM2-WACCM-FV2/historical/r1i1p1f1/IfxGre/topg/gn\n",
      "\n",
      "6/6: local file: /h36/naomi/zarr-minimal/CMIP/NCAR/CESM2-WACCM-FV2/piControl/r1i1p1f1/IfxGre/topg/gn\n",
      "curl http://esgf-data.ucar.edu/thredds/fileServer/esg_dataroot/CMIP6/CMIP/NCAR/CESM2-WACCM-FV2/piControl/r1i1p1f1/IfxGre/topg/gn/v20191120/topg_IfxGre_CESM2-WACCM-FV2_piControl_r1i1p1f1_gn.nc -o nctemp/topg_IfxGre_CESM2-WACCM-FV2_piControl_r1i1p1f1_gn.nc\n",
      "['nctemp/topg_IfxGre_CESM2-WACCM-FV2_piControl_r1i1p1f1_gn.nc']\n",
      "\n",
      "/usr/bin/gsutil -m cp -r /h36/naomi/zarr-minimal/CMIP/NCAR/CESM2-WACCM-FV2/piControl/r1i1p1f1/IfxGre/topg/gn gs://cmip6/CMIP/NCAR/CESM2-WACCM-FV2/piControl/r1i1p1f1/IfxGre/topg/gn\n",
      "successfully saved as /h36/naomi/zarr-minimal/CMIP/NCAR/CESM2-WACCM-FV2/piControl/r1i1p1f1/IfxGre/topg/gn\n"
     ]
    }
   ],
   "source": [
    "new_zarrs = df_needed.zstore.unique()\n",
    "\n",
    "zdict = {}  # construct dictionary for new rows to add to master catalog\n",
    "for item,zarr in enumerate(new_zarrs):\n",
    "    #if item > 20:\n",
    "    #    continue\n",
    "    #zbdir  = 'ztemp'  + zarr\n",
    "    zbdir  = zarr_local  + zarr\n",
    "    \n",
    "    write_log(log_file,f\"\\n{item+1}/{num_stores}: local file: {zbdir}\")\n",
    "    \n",
    "    gsurl = 'gs://cmip6' + zarr\n",
    "    contents = fs.ls(gsurl+'/.zmetadata')\n",
    "    if any(\"zmetadata\" in s for s in contents):\n",
    "        write_log(log_file,'store already in cloud')\n",
    "        continue\n",
    "\n",
    "    # does it exist locally? \n",
    "    if os.path.isfile(zbdir+'/.zmetadata'):\n",
    "        write_log(log_file,f'already exists: {zbdir}')\n",
    "        continue\n",
    "\n",
    "    gfiles,troubles = get_ncfiles(zarr,df_needed,skip_sites)\n",
    "    if len(gfiles) == 0: \n",
    "        write_log(log_file,'no files available')\n",
    "        continue\n",
    "    \n",
    "    variable_id = zarr.split('/')[-2]\n",
    "    for gfile in gfiles:   # changes file sizes!!\n",
    "        command = '/usr/bin/ncatted -h -O -a missing_value\\,'+variable_id+',d,, '+gfile\n",
    "        os.system(command)\n",
    "    \n",
    "    # concatenate in time with mfdataset\n",
    "    print(gfiles)\n",
    "    status, ds, dstr = concatenate(zarr,gfiles)  \n",
    "\n",
    "    if status == 'failure':\n",
    "        print(status,dstr)\n",
    "        write_log(log_file,dstr)\n",
    "        continue\n",
    "    else:\n",
    "        write_log(log_file,dstr)\n",
    "\n",
    "    ds.to_zarr(zbdir, consolidated=True, mode='w')  \n",
    "\n",
    "    if not os.path.isfile(zbdir+'/.zmetadata'):\n",
    "        write_log(log_file,'to_zarr failure')\n",
    "        continue\n",
    "   \n",
    "    vlist = get_details(ds,zbdir,zarr)\n",
    "    \n",
    "    # upload to cloud\n",
    "    command = '/usr/bin/gsutil -m cp -r '+ zbdir + ' ' + gsurl\n",
    "    write_log(log_file,command)\n",
    "    os.system(command) \n",
    "        \n",
    "    try:\n",
    "        ds = xr.open_zarr(fs.get_mapper(gsurl), consolidated=True)\n",
    "        zdict[item] = vlist\n",
    "        write_log(log_file,f'successfully saved as {zbdir}') \n",
    "        for gfile in gfiles:\n",
    "            os.system('rm -f '+ gfile)\n",
    "    except:\n",
    "        write_log(log_file,'store did not get saved to GCS properly')\n",
    "    "
   ]
  },
  {
   "cell_type": "markdown",
   "metadata": {},
   "source": [
    "### Make a table of aquired data to send in email to requestor"
   ]
  },
  {
   "cell_type": "code",
   "execution_count": 15,
   "metadata": {},
   "outputs": [],
   "source": [
    "if len(zdict) == 0 :\n",
    "    print('nothing else to do')\n",
    "    exit\n",
    "else:\n",
    "    dz = dict_to_dfcat(zdict)"
   ]
  },
  {
   "cell_type": "code",
   "execution_count": 16,
   "metadata": {},
   "outputs": [
    {
     "name": "stderr",
     "output_type": "stream",
     "text": [
      "/usr/local/python/anaconda3/envs/pangeo-Oct2019/lib/python3.7/site-packages/ipykernel_launcher.py:1: FutureWarning: Sorting because non-concatenation axis is not aligned. A future version\n",
      "of pandas will change to not sort by default.\n",
      "\n",
      "To accept the future behavior, pass 'sort=False'.\n",
      "\n",
      "To retain the current behavior and silence the warning, pass 'sort=True'.\n",
      "\n",
      "  \"\"\"Entry point for launching an IPython kernel.\n"
     ]
    }
   ],
   "source": [
    "df_master_new = pd.concat([df_master, dz])"
   ]
  },
  {
   "cell_type": "code",
   "execution_count": 26,
   "metadata": {},
   "outputs": [
    {
     "name": "stdout",
     "output_type": "stream",
     "text": [
      "Dear Naomi Henderson:\n",
      "\n",
      "  Here are the results from your recent CMIP6 data request(s).  The master catalog will be updated with the nightly build.\n",
      "\n",
      "From the folks at:\n",
      "  The Climate Data Science Lab\n",
      "  Division of Ocean and Climate Physics\n",
      "  LDEO/Columbia University\n",
      "\n",
      "--------------------------\n",
      "\n",
      "request:\n"
     ]
    },
    {
     "data": {
      "text/plain": [
       "{'Timestamp': '11/10/2019 11:05:14',\n",
       " 'E-mail': 'naomi@ldeo.columbia.edu',\n",
       " 'members': ['All'],\n",
       " 'experiments': ['All'],\n",
       " 'models': ['All'],\n",
       " 'variables': ['hfgeoubed', 'lithk', 'topg'],\n",
       " 'table': 'IfxGre',\n",
       " 'requester': 'Naomi Henderson'}"
      ]
     },
     "metadata": {},
     "output_type": "display_data"
    },
    {
     "name": "stdout",
     "output_type": "stream",
     "text": [
      "\n",
      "new stores added:\n",
      " ['gs://cmip6/CMIP/NCAR/CESM2-WACCM-FV2/historical/r1i1p1f1/IfxGre/hfgeoubed/gn'\n",
      " 'gs://cmip6/CMIP/NCAR/CESM2-WACCM-FV2/piControl/r1i1p1f1/IfxGre/hfgeoubed/gn'\n",
      " 'gs://cmip6/CMIP/NCAR/CESM2-WACCM-FV2/historical/r1i1p1f1/IfxGre/lithk/gn'\n",
      " 'gs://cmip6/CMIP/NCAR/CESM2-WACCM-FV2/piControl/r1i1p1f1/IfxGre/lithk/gn'\n",
      " 'gs://cmip6/CMIP/NCAR/CESM2-WACCM-FV2/historical/r1i1p1f1/IfxGre/topg/gn'\n",
      " 'gs://cmip6/CMIP/NCAR/CESM2-WACCM-FV2/piControl/r1i1p1f1/IfxGre/topg/gn'] \n",
      "\n",
      "available data (including the new stores):\n"
     ]
    },
    {
     "data": {
      "text/html": [
       "<div>\n",
       "<style scoped>\n",
       "    .dataframe tbody tr th:only-of-type {\n",
       "        vertical-align: middle;\n",
       "    }\n",
       "\n",
       "    .dataframe tbody tr th {\n",
       "        vertical-align: top;\n",
       "    }\n",
       "\n",
       "    .dataframe thead th {\n",
       "        text-align: right;\n",
       "    }\n",
       "</style>\n",
       "<table border=\"1\" class=\"dataframe\">\n",
       "  <thead>\n",
       "    <tr style=\"text-align: right;\">\n",
       "      <th></th>\n",
       "      <th>variable_id</th>\n",
       "      <th>hfgeoubed</th>\n",
       "      <th>lithk</th>\n",
       "      <th>topg</th>\n",
       "    </tr>\n",
       "    <tr>\n",
       "      <th>experiment_id</th>\n",
       "      <th>source_id</th>\n",
       "      <th></th>\n",
       "      <th></th>\n",
       "      <th></th>\n",
       "    </tr>\n",
       "  </thead>\n",
       "  <tbody>\n",
       "    <tr>\n",
       "      <th rowspan=\"2\" valign=\"top\">1pctCO2</th>\n",
       "      <th>CESM2</th>\n",
       "      <td>1</td>\n",
       "      <td>1</td>\n",
       "      <td>1</td>\n",
       "    </tr>\n",
       "    <tr>\n",
       "      <th>CESM2-WACCM</th>\n",
       "      <td>1</td>\n",
       "      <td>1</td>\n",
       "      <td>1</td>\n",
       "    </tr>\n",
       "    <tr>\n",
       "      <th rowspan=\"2\" valign=\"top\">amip</th>\n",
       "      <th>CESM2</th>\n",
       "      <td>3</td>\n",
       "      <td>3</td>\n",
       "      <td>3</td>\n",
       "    </tr>\n",
       "    <tr>\n",
       "      <th>CESM2-WACCM</th>\n",
       "      <td>3</td>\n",
       "      <td>3</td>\n",
       "      <td>2</td>\n",
       "    </tr>\n",
       "    <tr>\n",
       "      <th>esm-hist</th>\n",
       "      <th>CESM2</th>\n",
       "      <td>2</td>\n",
       "      <td>0</td>\n",
       "      <td>1</td>\n",
       "    </tr>\n",
       "    <tr>\n",
       "      <th>esm-piControl</th>\n",
       "      <th>CESM2</th>\n",
       "      <td>1</td>\n",
       "      <td>1</td>\n",
       "      <td>1</td>\n",
       "    </tr>\n",
       "    <tr>\n",
       "      <th rowspan=\"3\" valign=\"top\">historical</th>\n",
       "      <th>CESM2</th>\n",
       "      <td>11</td>\n",
       "      <td>11</td>\n",
       "      <td>11</td>\n",
       "    </tr>\n",
       "    <tr>\n",
       "      <th>CESM2-WACCM</th>\n",
       "      <td>3</td>\n",
       "      <td>3</td>\n",
       "      <td>3</td>\n",
       "    </tr>\n",
       "    <tr>\n",
       "      <th>CESM2-WACCM-FV2</th>\n",
       "      <td>1</td>\n",
       "      <td>1</td>\n",
       "      <td>1</td>\n",
       "    </tr>\n",
       "    <tr>\n",
       "      <th>lig127k</th>\n",
       "      <th>CESM2</th>\n",
       "      <td>1</td>\n",
       "      <td>1</td>\n",
       "      <td>1</td>\n",
       "    </tr>\n",
       "    <tr>\n",
       "      <th rowspan=\"3\" valign=\"top\">piControl</th>\n",
       "      <th>CESM2</th>\n",
       "      <td>1</td>\n",
       "      <td>1</td>\n",
       "      <td>1</td>\n",
       "    </tr>\n",
       "    <tr>\n",
       "      <th>CESM2-WACCM</th>\n",
       "      <td>1</td>\n",
       "      <td>1</td>\n",
       "      <td>1</td>\n",
       "    </tr>\n",
       "    <tr>\n",
       "      <th>CESM2-WACCM-FV2</th>\n",
       "      <td>1</td>\n",
       "      <td>1</td>\n",
       "      <td>1</td>\n",
       "    </tr>\n",
       "    <tr>\n",
       "      <th rowspan=\"2\" valign=\"top\">ssp585</th>\n",
       "      <th>CESM2</th>\n",
       "      <td>2</td>\n",
       "      <td>2</td>\n",
       "      <td>2</td>\n",
       "    </tr>\n",
       "    <tr>\n",
       "      <th>CESM2-WACCM</th>\n",
       "      <td>1</td>\n",
       "      <td>1</td>\n",
       "      <td>1</td>\n",
       "    </tr>\n",
       "  </tbody>\n",
       "</table>\n",
       "</div>"
      ],
      "text/plain": [
       "variable_id                    hfgeoubed  lithk  topg\n",
       "experiment_id source_id                              \n",
       "1pctCO2       CESM2                    1      1     1\n",
       "              CESM2-WACCM              1      1     1\n",
       "amip          CESM2                    3      3     3\n",
       "              CESM2-WACCM              3      3     2\n",
       "esm-hist      CESM2                    2      0     1\n",
       "esm-piControl CESM2                    1      1     1\n",
       "historical    CESM2                   11     11    11\n",
       "              CESM2-WACCM              3      3     3\n",
       "              CESM2-WACCM-FV2          1      1     1\n",
       "lig127k       CESM2                    1      1     1\n",
       "piControl     CESM2                    1      1     1\n",
       "              CESM2-WACCM              1      1     1\n",
       "              CESM2-WACCM-FV2          1      1     1\n",
       "ssp585        CESM2                    2      2     2\n",
       "              CESM2-WACCM              1      1     1"
      ]
     },
     "metadata": {},
     "output_type": "display_data"
    }
   ],
   "source": [
    "from IPython.display import display\n",
    "\n",
    "ldict = []\n",
    "names = \"\"\n",
    "for row in df_request_new.values:\n",
    "    rdict = dict(zip(df_request_new.keys(),row))\n",
    "    names += rdict['requester']\n",
    "    del rdict['response status']\n",
    "    ldict += [rdict]\n",
    "    \n",
    "print('Dear',names+':')\n",
    "print('\\n  Here are the results from your recent CMIP6 data request(s).  The master catalog will be updated with the nightly build.')\n",
    "print('\\nFrom the folks at:\\n  The Climate Data Science Lab\\n  Division of Ocean and Climate Physics\\n  LDEO/Columbia University')\n",
    "\n",
    "print('\\n--------------------------')\n",
    "\n",
    "print('\\nrequest:')\n",
    "display(ldict[0])\n",
    "\n",
    "print('\\nnew stores added:\\n',dz.zstore.values,'\\n')\n",
    "\n",
    "table = response(df_request_new,df_master_new)\n",
    "\n",
    "print('available data (including the new stores):')\n",
    "display(table)"
   ]
  },
  {
   "cell_type": "code",
   "execution_count": 18,
   "metadata": {},
   "outputs": [],
   "source": [
    "! mv csv/request_new.csv csv/requests.csv"
   ]
  },
  {
   "cell_type": "code",
   "execution_count": null,
   "metadata": {},
   "outputs": [],
   "source": []
  }
 ],
 "metadata": {
  "kernelspec": {
   "display_name": "pangeo-Oct2019",
   "language": "python",
   "name": "pangeo-oct2019"
  },
  "language_info": {
   "codemirror_mode": {
    "name": "ipython",
    "version": 3
   },
   "file_extension": ".py",
   "mimetype": "text/x-python",
   "name": "python",
   "nbconvert_exporter": "python",
   "pygments_lexer": "ipython3",
   "version": "3.7.3"
  }
 },
 "nbformat": 4,
 "nbformat_minor": 4
}
