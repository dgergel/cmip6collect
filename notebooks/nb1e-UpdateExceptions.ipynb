{
 "cells": [
  {
   "cell_type": "markdown",
   "metadata": {},
   "source": [
    "### CMIP6 Data Issues \n",
    "1. The ES-DOC errata pages are used for modelling centers to report issues with their published data here:\n",
    "      [ES-DOC ERRATA]( https://errata.es-doc.org )\n",
    "2. A separate list of exceptions is kept as we process the data (concatenating netcdf and saving as zarr)\n",
    "      [ESGF to GCS Issues]( https://docs.google.com/spreadsheets/d/e/2PACX-1vRxKgz1xCH7zhUoDnl_llgEvbj2ssxoJiTUdbkHkkfWiCKU8EfZtPerar3ELjoIzAda5giR06QvbWGE/pubhtml?gid=128595157&single=true )\n",
    "3. Issues with the existing Google Cloud collection are crowd sourced here:\n",
    "      [GCS Issues]( https://tinyurl.com/y5cw76at )"
   ]
  },
  {
   "cell_type": "markdown",
   "metadata": {},
   "source": [
    "### This notebook updates the list of processing exceptions in Issue 2.\n",
    "1. This does not work very well, there has to be a better way ...\n",
    "2. For now, just keep the local csv/exceptions.csv file up-to-date and ignore the cloud version"
   ]
  },
  {
   "cell_type": "code",
   "execution_count": 1,
   "metadata": {},
   "outputs": [
    {
     "data": {
      "text/plain": [
       "'3.1.0'"
      ]
     },
     "execution_count": 1,
     "metadata": {},
     "output_type": "execute_result"
    }
   ],
   "source": [
    "import gspread\n",
    "from oauth2client.service_account import ServiceAccountCredentials\n",
    "import pandas as pd\n",
    "from datetime import datetime\n",
    "from ast import literal_eval\n",
    "import os\n",
    "import numpy as np\n",
    "import os\n",
    "gspread.__version__"
   ]
  },
  {
   "cell_type": "code",
   "execution_count": 2,
   "metadata": {},
   "outputs": [],
   "source": [
    "json_keyfile = '/home/naomi/cmip6-zarr/json/Pangeo Hackathon-e48a41b13c91.json'\n",
    "scope = ['https://spreadsheets.google.com/feeds','https://www.googleapis.com/auth/drive']\n",
    "credentials = ServiceAccountCredentials.from_json_keyfile_name(json_keyfile, scope)\n",
    "gc = gspread.authorize(credentials)"
   ]
  },
  {
   "cell_type": "code",
   "execution_count": 3,
   "metadata": {},
   "outputs": [
    {
     "name": "stdout",
     "output_type": "stream",
     "text": [
      "[<Worksheet 'Form Responses 1' id:252604281>, <Worksheet 'NH_additions' id:128595157>]\n"
     ]
    }
   ],
   "source": [
    "sheet_name = \"CMIP6_DataExceptions (Responses)\"\n",
    "sh = gc.open(sheet_name)\n",
    "print(sh.worksheets())"
   ]
  },
  {
   "cell_type": "code",
   "execution_count": 4,
   "metadata": {},
   "outputs": [],
   "source": [
    "wks = sh.worksheet(\"NH_additions\")\n",
    "\n",
    "data = wks.get_all_values()\n",
    "headers = data.pop(0)\n",
    "\n",
    "df_cloud = pd.DataFrame(data, columns=headers)\n",
    "#df_cloud['name'] = ['/'.join(s[:-3]) for s in df_cloud.values]\n",
    "df_local = pd.read_csv('csv/exceptions.csv', na_filter= False)\n",
    "#df_local['name'] = ['/'.join(s[:-3]) for s in df_local.values]\n",
    "\n",
    "# add new from df_local\n",
    "for item,row in enumerate(df_local.values):\n",
    "    name = row[-1]\n",
    "    #print(item,name)\n",
    "    df_match = df_cloud[df_cloud.name==name]\n",
    "    if len(df_match)==0:\n",
    "        print(item,name,' was not in df_cloud')\n",
    "        wks.append_row(list(row))"
   ]
  },
  {
   "cell_type": "code",
   "execution_count": 5,
   "metadata": {},
   "outputs": [
    {
     "data": {
      "text/html": [
       "<div>\n",
       "<style scoped>\n",
       "    .dataframe tbody tr th:only-of-type {\n",
       "        vertical-align: middle;\n",
       "    }\n",
       "\n",
       "    .dataframe tbody tr th {\n",
       "        vertical-align: top;\n",
       "    }\n",
       "\n",
       "    .dataframe thead th {\n",
       "        text-align: right;\n",
       "    }\n",
       "</style>\n",
       "<table border=\"1\" class=\"dataframe\">\n",
       "  <thead>\n",
       "    <tr style=\"text-align: right;\">\n",
       "      <th></th>\n",
       "      <th>source_id</th>\n",
       "      <th>experiment_id</th>\n",
       "      <th>member_id</th>\n",
       "      <th>table_id</th>\n",
       "      <th>variable_id</th>\n",
       "      <th>grid_label</th>\n",
       "      <th>reason_code</th>\n",
       "      <th>reason_txt</th>\n",
       "      <th>status</th>\n",
       "      <th>name</th>\n",
       "    </tr>\n",
       "  </thead>\n",
       "  <tbody>\n",
       "    <tr>\n",
       "      <th>0</th>\n",
       "      <td>ACCESS-ESM1-5</td>\n",
       "      <td>esm-hist</td>\n",
       "      <td>r1i1p1f1</td>\n",
       "      <td>Omon</td>\n",
       "      <td>fgco2</td>\n",
       "      <td>gn</td>\n",
       "      <td>local</td>\n",
       "      <td>NetCDF: Access failure</td>\n",
       "      <td>2020-03-06</td>\n",
       "      <td>ACCESS-ESM1-5/esm-hist/r1i1p1f1/Omon/fgco2/gn/...</td>\n",
       "    </tr>\n",
       "    <tr>\n",
       "      <th>1</th>\n",
       "      <td>ACCESS-ESM1-5</td>\n",
       "      <td>piControl</td>\n",
       "      <td>r1i1p1f1</td>\n",
       "      <td>Omon</td>\n",
       "      <td>umo</td>\n",
       "      <td>gn</td>\n",
       "      <td>noUse</td>\n",
       "      <td>HDF error</td>\n",
       "      <td>2020-02-16</td>\n",
       "      <td>ACCESS-ESM1-5/piControl/r1i1p1f1/Omon/umo/gn/n...</td>\n",
       "    </tr>\n",
       "    <tr>\n",
       "      <th>2</th>\n",
       "      <td>BCC-CSM2-MR</td>\n",
       "      <td>esm-hist</td>\n",
       "      <td>r1i1p1f1</td>\n",
       "      <td>SImon</td>\n",
       "      <td>siconc</td>\n",
       "      <td>gn</td>\n",
       "      <td>local</td>\n",
       "      <td>NetCDF: Access failure</td>\n",
       "      <td>2020-03-05</td>\n",
       "      <td>BCC-CSM2-MR/esm-hist/r1i1p1f1/SImon/siconc/gn/...</td>\n",
       "    </tr>\n",
       "    <tr>\n",
       "      <th>3</th>\n",
       "      <td>BCC-CSM2-MR</td>\n",
       "      <td>historical</td>\n",
       "      <td>r1i1p1f1</td>\n",
       "      <td>6hrLev</td>\n",
       "      <td>hus</td>\n",
       "      <td>gn</td>\n",
       "      <td>noUse</td>\n",
       "      <td>all data after 2012 has zeros in the dimensions</td>\n",
       "      <td></td>\n",
       "      <td>BCC-CSM2-MR/historical/r1i1p1f1/6hrLev/hus/gn/...</td>\n",
       "    </tr>\n",
       "    <tr>\n",
       "      <th>4</th>\n",
       "      <td>BCC-CSM2-MR</td>\n",
       "      <td>historical</td>\n",
       "      <td>r1i1p1f1</td>\n",
       "      <td>SImon</td>\n",
       "      <td>siconc</td>\n",
       "      <td>gn</td>\n",
       "      <td>local</td>\n",
       "      <td>NetCDF: Access failure</td>\n",
       "      <td>2020-03-05</td>\n",
       "      <td>BCC-CSM2-MR/historical/r1i1p1f1/SImon/siconc/g...</td>\n",
       "    </tr>\n",
       "    <tr>\n",
       "      <th>...</th>\n",
       "      <td>...</td>\n",
       "      <td>...</td>\n",
       "      <td>...</td>\n",
       "      <td>...</td>\n",
       "      <td>...</td>\n",
       "      <td>...</td>\n",
       "      <td>...</td>\n",
       "      <td>...</td>\n",
       "      <td>...</td>\n",
       "      <td>...</td>\n",
       "    </tr>\n",
       "    <tr>\n",
       "      <th>370</th>\n",
       "      <td>GFDL-ESM4</td>\n",
       "      <td>historical</td>\n",
       "      <td>r1i1p1f1</td>\n",
       "      <td>Oyr</td>\n",
       "      <td>parag</td>\n",
       "      <td>gr</td>\n",
       "      <td>local</td>\n",
       "      <td>NetCDF: Access failure</td>\n",
       "      <td>2020-03-08</td>\n",
       "      <td>GFDL-ESM4/historical/r1i1p1f1/Oyr/parag/gr/local</td>\n",
       "    </tr>\n",
       "    <tr>\n",
       "      <th>371</th>\n",
       "      <td>UKESM1-0-LL</td>\n",
       "      <td>piControl</td>\n",
       "      <td>r1i1p1f2</td>\n",
       "      <td>CFmon</td>\n",
       "      <td>clisccp</td>\n",
       "      <td>gn</td>\n",
       "      <td>local</td>\n",
       "      <td>NetCDF: Access failure</td>\n",
       "      <td>2020-03-08</td>\n",
       "      <td>UKESM1-0-LL/piControl/r1i1p1f2/CFmon/clisccp/g...</td>\n",
       "    </tr>\n",
       "    <tr>\n",
       "      <th>372</th>\n",
       "      <td>GFDL-ESM4</td>\n",
       "      <td>historical</td>\n",
       "      <td>r1i1p1f1</td>\n",
       "      <td>Oyr</td>\n",
       "      <td>nh4</td>\n",
       "      <td>gr</td>\n",
       "      <td>local</td>\n",
       "      <td>NetCDF: Access failure</td>\n",
       "      <td>2020-03-08</td>\n",
       "      <td>GFDL-ESM4/historical/r1i1p1f1/Oyr/nh4/gr/local</td>\n",
       "    </tr>\n",
       "    <tr>\n",
       "      <th>373</th>\n",
       "      <td>MPI-ESM1-2-HR</td>\n",
       "      <td>piControl</td>\n",
       "      <td>r1i1p1f1</td>\n",
       "      <td>Amon</td>\n",
       "      <td>rlutcs</td>\n",
       "      <td>gn</td>\n",
       "      <td>local</td>\n",
       "      <td>I/O failure</td>\n",
       "      <td>2020-03-09</td>\n",
       "      <td>MPI-ESM1-2-HR/piControl/r1i1p1f1/Amon/rlutcs/g...</td>\n",
       "    </tr>\n",
       "    <tr>\n",
       "      <th>374</th>\n",
       "      <td>IPSL-CM6A-LR</td>\n",
       "      <td>historical</td>\n",
       "      <td>r1i1p1f1</td>\n",
       "      <td>Oyr</td>\n",
       "      <td>all</td>\n",
       "      <td>gn</td>\n",
       "      <td>local</td>\n",
       "      <td>NetCDF: Access failure</td>\n",
       "      <td>2020-03-09</td>\n",
       "      <td>IPSL-CM6A-LR/historical/r1i1p1f1/Oyr/expfe/gn/...</td>\n",
       "    </tr>\n",
       "  </tbody>\n",
       "</table>\n",
       "<p>375 rows × 10 columns</p>\n",
       "</div>"
      ],
      "text/plain": [
       "         source_id experiment_id member_id table_id variable_id grid_label  \\\n",
       "0    ACCESS-ESM1-5      esm-hist  r1i1p1f1     Omon       fgco2         gn   \n",
       "1    ACCESS-ESM1-5     piControl  r1i1p1f1     Omon         umo         gn   \n",
       "2      BCC-CSM2-MR      esm-hist  r1i1p1f1    SImon      siconc         gn   \n",
       "3      BCC-CSM2-MR    historical  r1i1p1f1   6hrLev         hus         gn   \n",
       "4      BCC-CSM2-MR    historical  r1i1p1f1    SImon      siconc         gn   \n",
       "..             ...           ...       ...      ...         ...        ...   \n",
       "370      GFDL-ESM4    historical  r1i1p1f1      Oyr       parag         gr   \n",
       "371    UKESM1-0-LL     piControl  r1i1p1f2    CFmon     clisccp         gn   \n",
       "372      GFDL-ESM4    historical  r1i1p1f1      Oyr         nh4         gr   \n",
       "373  MPI-ESM1-2-HR     piControl  r1i1p1f1     Amon      rlutcs         gn   \n",
       "374   IPSL-CM6A-LR    historical  r1i1p1f1      Oyr         all         gn   \n",
       "\n",
       "    reason_code                                       reason_txt      status  \\\n",
       "0         local                           NetCDF: Access failure  2020-03-06   \n",
       "1         noUse                                        HDF error  2020-02-16   \n",
       "2         local                           NetCDF: Access failure  2020-03-05   \n",
       "3         noUse  all data after 2012 has zeros in the dimensions               \n",
       "4         local                           NetCDF: Access failure  2020-03-05   \n",
       "..          ...                                              ...         ...   \n",
       "370       local                           NetCDF: Access failure  2020-03-08   \n",
       "371       local                           NetCDF: Access failure  2020-03-08   \n",
       "372       local                           NetCDF: Access failure  2020-03-08   \n",
       "373       local                                      I/O failure  2020-03-09   \n",
       "374       local                           NetCDF: Access failure  2020-03-09   \n",
       "\n",
       "                                                  name  \n",
       "0    ACCESS-ESM1-5/esm-hist/r1i1p1f1/Omon/fgco2/gn/...  \n",
       "1    ACCESS-ESM1-5/piControl/r1i1p1f1/Omon/umo/gn/n...  \n",
       "2    BCC-CSM2-MR/esm-hist/r1i1p1f1/SImon/siconc/gn/...  \n",
       "3    BCC-CSM2-MR/historical/r1i1p1f1/6hrLev/hus/gn/...  \n",
       "4    BCC-CSM2-MR/historical/r1i1p1f1/SImon/siconc/g...  \n",
       "..                                                 ...  \n",
       "370   GFDL-ESM4/historical/r1i1p1f1/Oyr/parag/gr/local  \n",
       "371  UKESM1-0-LL/piControl/r1i1p1f2/CFmon/clisccp/g...  \n",
       "372     GFDL-ESM4/historical/r1i1p1f1/Oyr/nh4/gr/local  \n",
       "373  MPI-ESM1-2-HR/piControl/r1i1p1f1/Amon/rlutcs/g...  \n",
       "374  IPSL-CM6A-LR/historical/r1i1p1f1/Oyr/expfe/gn/...  \n",
       "\n",
       "[375 rows x 10 columns]"
      ]
     },
     "execution_count": 5,
     "metadata": {},
     "output_type": "execute_result"
    }
   ],
   "source": [
    "df_cloud"
   ]
  },
  {
   "cell_type": "code",
   "execution_count": 6,
   "metadata": {},
   "outputs": [
    {
     "name": "stdout",
     "output_type": "stream",
     "text": [
      "0 ACCESS-ESM1-5/esm-hist/r1i1p1f1/Omon/fgco2/gn/local  is not in df_local\n",
      "1 ACCESS-ESM1-5/piControl/r1i1p1f1/Omon/umo/gn/noUse  is not in df_local\n",
      "138 EC-Earth3/historical/r2i1p1f1/Amon/all/gr/noUse  is not in df_local\n",
      "158 EC-Earth3-LR/piControl/r1i1p1f1/Amon/clt/gr/noUse  is not in df_local\n",
      "159 EC-Earth3-LR/piControl/r1i1p1f1/Amon/evspsbl/gr/noUse  is not in df_local\n",
      "160 EC-Earth3-LR/piControl/r1i1p1f1/Amon/hfls/gr/noUse  is not in df_local\n",
      "161 EC-Earth3-LR/piControl/r1i1p1f1/Amon/hfss/gr/noUse  is not in df_local\n",
      "162 EC-Earth3-LR/piControl/r1i1p1f1/Amon/pr/gr/noUse  is not in df_local\n",
      "163 EC-Earth3-LR/piControl/r1i1p1f1/Amon/prsn/gr/noUse  is not in df_local\n",
      "164 EC-Earth3-LR/piControl/r1i1p1f1/Amon/psl/gr/noUse  is not in df_local\n",
      "165 EC-Earth3-LR/piControl/r1i1p1f1/Amon/rlds/gr/noUse  is not in df_local\n",
      "166 EC-Earth3-LR/piControl/r1i1p1f1/Amon/rlus/gr/noUse  is not in df_local\n",
      "167 EC-Earth3-LR/piControl/r1i1p1f1/Amon/rlut/gr/noUse  is not in df_local\n",
      "168 EC-Earth3-LR/piControl/r1i1p1f1/Amon/rsds/gr/noUse  is not in df_local\n",
      "169 EC-Earth3-LR/piControl/r1i1p1f1/Amon/rsdt/gr/noUse  is not in df_local\n",
      "170 EC-Earth3-LR/piControl/r1i1p1f1/Amon/rsus/gr/noUse  is not in df_local\n",
      "171 EC-Earth3-LR/piControl/r1i1p1f1/Amon/rsut/gr/noUse  is not in df_local\n",
      "172 EC-Earth3-LR/piControl/r1i1p1f1/Amon/ta/gr/noUse  is not in df_local\n",
      "173 EC-Earth3-LR/piControl/r1i1p1f1/Amon/tas/gr/noUse  is not in df_local\n",
      "174 EC-Earth3-LR/piControl/r1i1p1f1/Amon/tasmax/gr/noUse  is not in df_local\n",
      "175 EC-Earth3-LR/piControl/r1i1p1f1/Amon/tasmin/gr/noUse  is not in df_local\n",
      "176 EC-Earth3-LR/piControl/r1i1p1f1/Amon/ua/gr/noUse  is not in df_local\n",
      "177 EC-Earth3-LR/piControl/r1i1p1f1/Amon/uas/gr/noUse  is not in df_local\n",
      "178 EC-Earth3-LR/piControl/r1i1p1f1/Amon/va/gr/noUse  is not in df_local\n",
      "179 EC-Earth3-LR/piControl/r1i1p1f1/Amon/vas/gr/noUse  is not in df_local\n",
      "180 EC-Earth3-LR/piControl/r1i1p1f1/SImon/siconc/gn/noUse  is not in df_local\n",
      "181 EC-Earth3-LR/piControl/r1i1p1f1/SImon/sithick/gn/noUse  is not in df_local\n",
      "182 EC-Earth3-Veg/historical/r1i1p1f1/Omon/masscello/gn/noUse  is not in df_local\n",
      "242 GISS-E2-1-G/historical/r7i1p3f1/Amon/all/gn/noUse  is not in df_local\n",
      "251 GISS-E2-2-G/piControl/r1i1p1f1/day/tas/gn/noUse  is not in df_local\n"
     ]
    }
   ],
   "source": [
    "wks = sh.worksheet(\"NH_additions\")\n",
    "\n",
    "data = wks.get_all_values()\n",
    "headers = data.pop(0)\n",
    "\n",
    "df_cloud = pd.DataFrame(data, columns=headers)\n",
    "#df_cloud['name'] = ['/'.join(s[:-3]) for s in df_cloud.values]\n",
    "df_local = pd.read_csv('csv/exceptions.csv', na_filter= False)\n",
    "#df_local['name'] = ['/'.join(s[:-3]) for s in df_local.values]\n",
    "\n",
    "# delete old from df\n",
    "for item,row in enumerate(df_cloud.values):\n",
    "    name = row[-1]\n",
    "    #print(item,name)\n",
    "    df_match = df_local[df_local.name==name]\n",
    "    if len(df_match)==0:\n",
    "        print(item,name,' is not in df_local')\n",
    "        wks.delete_row(item+2)"
   ]
  },
  {
   "cell_type": "code",
   "execution_count": 7,
   "metadata": {},
   "outputs": [
    {
     "ename": "AssertionError",
     "evalue": "",
     "output_type": "error",
     "traceback": [
      "\u001b[0;31m---------------------------------------------------------------------------\u001b[0m",
      "\u001b[0;31mAssertionError\u001b[0m                            Traceback (most recent call last)",
      "\u001b[0;32m<ipython-input-7-2b97708df030>\u001b[0m in \u001b[0;36m<module>\u001b[0;34m\u001b[0m\n\u001b[0;32m----> 1\u001b[0;31m \u001b[0;32massert\u001b[0m \u001b[0;32mFalse\u001b[0m\u001b[0;34m\u001b[0m\u001b[0;34m\u001b[0m\u001b[0m\n\u001b[0m",
      "\u001b[0;31mAssertionError\u001b[0m: "
     ]
    }
   ],
   "source": [
    "assert False "
   ]
  },
  {
   "cell_type": "code",
   "execution_count": null,
   "metadata": {},
   "outputs": [],
   "source": [
    "# add a new local entry\n",
    "import datetime\n",
    "date = str(datetime.datetime.now().strftime(\"%Y-%m-%d\"))\n",
    "\n",
    "store = 'IPSL-CM6A-LR/historical/r1i1p1f1/Oyr/expfe/gn/'\n",
    "#code = 'noUse'\n",
    "code = 'local'\n",
    "#reason = 'missing time chunks'\n",
    "#reason = 'conflicting values of geolat'\n",
    "reason = 'NetCDF: Access failure'\n",
    "#reason = 'I/O failure'\n",
    "#reason = 'depth coord name change deptht to olevel'\n",
    "row = store.split('/')[:-1] + [code,reason,date,store+code]\n",
    "print(row)"
   ]
  },
  {
   "cell_type": "code",
   "execution_count": null,
   "metadata": {},
   "outputs": [],
   "source": [
    "# if it looks good, now check\n",
    "df_local = df_local.append(pd.Series(row, index=df_local.columns ),ignore_index=True)\n",
    "df_local.tail()"
   ]
  },
  {
   "cell_type": "code",
   "execution_count": null,
   "metadata": {},
   "outputs": [],
   "source": [
    "df_local.to_csv('csv/exceptions.csv', index=False)"
   ]
  },
  {
   "cell_type": "code",
   "execution_count": null,
   "metadata": {},
   "outputs": [],
   "source": [
    "assert False"
   ]
  },
  {
   "cell_type": "code",
   "execution_count": null,
   "metadata": {},
   "outputs": [],
   "source": [
    "#wks.update_acell('B1', 'Bingo!')\n",
    "#wks.append_row(['junk','more_junk'])\n",
    "#wks.add_rows(2)\n",
    "#for row in df_local.values[:100]:\n",
    "#    wks.append_row(list(row))\n",
    "#wks.delete_row(7)\n",
    "#wks.row_values(8)"
   ]
  },
  {
   "cell_type": "code",
   "execution_count": null,
   "metadata": {},
   "outputs": [],
   "source": [
    "common_cols = df_cloud.columns.tolist()                              #generate list of column names\n",
    "df12 = pd.merge(df_cloud, df_local, on=common_cols, how='inner')     #extract common rows with merge\n",
    "df2 = df_local[~df_local['name'].isin(df12['name'])]\n",
    "df1 = df_cloud[~df_cloud['name'].isin(df12['name'])]\n",
    "len(df_cloud),len(df_local)"
   ]
  },
  {
   "cell_type": "code",
   "execution_count": null,
   "metadata": {},
   "outputs": [],
   "source": []
  }
 ],
 "metadata": {
  "kernelspec": {
   "display_name": "pangeo-Oct2019",
   "language": "python",
   "name": "pangeo-oct2019"
  },
  "language_info": {
   "codemirror_mode": {
    "name": "ipython",
    "version": 3
   },
   "file_extension": ".py",
   "mimetype": "text/x-python",
   "name": "python",
   "nbconvert_exporter": "python",
   "pygments_lexer": "ipython3",
   "version": "3.7.3"
  }
 },
 "nbformat": 4,
 "nbformat_minor": 4
}
