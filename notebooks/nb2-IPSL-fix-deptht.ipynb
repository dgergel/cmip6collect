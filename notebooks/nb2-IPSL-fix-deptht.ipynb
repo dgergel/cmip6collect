{
 "cells": [
  {
   "cell_type": "code",
   "execution_count": 8,
   "metadata": {},
   "outputs": [],
   "source": [
    "from glob import glob\n",
    "import os\n",
    "import xarray as xr\n",
    "import cftime\n",
    "import numpy as np\n",
    "import time \n",
    "import datetime"
   ]
  },
  {
   "cell_type": "code",
   "execution_count": 9,
   "metadata": {},
   "outputs": [],
   "source": [
    "def set_bnds_as_coords(ds):\n",
    "    new_coords_vars = [var for var in ds.data_vars if 'bnds' in var or 'bounds' in var]\n",
    "    ds = ds.set_coords(new_coords_vars)\n",
    "    return ds"
   ]
  },
  {
   "cell_type": "code",
   "execution_count": 10,
   "metadata": {},
   "outputs": [],
   "source": [
    "sdrive = 'nctemp/'\n",
    "tdrive = '/h28/naomi/zarr-minimal/'\n",
    "string = '_Omon_IPSL-CM6A-LR_abrupt-4xCO2_r1i1p1f1_gn'\n",
    "tpath = 'CMIP/IPSL/IPSL-CM6A-LR/abrupt-4xCO2/r1i1p1f1/Omon/'\n",
    "#string = '_6hrLev_IPSL-CM6A-LR_ssp585_r1i1p1f1_gr'\n",
    "#tpath = 'ScenarioMIP/IPSL/IPSL-CM6A-LR/ssp585/r1i1p1f1/6hrLev/'\n",
    "tgrid = '/gn'\n",
    "#odir = {'hus':'/h40','ta':'/h7','ua':'/h7','va':'/h7'}\n",
    "fix_string = '/usr/bin/ncrename -d .deptht\\,olevel -v .deptht\\,olevel -d .deptht_bounds\\,olevel_bounds -v .deptht_bounds\\,olevel_bounds '"
   ]
  },
  {
   "cell_type": "code",
   "execution_count": 11,
   "metadata": {},
   "outputs": [
    {
     "name": "stdout",
     "output_type": "stream",
     "text": [
      "nctemp/chl_Omon_IPSL-CM6A-LR_abrupt-4xCO2_r1i1p1f1_gn_*.nc\n",
      "['nctemp/chl_Omon_IPSL-CM6A-LR_abrupt-4xCO2_r1i1p1f1_gn_185001-194912.nc', 'nctemp/chl_Omon_IPSL-CM6A-LR_abrupt-4xCO2_r1i1p1f1_gn_195001-204912.nc', 'nctemp/chl_Omon_IPSL-CM6A-LR_abrupt-4xCO2_r1i1p1f1_gn_205001-214912.nc', 'nctemp/chl_Omon_IPSL-CM6A-LR_abrupt-4xCO2_r1i1p1f1_gn_215001-224912.nc', 'nctemp/chl_Omon_IPSL-CM6A-LR_abrupt-4xCO2_r1i1p1f1_gn_225001-234912.nc', 'nctemp/chl_Omon_IPSL-CM6A-LR_abrupt-4xCO2_r1i1p1f1_gn_235001-244912.nc', 'nctemp/chl_Omon_IPSL-CM6A-LR_abrupt-4xCO2_r1i1p1f1_gn_245001-254912.nc', 'nctemp/chl_Omon_IPSL-CM6A-LR_abrupt-4xCO2_r1i1p1f1_gn_255001-264912.nc', 'nctemp/chl_Omon_IPSL-CM6A-LR_abrupt-4xCO2_r1i1p1f1_gn_265001-274912.nc']\n",
      "nt: 1200 netcdf size: 14031.640174 Mb\n",
      "suggested chunksize: 17\n",
      "1850-01-16 12:00:00 2749-12-16 12:00:00\n",
      "899 900\n"
     ]
    },
    {
     "name": "stderr",
     "output_type": "stream",
     "text": [
      "/usr/local/python/anaconda3/envs/pangeo-Oct2019/lib/python3.7/site-packages/xarray/coding/times.py:459: SerializationWarning: Unable to decode time axis into full numpy.datetime64 objects, continuing using cftime.datetime objects instead, reason: dates out of range\n",
      "  dtype = _decode_cf_datetime_dtype(data, units, calendar, self.use_cftime)\n",
      "/usr/local/python/anaconda3/envs/pangeo-Oct2019/lib/python3.7/site-packages/xarray/coding/times.py:459: SerializationWarning: Unable to decode time axis into full numpy.datetime64 objects, continuing using cftime.datetime objects instead, reason: dates out of range\n",
      "  dtype = _decode_cf_datetime_dtype(data, units, calendar, self.use_cftime)\n",
      "/usr/local/python/anaconda3/envs/pangeo-Oct2019/lib/python3.7/site-packages/numpy/core/_asarray.py:85: SerializationWarning: Unable to decode time axis into full numpy.datetime64 objects, continuing using cftime.datetime objects instead, reason: dates out of range\n",
      "  return array(a, dtype, copy=False, order=order)\n",
      "/usr/local/python/anaconda3/envs/pangeo-Oct2019/lib/python3.7/site-packages/xarray/coding/times.py:459: SerializationWarning: Unable to decode time axis into full numpy.datetime64 objects, continuing using cftime.datetime objects instead, reason: dates out of range\n",
      "  dtype = _decode_cf_datetime_dtype(data, units, calendar, self.use_cftime)\n",
      "/usr/local/python/anaconda3/envs/pangeo-Oct2019/lib/python3.7/site-packages/xarray/coding/times.py:459: SerializationWarning: Unable to decode time axis into full numpy.datetime64 objects, continuing using cftime.datetime objects instead, reason: dates out of range\n",
      "  dtype = _decode_cf_datetime_dtype(data, units, calendar, self.use_cftime)\n",
      "/usr/local/python/anaconda3/envs/pangeo-Oct2019/lib/python3.7/site-packages/numpy/core/_asarray.py:85: SerializationWarning: Unable to decode time axis into full numpy.datetime64 objects, continuing using cftime.datetime objects instead, reason: dates out of range\n",
      "  return array(a, dtype, copy=False, order=order)\n",
      "/usr/local/python/anaconda3/envs/pangeo-Oct2019/lib/python3.7/site-packages/xarray/coding/times.py:459: SerializationWarning: Unable to decode time axis into full numpy.datetime64 objects, continuing using cftime.datetime objects instead, reason: dates out of range\n",
      "  dtype = _decode_cf_datetime_dtype(data, units, calendar, self.use_cftime)\n"
     ]
    },
    {
     "name": "stdout",
     "output_type": "stream",
     "text": [
      "/h28/naomi/zarr-minimal/CMIP/IPSL/IPSL-CM6A-LR/abrupt-4xCO2/r1i1p1f1/Omon/chl/gn\n"
     ]
    }
   ],
   "source": [
    "table_id = 'Omon'\n",
    "\n",
    "for variable_id in ['chl']: #,'dissic']:\n",
    "    print(sdrive + variable_id + string + '_*.nc')\n",
    "    \n",
    "    gfiles = sorted(glob(sdrive + variable_id + string + '_*.nc'))\n",
    "    print(gfiles)\n",
    "    for gfile in gfiles:\n",
    "        os.system(f'{fix_string} {gfile}')\n",
    "        \n",
    "    zbdir = tdrive + tpath + variable_id + tgrid\n",
    "\n",
    "    nc_size = os.path.getsize(gfiles[0])\n",
    "    ds = xr.open_dataset(gfiles[0])\n",
    "    svar = ds.variable_id\n",
    "    nt = ds[svar].shape[0]\n",
    "\n",
    "    chunksize_optimal = 2e8\n",
    "    chunksize = max(int(nt*chunksize_optimal/nc_size),1)\n",
    "    #chunksize = min(chunksize,nt)\n",
    "\n",
    "    print('nt:',nt,'netcdf size:', nc_size/1e6, 'Mb')\n",
    "    print('suggested chunksize:', chunksize)\n",
    "\n",
    "    df7 = xr.open_mfdataset(gfiles, preprocess=set_bnds_as_coords, data_vars='minimal', chunks={'time': chunksize}, \n",
    "                      use_cftime=True, combine='by_coords', concat_dim='time')\n",
    "    print(df7.time.values[0],df7.time.values[-1])\n",
    "\n",
    "    if 'time' in ds.coords:\n",
    "        year = sorted(list(set(df7.time.dt.year.values)))    \n",
    "        print(np.diff(year).sum(), len(year))\n",
    "        if '3hr' in table_id:\n",
    "            assert (np.diff(year).sum() == len(year)-1) | (np.diff(year).sum() == len(year)-2)\n",
    "        elif 'dec' in table_id:\n",
    "            assert (np.diff(year).sum()/10 == len(year)) | (np.diff(year).sum()/10 == len(year)-1)\n",
    "        else:\n",
    "            assert np.diff(year).sum() == len(year)-1\n",
    "\n",
    "    dsl = xr.open_dataset(gfiles[0])\n",
    "    tracking_id = dsl.tracking_id\n",
    "    if len(gfiles) > 1:\n",
    "        for file in gfiles[1:]:\n",
    "            dsl = xr.open_dataset(file)\n",
    "            tracking_id = tracking_id+'\\n'+dsl.tracking_id\n",
    "    df7.attrs['tracking_id'] = tracking_id\n",
    "\n",
    "    date = str(datetime.datetime.now().strftime(\"%Y-%m-%d\"))\n",
    "    nstatus = date + ';created; by gcs.cmip6.ldeo@gmail.com'\n",
    "    df7.attrs['status'] = nstatus\n",
    "\n",
    "    df7 = df7.chunk(chunks={'time' : chunksize})   # yes, do it again\n",
    "    #del df7[svar].encoding['missing_value']\n",
    "    print(zbdir)\n",
    "    df7.to_zarr(zbdir, consolidated=True, mode='w') \n",
    "    df7.attrs['tracking_id']"
   ]
  },
  {
   "cell_type": "code",
   "execution_count": 5,
   "metadata": {},
   "outputs": [
    {
     "ename": "AssertionError",
     "evalue": "",
     "output_type": "error",
     "traceback": [
      "\u001b[0;31m---------------------------------------------------------------------------\u001b[0m",
      "\u001b[0;31mAssertionError\u001b[0m                            Traceback (most recent call last)",
      "\u001b[0;32m<ipython-input-5-a871fdc9ebee>\u001b[0m in \u001b[0;36m<module>\u001b[0;34m\u001b[0m\n\u001b[0;32m----> 1\u001b[0;31m \u001b[0;32massert\u001b[0m \u001b[0;32mFalse\u001b[0m\u001b[0;34m\u001b[0m\u001b[0;34m\u001b[0m\u001b[0m\n\u001b[0m",
      "\u001b[0;31mAssertionError\u001b[0m: "
     ]
    }
   ],
   "source": [
    "assert False"
   ]
  },
  {
   "cell_type": "code",
   "execution_count": 7,
   "metadata": {},
   "outputs": [
    {
     "name": "stdout",
     "output_type": "stream",
     "text": [
      "nctemp/chl_Omon_IPSL-CM6A-LR_abrupt-4xCO2_r1i1p1f1_gn_185001-194912.nc\n",
      "Coordinates:\n",
      "    nav_lat  (y, x) float32 ...\n",
      "    nav_lon  (y, x) float32 ...\n",
      "  * deptht   (deptht) float32 0.50576 1.5558553 ... 5698.0605 5902.0576\n",
      "  * time     (time) datetime64[ns] 1850-01-16T12:00:00 ... 1949-12-16T12:00:00\n",
      "nctemp/chl_Omon_IPSL-CM6A-LR_abrupt-4xCO2_r1i1p1f1_gn_195001-204912.nc\n",
      "Coordinates:\n",
      "    nav_lat  (y, x) float32 ...\n",
      "    nav_lon  (y, x) float32 ...\n",
      "  * deptht   (deptht) float32 0.50576 1.5558553 ... 5698.0605 5902.0576\n",
      "  * time     (time) datetime64[ns] 1950-01-16T12:00:00 ... 2049-12-16T12:00:00\n",
      "nctemp/chl_Omon_IPSL-CM6A-LR_abrupt-4xCO2_r1i1p1f1_gn_205001-214912.nc\n",
      "Coordinates:\n",
      "    nav_lat  (y, x) float32 ...\n",
      "    nav_lon  (y, x) float32 ...\n",
      "  * deptht   (deptht) float32 0.50576 1.5558553 ... 5698.0605 5902.0576\n",
      "  * time     (time) datetime64[ns] 2050-01-16T12:00:00 ... 2149-12-16T12:00:00\n",
      "nctemp/chl_Omon_IPSL-CM6A-LR_abrupt-4xCO2_r1i1p1f1_gn_215001-224912.nc\n",
      "Coordinates:\n",
      "    nav_lat  (y, x) float32 ...\n",
      "    nav_lon  (y, x) float32 ...\n",
      "  * olevel   (olevel) float32 0.50576 1.5558553 ... 5698.0605 5902.0576\n",
      "  * time     (time) datetime64[ns] 2150-01-16T12:00:00 ... 2249-12-16T12:00:00\n",
      "nctemp/chl_Omon_IPSL-CM6A-LR_abrupt-4xCO2_r1i1p1f1_gn_225001-234912.nc\n"
     ]
    },
    {
     "name": "stderr",
     "output_type": "stream",
     "text": [
      "/usr/local/python/anaconda3/envs/pangeo-Oct2019/lib/python3.7/site-packages/xarray/coding/times.py:459: SerializationWarning: Unable to decode time axis into full numpy.datetime64 objects, continuing using cftime.datetime objects instead, reason: dates out of range\n",
      "  dtype = _decode_cf_datetime_dtype(data, units, calendar, self.use_cftime)\n",
      "/usr/local/python/anaconda3/envs/pangeo-Oct2019/lib/python3.7/site-packages/xarray/coding/times.py:459: SerializationWarning: Unable to decode time axis into full numpy.datetime64 objects, continuing using cftime.datetime objects instead, reason: dates out of range\n",
      "  dtype = _decode_cf_datetime_dtype(data, units, calendar, self.use_cftime)\n",
      "/usr/local/python/anaconda3/envs/pangeo-Oct2019/lib/python3.7/site-packages/numpy/core/_asarray.py:85: SerializationWarning: Unable to decode time axis into full numpy.datetime64 objects, continuing using cftime.datetime objects instead, reason: dates out of range\n",
      "  return array(a, dtype, copy=False, order=order)\n",
      "/usr/local/python/anaconda3/envs/pangeo-Oct2019/lib/python3.7/site-packages/xarray/coding/times.py:459: SerializationWarning: Unable to decode time axis into full numpy.datetime64 objects, continuing using cftime.datetime objects instead, reason: dates out of range\n",
      "  dtype = _decode_cf_datetime_dtype(data, units, calendar, self.use_cftime)\n",
      "/usr/local/python/anaconda3/envs/pangeo-Oct2019/lib/python3.7/site-packages/xarray/coding/times.py:459: SerializationWarning: Unable to decode time axis into full numpy.datetime64 objects, continuing using cftime.datetime objects instead, reason: dates out of range\n",
      "  dtype = _decode_cf_datetime_dtype(data, units, calendar, self.use_cftime)\n",
      "/usr/local/python/anaconda3/envs/pangeo-Oct2019/lib/python3.7/site-packages/numpy/core/_asarray.py:85: SerializationWarning: Unable to decode time axis into full numpy.datetime64 objects, continuing using cftime.datetime objects instead, reason: dates out of range\n",
      "  return array(a, dtype, copy=False, order=order)\n",
      "/usr/local/python/anaconda3/envs/pangeo-Oct2019/lib/python3.7/site-packages/xarray/coding/times.py:459: SerializationWarning: Unable to decode time axis into full numpy.datetime64 objects, continuing using cftime.datetime objects instead, reason: dates out of range\n",
      "  dtype = _decode_cf_datetime_dtype(data, units, calendar, self.use_cftime)\n"
     ]
    },
    {
     "name": "stdout",
     "output_type": "stream",
     "text": [
      "Coordinates:\n",
      "    nav_lat  (y, x) float32 ...\n",
      "    nav_lon  (y, x) float32 ...\n",
      "  * olevel   (olevel) float32 0.50576 1.5558553 ... 5698.0605 5902.0576\n",
      "  * time     (time) object 2250-01-16 12:00:00 ... 2349-12-16 12:00:00\n",
      "nctemp/chl_Omon_IPSL-CM6A-LR_abrupt-4xCO2_r1i1p1f1_gn_235001-244912.nc\n",
      "Coordinates:\n",
      "    nav_lat  (y, x) float32 ...\n",
      "    nav_lon  (y, x) float32 ...\n",
      "  * olevel   (olevel) float32 0.50576 1.5558553 ... 5698.0605 5902.0576\n",
      "  * time     (time) object 2350-01-16 12:00:00 ... 2449-12-16 12:00:00\n",
      "nctemp/chl_Omon_IPSL-CM6A-LR_abrupt-4xCO2_r1i1p1f1_gn_245001-254912.nc\n",
      "Coordinates:\n",
      "    nav_lat  (y, x) float32 ...\n",
      "    nav_lon  (y, x) float32 ...\n",
      "  * olevel   (olevel) float32 0.50576 1.5558553 ... 5698.0605 5902.0576\n",
      "  * time     (time) object 2450-01-16 12:00:00 ... 2549-12-16 12:00:00\n",
      "nctemp/chl_Omon_IPSL-CM6A-LR_abrupt-4xCO2_r1i1p1f1_gn_255001-264912.nc\n",
      "Coordinates:\n",
      "    nav_lat  (y, x) float32 ...\n",
      "    nav_lon  (y, x) float32 ...\n",
      "  * olevel   (olevel) float32 0.50576 1.5558553 ... 5698.0605 5902.0576\n",
      "  * time     (time) object 2550-01-16 12:00:00 ... 2649-12-16 12:00:00\n",
      "nctemp/chl_Omon_IPSL-CM6A-LR_abrupt-4xCO2_r1i1p1f1_gn_265001-274912.nc\n",
      "Coordinates:\n",
      "    nav_lat  (y, x) float32 ...\n",
      "    nav_lon  (y, x) float32 ...\n",
      "  * olevel   (olevel) float32 0.50576 1.5558553 ... 5698.0605 5902.0576\n",
      "  * time     (time) object 2650-01-16 12:00:00 ... 2749-12-16 12:00:00\n"
     ]
    }
   ],
   "source": [
    "import xarray as xr\n",
    "#gfiles = ['nctemp/chl_Oyr_IPSL-CM6A-LR_abrupt-4xCO2_r1i1p1f1_gn_1850-2149.nc', \n",
    "#          'nctemp/chl_Oyr_IPSL-CM6A-LR_abrupt-4xCO2_r1i1p1f1_gn_2150-2449.nc', \n",
    "#          'nctemp/chl_Oyr_IPSL-CM6A-LR_abrupt-4xCO2_r1i1p1f1_gn_2450-2749.nc']\n",
    "gfiles = ['nctemp/chl_Omon_IPSL-CM6A-LR_abrupt-4xCO2_r1i1p1f1_gn_185001-194912.nc', \n",
    "           'nctemp/chl_Omon_IPSL-CM6A-LR_abrupt-4xCO2_r1i1p1f1_gn_195001-204912.nc', \n",
    "           'nctemp/chl_Omon_IPSL-CM6A-LR_abrupt-4xCO2_r1i1p1f1_gn_205001-214912.nc', \n",
    "           'nctemp/chl_Omon_IPSL-CM6A-LR_abrupt-4xCO2_r1i1p1f1_gn_215001-224912.nc', \n",
    "           'nctemp/chl_Omon_IPSL-CM6A-LR_abrupt-4xCO2_r1i1p1f1_gn_225001-234912.nc', \n",
    "           'nctemp/chl_Omon_IPSL-CM6A-LR_abrupt-4xCO2_r1i1p1f1_gn_235001-244912.nc', \n",
    "           'nctemp/chl_Omon_IPSL-CM6A-LR_abrupt-4xCO2_r1i1p1f1_gn_245001-254912.nc', \n",
    "           'nctemp/chl_Omon_IPSL-CM6A-LR_abrupt-4xCO2_r1i1p1f1_gn_255001-264912.nc', \n",
    "           'nctemp/chl_Omon_IPSL-CM6A-LR_abrupt-4xCO2_r1i1p1f1_gn_265001-274912.nc']\n",
    "for gfile in gfiles:\n",
    "    print(gfile)\n",
    "    ds = xr.open_dataset(gfile,engine='h5netcdf')\n",
    "    print(ds.coords)"
   ]
  },
  {
   "cell_type": "code",
   "execution_count": null,
   "metadata": {},
   "outputs": [],
   "source": [
    "import os \n",
    "nc_size = os.path.getsize(gfiles[0])\n",
    "ds = xr.open_dataset(gfiles[0])\n",
    "svar = ds.variable_id\n",
    "nt = ds[svar].shape[0]\n",
    "\n",
    "chunksize_optimal = 2e8\n",
    "chunksize = max(int(nt*chunksize_optimal/nc_size),1)\n",
    "#chunksize = min(chunksize,nt)\n",
    "\n",
    "print('nt:',nt,'netcdf size:', nc_size/1e6, 'Mb')\n",
    "print('suggested chunksize:', chunksize)\n",
    "\n",
    "df7 = xr.open_mfdataset(gfiles, preprocess=set_bnds_as_coords, data_vars='minimal', chunks={'time': chunksize}, \n",
    "                  use_cftime=True, combine='by_coords', concat_dim='time')\n"
   ]
  },
  {
   "cell_type": "code",
   "execution_count": null,
   "metadata": {},
   "outputs": [],
   "source": []
  }
 ],
 "metadata": {
  "kernelspec": {
   "display_name": "pangeo-Oct2019",
   "language": "python",
   "name": "pangeo-oct2019"
  },
  "language_info": {
   "codemirror_mode": {
    "name": "ipython",
    "version": 3
   },
   "file_extension": ".py",
   "mimetype": "text/x-python",
   "name": "python",
   "nbconvert_exporter": "python",
   "pygments_lexer": "ipython3",
   "version": "3.7.3"
  },
  "widgets": {
   "application/vnd.jupyter.widget-state+json": {
    "state": {},
    "version_major": 2,
    "version_minor": 0
   }
  }
 },
 "nbformat": 4,
 "nbformat_minor": 4
}
