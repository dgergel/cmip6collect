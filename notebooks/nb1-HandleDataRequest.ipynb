{
 "cells": [
  {
   "cell_type": "markdown",
   "metadata": {},
   "source": [
    "# To Handle New Data Requests Automatically\n",
    "- beginning of notebook is assumed to be interactive until the requests have been checked\n",
    "- all progress and exception logging is done only for main loop"
   ]
  },
  {
   "cell_type": "code",
   "execution_count": 1,
   "metadata": {},
   "outputs": [],
   "source": [
    "import numpy as np\n",
    "import pandas as pd\n",
    "import os\n",
    "import gcsfs\n",
    "import xarray as xr"
   ]
  },
  {
   "cell_type": "markdown",
   "metadata": {},
   "source": [
    "### Local modules"
   ]
  },
  {
   "cell_type": "code",
   "execution_count": 2,
   "metadata": {},
   "outputs": [],
   "source": [
    "from request import requests, set_request_id\n",
    "from search import search, esgf_search_sites\n",
    "from netcdf import get_ncfiles, concatenate\n",
    "from identify import needed\n",
    "from response import response, dict_to_dfcat, get_details"
   ]
  },
  {
   "cell_type": "markdown",
   "metadata": {},
   "source": [
    "### Initialization"
   ]
  },
  {
   "cell_type": "code",
   "execution_count": 3,
   "metadata": {},
   "outputs": [],
   "source": [
    "fs = gcsfs.GCSFileSystem(token='anon', access='read_only')\n",
    "\n",
    "# ONLY WHEN NECESSARY: Re-initialize cmip6-master.csv with enhanced csv file\n",
    "#url_cloud = 'https://storage.googleapis.com/cmip6/cmip6.csv'  \n",
    "#df = pd.read_csv(url_cloud)\n",
    "#df.to_csv('csv/cmip6-master.csv',index=False)"
   ]
  },
  {
   "cell_type": "markdown",
   "metadata": {},
   "source": [
    "### Choose basic configuration parameters"
   ]
  },
  {
   "cell_type": "code",
   "execution_count": 4,
   "metadata": {},
   "outputs": [
    {
     "name": "stdout",
     "output_type": "stream",
     "text": [
      "possible ESGF API search nodes:  ['llnl', 'ipsl', 'nci', 'ceda', 'jpl', 'gfdl', 'dkrz']\n"
     ]
    }
   ],
   "source": [
    "dtype = esgf_search_sites()\n",
    "print('possible ESGF API search nodes: ',list(dtype.keys()))\n",
    "ESGF_site = dtype['llnl']\n",
    "\n",
    "# Skip the following sites for getting netcdf files: broken or slow sites\n",
    "skip_sites = ['dist.nmlab.snu.ac.kr','esg.lasg.ac.cn','esgf-data2.diasjp.net']"
   ]
  },
  {
   "cell_type": "markdown",
   "metadata": {},
   "source": [
    "### Get new Google Sheet requests"
   ]
  },
  {
   "cell_type": "code",
   "execution_count": 5,
   "metadata": {},
   "outputs": [],
   "source": [
    "df_prior = pd.read_csv('csv/requests.csv')\n",
    "#df_prior"
   ]
  },
  {
   "cell_type": "markdown",
   "metadata": {},
   "source": [
    "### Get new Google Sheet requests\n",
    "- by default, only the new rows from the sheet are considered\n",
    "- specifying a list of rows or emails will add older entries "
   ]
  },
  {
   "cell_type": "code",
   "execution_count": 6,
   "metadata": {},
   "outputs": [
    {
     "data": {
      "text/html": [
       "<div>\n",
       "<style scoped>\n",
       "    .dataframe tbody tr th:only-of-type {\n",
       "        vertical-align: middle;\n",
       "    }\n",
       "\n",
       "    .dataframe tbody tr th {\n",
       "        vertical-align: top;\n",
       "    }\n",
       "\n",
       "    .dataframe thead th {\n",
       "        text-align: right;\n",
       "    }\n",
       "</style>\n",
       "<table border=\"1\" class=\"dataframe\">\n",
       "  <thead>\n",
       "    <tr style=\"text-align: right;\">\n",
       "      <th></th>\n",
       "      <th>Timestamp</th>\n",
       "      <th>E-mail</th>\n",
       "      <th>response status</th>\n",
       "      <th>members</th>\n",
       "      <th>experiments</th>\n",
       "      <th>models</th>\n",
       "      <th>variables</th>\n",
       "      <th>table</th>\n",
       "      <th>requester</th>\n",
       "    </tr>\n",
       "  </thead>\n",
       "  <tbody>\n",
       "    <tr>\n",
       "      <th>63</th>\n",
       "      <td>10/15/2019 23:45:29</td>\n",
       "      <td>dbalwada@uw.edu</td>\n",
       "      <td>NaN</td>\n",
       "      <td>[]</td>\n",
       "      <td>[historical, piControl]</td>\n",
       "      <td>[All]</td>\n",
       "      <td>[vsf]</td>\n",
       "      <td>Omon</td>\n",
       "      <td>Dhruv Balwada</td>\n",
       "    </tr>\n",
       "  </tbody>\n",
       "</table>\n",
       "</div>"
      ],
      "text/plain": [
       "              Timestamp           E-mail response status members              experiments models variables table      requester\n",
       "63  10/15/2019 23:45:29  dbalwada@uw.edu             NaN      []  [historical, piControl]  [All]     [vsf]  Omon  Dhruv Balwada"
      ]
     },
     "execution_count": 6,
     "metadata": {},
     "output_type": "execute_result"
    }
   ],
   "source": [
    "# new, but also some older rows:\n",
    "df_request_new, dtrouble = requests(df_prior,rows = [63])\n",
    "\n",
    "# new, but also some older emails:\n",
    "#df_request_new, dtrouble = requests(df_prior,emails=['henrifdrake@gmail.com'])\n",
    "\n",
    "# only new:\n",
    "#df_request_new, dtrouble = requests(df_prior)\n",
    "\n",
    "request_id = set_request_id()\n",
    "if len(dtrouble)>=1:\n",
    "    print(dtrouble)\n",
    "\n",
    "df_request_new"
   ]
  },
  {
   "cell_type": "markdown",
   "metadata": {},
   "source": [
    "### Search ESGF for the availability of requested data"
   ]
  },
  {
   "cell_type": "code",
   "execution_count": 7,
   "metadata": {},
   "outputs": [
    {
     "name": "stdout",
     "output_type": "stream",
     "text": [
      "\n",
      "dbalwada@uw.edu\n",
      "Omon vsf ['All'] historical\n",
      "Omon vsf ['All'] piControl\n"
     ]
    },
    {
     "data": {
      "text/plain": [
       "88"
      ]
     },
     "execution_count": 7,
     "metadata": {},
     "output_type": "execute_result"
    }
   ],
   "source": [
    "df_ESGF = search(ESGF_site,df_request_new)\n",
    "len(df_ESGF)"
   ]
  },
  {
   "cell_type": "markdown",
   "metadata": {},
   "source": [
    "### Get the master list of existing zarr stores"
   ]
  },
  {
   "cell_type": "code",
   "execution_count": 8,
   "metadata": {},
   "outputs": [],
   "source": [
    "df_master = pd.read_csv('csv/cmip6-master.csv')"
   ]
  },
  {
   "cell_type": "markdown",
   "metadata": {},
   "source": [
    "### Check the new requests:\n",
    "- already exists in df_master (what we have) - not needed\n",
    "- exists in df_ESGF (what is available) - if not available, then not needed"
   ]
  },
  {
   "cell_type": "code",
   "execution_count": 9,
   "metadata": {},
   "outputs": [
    {
     "name": "stdout",
     "output_type": "stream",
     "text": [
      "needed: nfiles=12, nstores=5\n"
     ]
    }
   ],
   "source": [
    "df_needed = needed(df_master, df_request_new, df_ESGF)\n",
    "\n",
    "if len(df_needed) > 0:\n",
    "    num_stores = df_needed.zstore.nunique() \n",
    "    print(f'needed: nfiles={len(df_needed)}, nstores={num_stores}')\n",
    "else:\n",
    "    print('no new data available')\n",
    "    exit\n",
    "    \n",
    "#df_needed.zstore.values"
   ]
  },
  {
   "cell_type": "markdown",
   "metadata": {},
   "source": [
    "### Start logging the progress and exceptions"
   ]
  },
  {
   "cell_type": "code",
   "execution_count": 10,
   "metadata": {},
   "outputs": [],
   "source": [
    "cat_file = 'csv/cmip6_'+request_id+'.csv'\n",
    "log_file = 'txt/request_'+request_id+'.log'"
   ]
  },
  {
   "cell_type": "code",
   "execution_count": 11,
   "metadata": {},
   "outputs": [],
   "source": [
    "# open and close for each write in case of kernel interrupt\n",
    "def write_log(file,str):\n",
    "    f = open(file,'a')\n",
    "    print(str)\n",
    "    f.write(str+'\\n')\n",
    "    f.close()\n",
    "    return"
   ]
  },
  {
   "cell_type": "markdown",
   "metadata": {
    "jupyter": {
     "outputs_hidden": true
    }
   },
   "source": [
    "### The real work is done in this next loop - can be done in parallel"
   ]
  },
  {
   "cell_type": "code",
   "execution_count": 12,
   "metadata": {},
   "outputs": [
    {
     "name": "stdout",
     "output_type": "stream",
     "text": [
      "\n",
      "1/5: local file: /d5/naomi/zarr-minimal/CMIP/CAS/FGOALS-f3-L/historical/r1i1p1f1/Omon/vsf/gn\n",
      "no files available\n",
      "\n",
      "2/5: local file: /d5/naomi/zarr-minimal/CMIP/NCAR/CESM2-WACCM/historical/r2i1p1f1/Omon/vsf/gn\n",
      "curl http://aims3.llnl.gov/thredds/fileServer/css03_data/CMIP6/CMIP/NCAR/CESM2-WACCM/historical/r2i1p1f1/Omon/vsf/gn/v20190227/vsf_Omon_CESM2-WACCM_historical_r2i1p1f1_gn_185001-201412.nc -o nctemp/vsf_Omon_CESM2-WACCM_historical_r2i1p1f1_gn_185001-201412.nc\n",
      "\n",
      "/usr/bin/gsutil -m cp -r /d5/naomi/zarr-minimal/CMIP/NCAR/CESM2-WACCM/historical/r2i1p1f1/Omon/vsf/gn gs://cmip6/CMIP/NCAR/CESM2-WACCM/historical/r2i1p1f1/Omon/vsf/gn\n",
      "successfully saved as /d5/naomi/zarr-minimal/CMIP/NCAR/CESM2-WACCM/historical/r2i1p1f1/Omon/vsf/gn\n",
      "\n",
      "3/5: local file: /d5/naomi/zarr-minimal/CMIP/NCAR/CESM2-WACCM/historical/r3i1p1f1/Omon/vsf/gn\n",
      "curl http://aims3.llnl.gov/thredds/fileServer/css03_data/CMIP6/CMIP/NCAR/CESM2-WACCM/historical/r3i1p1f1/Omon/vsf/gn/v20190227/vsf_Omon_CESM2-WACCM_historical_r3i1p1f1_gn_185001-201412.nc -o nctemp/vsf_Omon_CESM2-WACCM_historical_r3i1p1f1_gn_185001-201412.nc\n",
      "\n",
      "/usr/bin/gsutil -m cp -r /d5/naomi/zarr-minimal/CMIP/NCAR/CESM2-WACCM/historical/r3i1p1f1/Omon/vsf/gn gs://cmip6/CMIP/NCAR/CESM2-WACCM/historical/r3i1p1f1/Omon/vsf/gn\n",
      "successfully saved as /d5/naomi/zarr-minimal/CMIP/NCAR/CESM2-WACCM/historical/r3i1p1f1/Omon/vsf/gn\n",
      "\n",
      "4/5: local file: /d5/naomi/zarr-minimal/CMIP/UA/MCM-UA-1-0/historical/r1i1p1f2/Omon/vsf/gn\n",
      "curl http://esgf-data1.llnl.gov/thredds/fileServer/css03_data/CMIP6/CMIP/UA/MCM-UA-1-0/historical/r1i1p1f2/Omon/vsf/gn/v20190731/vsf_Omon_MCM-UA-1-0_historical_r1i1p1f2_gn_185001-201412.nc -o nctemp/vsf_Omon_MCM-UA-1-0_historical_r1i1p1f2_gn_185001-201412.nc\n",
      "\n",
      "/usr/bin/gsutil -m cp -r /d5/naomi/zarr-minimal/CMIP/UA/MCM-UA-1-0/historical/r1i1p1f2/Omon/vsf/gn gs://cmip6/CMIP/UA/MCM-UA-1-0/historical/r1i1p1f2/Omon/vsf/gn\n",
      "successfully saved as /d5/naomi/zarr-minimal/CMIP/UA/MCM-UA-1-0/historical/r1i1p1f2/Omon/vsf/gn\n",
      "\n",
      "5/5: local file: /d5/naomi/zarr-minimal/CMIP/FIO-QLNM/FIO-ESM-2-0/piControl/r1i1p1f1/Omon/vsf/gn\n",
      "curl http://esgf-data1.llnl.gov/thredds/fileServer/css03_data/CMIP6/CMIP/FIO-QLNM/FIO-ESM-2-0/piControl/r1i1p1f1/Omon/vsf/gn/v20191031/vsf_Omon_FIO-ESM-2-0_piControl_r1i1p1f1_gn_030101-040012.nc -o nctemp/vsf_Omon_FIO-ESM-2-0_piControl_r1i1p1f1_gn_030101-040012.nc\n",
      "curl http://esgf-data1.llnl.gov/thredds/fileServer/css03_data/CMIP6/CMIP/FIO-QLNM/FIO-ESM-2-0/piControl/r1i1p1f1/Omon/vsf/gn/v20191031/vsf_Omon_FIO-ESM-2-0_piControl_r1i1p1f1_gn_040101-050012.nc -o nctemp/vsf_Omon_FIO-ESM-2-0_piControl_r1i1p1f1_gn_040101-050012.nc\n",
      "curl http://esgf-data1.llnl.gov/thredds/fileServer/css03_data/CMIP6/CMIP/FIO-QLNM/FIO-ESM-2-0/piControl/r1i1p1f1/Omon/vsf/gn/v20191031/vsf_Omon_FIO-ESM-2-0_piControl_r1i1p1f1_gn_050101-060012.nc -o nctemp/vsf_Omon_FIO-ESM-2-0_piControl_r1i1p1f1_gn_050101-060012.nc\n",
      "curl http://esgf-data1.llnl.gov/thredds/fileServer/css03_data/CMIP6/CMIP/FIO-QLNM/FIO-ESM-2-0/piControl/r1i1p1f1/Omon/vsf/gn/v20191031/vsf_Omon_FIO-ESM-2-0_piControl_r1i1p1f1_gn_060101-070012.nc -o nctemp/vsf_Omon_FIO-ESM-2-0_piControl_r1i1p1f1_gn_060101-070012.nc\n",
      "curl http://esgf-data1.llnl.gov/thredds/fileServer/css03_data/CMIP6/CMIP/FIO-QLNM/FIO-ESM-2-0/piControl/r1i1p1f1/Omon/vsf/gn/v20191031/vsf_Omon_FIO-ESM-2-0_piControl_r1i1p1f1_gn_070101-080012.nc -o nctemp/vsf_Omon_FIO-ESM-2-0_piControl_r1i1p1f1_gn_070101-080012.nc\n",
      "curl http://esgf-data1.llnl.gov/thredds/fileServer/css03_data/CMIP6/CMIP/FIO-QLNM/FIO-ESM-2-0/piControl/r1i1p1f1/Omon/vsf/gn/v20191031/vsf_Omon_FIO-ESM-2-0_piControl_r1i1p1f1_gn_080101-087512.nc -o nctemp/vsf_Omon_FIO-ESM-2-0_piControl_r1i1p1f1_gn_080101-087512.nc\n",
      "\n",
      "/usr/bin/gsutil -m cp -r /d5/naomi/zarr-minimal/CMIP/FIO-QLNM/FIO-ESM-2-0/piControl/r1i1p1f1/Omon/vsf/gn gs://cmip6/CMIP/FIO-QLNM/FIO-ESM-2-0/piControl/r1i1p1f1/Omon/vsf/gn\n",
      "successfully saved as /d5/naomi/zarr-minimal/CMIP/FIO-QLNM/FIO-ESM-2-0/piControl/r1i1p1f1/Omon/vsf/gn\n"
     ]
    }
   ],
   "source": [
    "new_zarrs = df_needed.zstore.unique()\n",
    "\n",
    "zdict = {}  # construct dictionary for new rows to add to master catalog\n",
    "for item,zarr in enumerate(new_zarrs):\n",
    "    #zbdir  = 'ztemp'  + zarr\n",
    "    zbdir  = '/d5/naomi/zarr-minimal'  + zarr\n",
    "    \n",
    "    write_log(log_file,f\"\\n{item+1}/{num_stores}: local file: {zbdir}\")\n",
    "    \n",
    "    gsurl = 'gs://cmip6' + zarr\n",
    "    contents = fs.ls(gsurl+'/.zmetadata')\n",
    "    if any(\"zmetadata\" in s for s in contents):\n",
    "        write_log(log_file,'store already in cloud')\n",
    "        continue\n",
    "\n",
    "    # does it exist locally? \n",
    "    if os.path.isfile(zbdir+'/.zmetadata'):\n",
    "        write_log(log_file,f'already exists: {zbdir}')\n",
    "        continue\n",
    "\n",
    "    gfiles,troubles = get_ncfiles(zarr,df_needed,skip_sites)\n",
    "    if len(gfiles) == 0: \n",
    "        write_log(log_file,'no files available')\n",
    "        continue\n",
    "    \n",
    "    variable_id = zarr.split('/')[-2]\n",
    "    for gfile in gfiles:   # changes file sizes!!\n",
    "        command = '/usr/bin/ncatted -h -O -a missing_value\\,'+variable_id+',d,, '+gfile\n",
    "        os.system(command)\n",
    "    \n",
    "    # concatenate in time with mfdataset\n",
    "    status, ds, dstr = concatenate(zarr,gfiles)  \n",
    "\n",
    "    if status == 'failure':\n",
    "        write_log(log_file,dstr)\n",
    "        continue\n",
    "    else:\n",
    "        write_log(log_file,dstr)\n",
    "\n",
    "    ds.to_zarr(zbdir, consolidated=True, mode='w')  \n",
    "\n",
    "    if not os.path.isfile(zbdir+'/.zmetadata'):\n",
    "        write_log(log_file,'to_zarr failure')\n",
    "        continue\n",
    "   \n",
    "    vlist = get_details(ds,zbdir,zarr)\n",
    "    \n",
    "    # upload to cloud\n",
    "    command = '/usr/bin/gsutil -m cp -r '+ zbdir + ' ' + gsurl\n",
    "    write_log(log_file,command)\n",
    "    os.system(command) \n",
    "        \n",
    "    try:\n",
    "        ds = xr.open_zarr(fs.get_mapper(gsurl), consolidated=True)\n",
    "        zdict[item] = vlist\n",
    "        write_log(log_file,f'successfully saved as {zbdir}') \n",
    "        for gfile in gfiles:\n",
    "            os.system('rm -f '+ gfile)\n",
    "    except:\n",
    "        write_log(log_file,'store did not get saved to GCS properly')\n",
    "    "
   ]
  },
  {
   "cell_type": "markdown",
   "metadata": {},
   "source": [
    "### Make a table of aquired data to send in email to requestor"
   ]
  },
  {
   "cell_type": "code",
   "execution_count": 13,
   "metadata": {},
   "outputs": [],
   "source": [
    "if len(zdict) == 0 :\n",
    "    print('nothing else to do')\n",
    "    exit\n",
    "else:\n",
    "    dz = dict_to_dfcat(zdict)"
   ]
  },
  {
   "cell_type": "code",
   "execution_count": 14,
   "metadata": {},
   "outputs": [
    {
     "data": {
      "text/html": [
       "<div>\n",
       "<style scoped>\n",
       "    .dataframe tbody tr th:only-of-type {\n",
       "        vertical-align: middle;\n",
       "    }\n",
       "\n",
       "    .dataframe tbody tr th {\n",
       "        vertical-align: top;\n",
       "    }\n",
       "\n",
       "    .dataframe thead th {\n",
       "        text-align: right;\n",
       "    }\n",
       "</style>\n",
       "<table border=\"1\" class=\"dataframe\">\n",
       "  <thead>\n",
       "    <tr style=\"text-align: right;\">\n",
       "      <th></th>\n",
       "      <th>activity_id</th>\n",
       "      <th>institution_id</th>\n",
       "      <th>source_id</th>\n",
       "      <th>experiment_id</th>\n",
       "      <th>member_id</th>\n",
       "      <th>table_id</th>\n",
       "      <th>variable_id</th>\n",
       "      <th>grid_label</th>\n",
       "      <th>zstore</th>\n",
       "      <th>date_start</th>\n",
       "      <th>date_stop</th>\n",
       "      <th>time_len</th>\n",
       "      <th>sizeG</th>\n",
       "      <th>dcpp_init_year</th>\n",
       "    </tr>\n",
       "  </thead>\n",
       "  <tbody>\n",
       "    <tr>\n",
       "      <th>1</th>\n",
       "      <td>CMIP</td>\n",
       "      <td>NCAR</td>\n",
       "      <td>CESM2-WACCM</td>\n",
       "      <td>historical</td>\n",
       "      <td>r2i1p1f1</td>\n",
       "      <td>Omon</td>\n",
       "      <td>vsf</td>\n",
       "      <td>gn</td>\n",
       "      <td>gs://cmip6/CMIP/NCAR/CESM2-WACCM/historical/r2...</td>\n",
       "      <td>1850-01-15</td>\n",
       "      <td>2014-12-15</td>\n",
       "      <td>1980</td>\n",
       "      <td>0.629</td>\n",
       "      <td>NaN</td>\n",
       "    </tr>\n",
       "    <tr>\n",
       "      <th>2</th>\n",
       "      <td>CMIP</td>\n",
       "      <td>NCAR</td>\n",
       "      <td>CESM2-WACCM</td>\n",
       "      <td>historical</td>\n",
       "      <td>r3i1p1f1</td>\n",
       "      <td>Omon</td>\n",
       "      <td>vsf</td>\n",
       "      <td>gn</td>\n",
       "      <td>gs://cmip6/CMIP/NCAR/CESM2-WACCM/historical/r3...</td>\n",
       "      <td>1850-01-15</td>\n",
       "      <td>2014-12-15</td>\n",
       "      <td>1980</td>\n",
       "      <td>0.629</td>\n",
       "      <td>NaN</td>\n",
       "    </tr>\n",
       "    <tr>\n",
       "      <th>3</th>\n",
       "      <td>CMIP</td>\n",
       "      <td>UA</td>\n",
       "      <td>MCM-UA-1-0</td>\n",
       "      <td>historical</td>\n",
       "      <td>r1i1p1f2</td>\n",
       "      <td>Omon</td>\n",
       "      <td>vsf</td>\n",
       "      <td>gn</td>\n",
       "      <td>gs://cmip6/CMIP/UA/MCM-UA-1-0/historical/r1i1p...</td>\n",
       "      <td>1850-01-17</td>\n",
       "      <td>2014-12-17</td>\n",
       "      <td>1980</td>\n",
       "      <td>0.0705</td>\n",
       "      <td>NaN</td>\n",
       "    </tr>\n",
       "    <tr>\n",
       "      <th>4</th>\n",
       "      <td>CMIP</td>\n",
       "      <td>FIO-QLNM</td>\n",
       "      <td>FIO-ESM-2-0</td>\n",
       "      <td>piControl</td>\n",
       "      <td>r1i1p1f1</td>\n",
       "      <td>Omon</td>\n",
       "      <td>vsf</td>\n",
       "      <td>gn</td>\n",
       "      <td>gs://cmip6/CMIP/FIO-QLNM/FIO-ESM-2-0/piControl...</td>\n",
       "      <td>0301-01-16</td>\n",
       "      <td>0875-12-16</td>\n",
       "      <td>6900</td>\n",
       "      <td>2.19</td>\n",
       "      <td>NaN</td>\n",
       "    </tr>\n",
       "  </tbody>\n",
       "</table>\n",
       "</div>"
      ],
      "text/plain": [
       "  activity_id institution_id    source_id experiment_id member_id table_id variable_id grid_label                                             zstore  date_start   date_stop  time_len   sizeG  dcpp_init_year\n",
       "1        CMIP           NCAR  CESM2-WACCM    historical  r2i1p1f1     Omon         vsf         gn  gs://cmip6/CMIP/NCAR/CESM2-WACCM/historical/r2...  1850-01-15  2014-12-15      1980   0.629             NaN\n",
       "2        CMIP           NCAR  CESM2-WACCM    historical  r3i1p1f1     Omon         vsf         gn  gs://cmip6/CMIP/NCAR/CESM2-WACCM/historical/r3...  1850-01-15  2014-12-15      1980   0.629             NaN\n",
       "3        CMIP             UA   MCM-UA-1-0    historical  r1i1p1f2     Omon         vsf         gn  gs://cmip6/CMIP/UA/MCM-UA-1-0/historical/r1i1p...  1850-01-17  2014-12-17      1980  0.0705             NaN\n",
       "4        CMIP       FIO-QLNM  FIO-ESM-2-0     piControl  r1i1p1f1     Omon         vsf         gn  gs://cmip6/CMIP/FIO-QLNM/FIO-ESM-2-0/piControl...  0301-01-16  0875-12-16      6900    2.19             NaN"
      ]
     },
     "execution_count": 14,
     "metadata": {},
     "output_type": "execute_result"
    }
   ],
   "source": [
    "dz"
   ]
  },
  {
   "cell_type": "code",
   "execution_count": 15,
   "metadata": {},
   "outputs": [],
   "source": [
    "df_master_new = pd.concat([df_master, dz])"
   ]
  },
  {
   "cell_type": "code",
   "execution_count": 16,
   "metadata": {},
   "outputs": [
    {
     "name": "stdout",
     "output_type": "stream",
     "text": [
      "GCS request for: dbalwada@uw.edu ; table_id= Omon\n",
      "(number of member_ids)*(number of grid_labels)\n",
      "--------------------------\n",
      "variable_id                vsf\n",
      "experiment_id source_id       \n",
      "historical    CESM2         11\n",
      "              CESM2-WACCM    3\n",
      "              MCM-UA-1-0     2\n",
      "              NorCPM1        1\n",
      "piControl     CESM2          1\n",
      "              CESM2-WACCM    1\n",
      "              FIO-ESM-2-0    1\n",
      "              MCM-UA-1-0     1\n",
      "              NorESM1-F      1\n",
      "\n"
     ]
    }
   ],
   "source": [
    "response(df_request_new,df_master_new)"
   ]
  },
  {
   "cell_type": "code",
   "execution_count": 17,
   "metadata": {},
   "outputs": [],
   "source": [
    "! mv csv/request_new.csv csv/requests.csv"
   ]
  }
 ],
 "metadata": {
  "kernelspec": {
   "display_name": "pangeo-Oct2019",
   "language": "python",
   "name": "pangeo-oct2019"
  },
  "language_info": {
   "codemirror_mode": {
    "name": "ipython",
    "version": 3
   },
   "file_extension": ".py",
   "mimetype": "text/x-python",
   "name": "python",
   "nbconvert_exporter": "python",
   "pygments_lexer": "ipython3",
   "version": "3.7.3"
  }
 },
 "nbformat": 4,
 "nbformat_minor": 4
}
