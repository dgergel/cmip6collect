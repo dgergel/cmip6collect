{
 "cells": [
  {
   "cell_type": "markdown",
   "metadata": {},
   "source": [
    "###  Create a response table using qgrid to pick the data and pivot table to format"
   ]
  },
  {
   "cell_type": "code",
   "execution_count": null,
   "metadata": {},
   "outputs": [],
   "source": [
    "import numpy as np\n",
    "import pandas as pd\n",
    "import os\n",
    "import gcsfs\n",
    "import xarray as xr"
   ]
  },
  {
   "cell_type": "code",
   "execution_count": null,
   "metadata": {},
   "outputs": [],
   "source": [
    "import pandas as pd\n",
    "\n",
    "import qgrid\n",
    "#dfcat = pd.read_csv('https://cmip6.storage.googleapis.com/cmip6-zarr-consolidated-stores-noQC.csv')\n",
    "dfcat = pd.read_csv('https://cmip6.storage.googleapis.com/cmip6-zarr-consolidated-stores.csv')\n",
    "\n",
    "len(dfcat)"
   ]
  },
  {
   "cell_type": "code",
   "execution_count": null,
   "metadata": {},
   "outputs": [],
   "source": [
    "table_id = 'day'\n",
    "exps = ['historical','ssp126','ssp245','ssp370']\n",
    "variables = ['pr','tasmin','tasmax']\n",
    "models = 'all'\n",
    "#members = 'r1i1p1f1'"
   ]
  },
  {
   "cell_type": "code",
   "execution_count": null,
   "metadata": {
    "jupyter": {
     "source_hidden": true
    }
   },
   "outputs": [],
   "source": [
    "# define a simple search on keywords\n",
    "def search_df(df, verbose= False, **search):\n",
    "    \"search by keywords - if list, then match exactly, otherwise match as substring\"\n",
    "    keys = ['activity_id','institution_id','source_id','experiment_id','member_id', 'table_id', 'variable_id', 'grid_label']\n",
    "    d = df\n",
    "    for skey in search.keys():\n",
    "        \n",
    "        if isinstance(search[skey], str):  # match a string as a substring\n",
    "            d = d[d[skey].str.contains(search[skey])]\n",
    "        else:\n",
    "            dk = []\n",
    "            for key in search[skey]:       # match a list of strings exactly\n",
    "                dk += [d[d[skey]==key]]\n",
    "            d = pd.concat(dk)\n",
    "            keys.remove(skey)\n",
    "    if verbose:\n",
    "        for key in keys:\n",
    "            print(key,' = ',list(d[key].unique()))      \n",
    "    return d"
   ]
  },
  {
   "cell_type": "code",
   "execution_count": null,
   "metadata": {},
   "outputs": [],
   "source": [
    "if models == 'all':\n",
    "    dfs = search_df(dfcat,variable_id=variables,experiment_id=exps,table_id=table_id,member_id=members)\n",
    "else:\n",
    "    dfs = search_df(dfcat,variable_id=variables,experiment_id=exps,table_id=table_id,source_id=models)"
   ]
  },
  {
   "cell_type": "code",
   "execution_count": null,
   "metadata": {},
   "outputs": [],
   "source": [
    "pd.set_option('display.max_rows', 500)\n",
    "pd.set_option('display.max_columns', 500)\n",
    "pd.set_option('display.width', 1000)\n",
    "\n",
    "# use this to get number of models (one per model)\n",
    "dm = dfs[['experiment_id','source_id','member_id','variable_id','grid_label']].groupby([\n",
    "#         'experiment_id','variable_id']).nunique()[['source_id']]\n",
    "# use this to get models*members\n",
    "         'experiment_id','member_id','source_id','variable_id']).nunique()[['grid_label']]\n",
    "\n",
    "table = pd.DataFrame.pivot_table(dm,\n",
    "                                 values='grid_label',\n",
    "                                 index=['source_id','variable_id','member_id'],\n",
    "                                 columns=['experiment_id'],\n",
    "                                 aggfunc=np.sum,\n",
    "                                 fill_value=0)\n",
    "print('activity_drs, table_id = ',df.activity_id.unique(),df.table_id.unique())\n",
    "print(table)"
   ]
  },
  {
   "cell_type": "code",
   "execution_count": null,
   "metadata": {},
   "outputs": [],
   "source": [
    "pd.set_option('display.max_rows', 500)\n",
    "pd.set_option('display.max_columns', 500)\n",
    "pd.set_option('display.width', 1000)\n",
    "\n",
    "dm = dfs[['experiment_id','source_id','member_id','variable_id']].groupby([\n",
    "         'experiment_id','source_id','variable_id']).nunique()[['source_id']]\n",
    "\n",
    "table = pd.DataFrame.pivot_table(dm,\n",
    "                                 values='source_id',\n",
    "                                 index=['variable_id'],\n",
    "                                 columns=['experiment_id'],\n",
    "                                 aggfunc=np.sum,\n",
    "                                 fill_value=0)\n",
    "print('activity_id, table_id = ',df.activity_id.unique(),df.table_id.unique())\n",
    "print(table)"
   ]
  }
 ],
 "metadata": {
  "kernelspec": {
   "display_name": "pangeo-Oct2019",
   "language": "python",
   "name": "pangeo-oct2019"
  },
  "language_info": {
   "codemirror_mode": {
    "name": "ipython",
    "version": 3
   },
   "file_extension": ".py",
   "mimetype": "text/x-python",
   "name": "python",
   "nbconvert_exporter": "python",
   "pygments_lexer": "ipython3",
   "version": "3.7.3"
  }
 },
 "nbformat": 4,
 "nbformat_minor": 4
}
